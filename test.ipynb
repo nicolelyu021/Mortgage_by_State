{
 "cells": [
  {
   "cell_type": "markdown",
   "source": "Create a notebook that declares constants at the top for filtering the data by a particular race and sex. Then create a scatterplot from the filtered data in which each dot represents one of the 50 states, placed at the point where&nbsp;x=&nbsp;the median property value in that state and&nbsp;y=&nbsp;the fraction of applications approved.",
   "metadata": {
    "cell_id": "62fef99e404d4428b5c12fc04b3e1c30",
    "tags": [],
    "is_collapsed": false,
    "deepnote_cell_type": "text-cell-p"
   }
  },
  {
   "cell_type": "code",
   "metadata": {
    "tags": [],
    "cell_id": "847098bf-0b11-4887-9c28-2df849590a60",
    "deepnote_to_be_reexecuted": false,
    "source_hash": "bdc13be0",
    "execution_start": 1648658409814,
    "execution_millis": 511,
    "deepnote_table_state": {
     "pageSize": 10,
     "pageIndex": 0,
     "filters": [],
     "sortBy": []
    },
    "deepnote_table_loading": false,
    "deepnote_cell_type": "code",
    "deepnote_cell_height": 808.9375
   },
   "source": "# Start writing code here...\nimport pandas as pd\nimport matplotlib.pyplot as plt\nimport numpy as np\ndf = pd.read_csv('/work/practice-project-dataset-mortgage.csv') \ndf['property_value'] = df['property_value'].replace('Exempt',np.nan).astype(float)\ndf.info()",
   "execution_count": 23,
   "outputs": [
    {
     "name": "stdout",
     "text": "<class 'pandas.core.frame.DataFrame'>\nRangeIndex: 15120 entries, 0 to 15119\nData columns (total 99 columns):\n #   Column                                    Non-Null Count  Dtype  \n---  ------                                    --------------  -----  \n 0   activity_year                             15120 non-null  int64  \n 1   lei                                       15120 non-null  object \n 2   derived_msa_md                            15120 non-null  int64  \n 3   state_code                                14929 non-null  object \n 4   county_code                               14775 non-null  float64\n 5   census_tract                              14753 non-null  float64\n 6   conforming_loan_limit                     15055 non-null  object \n 7   derived_loan_product_type                 15120 non-null  object \n 8   derived_dwelling_category                 15120 non-null  object \n 9   derived_ethnicity                         15120 non-null  object \n 10  derived_race                              15120 non-null  object \n 11  derived_sex                               15120 non-null  object \n 12  action_taken                              15120 non-null  int64  \n 13  purchaser_type                            15120 non-null  int64  \n 14  preapproval                               15120 non-null  int64  \n 15  loan_type                                 15120 non-null  int64  \n 16  loan_purpose                              15120 non-null  int64  \n 17  lien_status                               15120 non-null  int64  \n 18  reverse_mortgage                          15120 non-null  int64  \n 19  open_end_line_of_credit                   15120 non-null  int64  \n 20  business_or_commercial_purpose            15120 non-null  int64  \n 21  loan_amount                               15120 non-null  int64  \n 22  loan_to_value_ratio                       10203 non-null  object \n 23  interest_rate                             10061 non-null  object \n 24  rate_spread                               7549 non-null   object \n 25  hoepa_status                              15120 non-null  int64  \n 26  total_loan_costs                          7482 non-null   object \n 27  total_points_and_fees                     489 non-null    object \n 28  origination_charges                       7576 non-null   object \n 29  discount_points                           2817 non-null   object \n 30  lender_credits                            3098 non-null   object \n 31  loan_term                                 14906 non-null  object \n 32  prepayment_penalty_term                   1196 non-null   object \n 33  intro_rate_period                         3137 non-null   object \n 34  negative_amortization                     15120 non-null  int64  \n 35  interest_only_payment                     15120 non-null  int64  \n 36  balloon_payment                           15120 non-null  int64  \n 37  other_nonamortizing_features              15120 non-null  int64  \n 38  property_value                            12024 non-null  float64\n 39  construction_method                       15120 non-null  int64  \n 40  occupancy_type                            15120 non-null  int64  \n 41  manufactured_home_secured_property_type   15120 non-null  int64  \n 42  manufactured_home_land_property_interest  15120 non-null  int64  \n 43  total_units                               15120 non-null  object \n 44  multifamily_affordable_units              425 non-null    object \n 45  income                                    13446 non-null  float64\n 46  debt_to_income_ratio                      10304 non-null  object \n 47  applicant_credit_score_type               15120 non-null  int64  \n 48  co_applicant_credit_score_type            15120 non-null  int64  \n 49  applicant_ethnicity_1                     15116 non-null  float64\n 50  applicant_ethnicity_2                     609 non-null    float64\n 51  applicant_ethnicity_3                     5 non-null      float64\n 52  applicant_ethnicity_4                     1 non-null      float64\n 53  applicant_ethnicity_5                     0 non-null      float64\n 54  co_applicant_ethnicity_1                  15120 non-null  int64  \n 55  co_applicant_ethnicity_2                  208 non-null    float64\n 56  co_applicant_ethnicity_3                  4 non-null      float64\n 57  co_applicant_ethnicity_4                  0 non-null      float64\n 58  co_applicant_ethnicity_5                  0 non-null      float64\n 59  applicant_ethnicity_observed              15120 non-null  int64  \n 60  co_applicant_ethnicity_observed           15120 non-null  int64  \n 61  applicant_race_1                          15116 non-null  float64\n 62  applicant_race_2                          497 non-null    float64\n 63  applicant_race_3                          42 non-null     float64\n 64  applicant_race_4                          9 non-null      float64\n 65  applicant_race_5                          6 non-null      float64\n 66  co_applicant_race_1                       15120 non-null  int64  \n 67  co_applicant_race_2                       239 non-null    float64\n 68  co_applicant_race_3                       14 non-null     float64\n 69  co_applicant_race_4                       4 non-null      float64\n 70  co_applicant_race_5                       3 non-null      float64\n 71  applicant_race_observed                   15120 non-null  int64  \n 72  co_applicant_race_observed                15120 non-null  int64  \n 73  applicant_sex                             15120 non-null  int64  \n 74  co_applicant_sex                          15120 non-null  int64  \n 75  applicant_sex_observed                    15120 non-null  int64  \n 76  co_applicant_sex_observed                 15120 non-null  int64  \n 77  applicant_age                             15120 non-null  object \n 78  co_applicant_age                          15120 non-null  object \n 79  applicant_age_above_62                    13631 non-null  object \n 80  co_applicant_age_above_62                 6082 non-null   object \n 81  submission_of_application                 15120 non-null  int64  \n 82  initially_payable_to_institution          15120 non-null  int64  \n 83  aus_1                                     15120 non-null  int64  \n 84  aus_2                                     653 non-null    float64\n 85  aus_3                                     258 non-null    float64\n 86  aus_4                                     131 non-null    float64\n 87  aus_5                                     108 non-null    float64\n 88  denial_reason_1                           15120 non-null  int64  \n 89  denial_reason_2                           598 non-null    float64\n 90  denial_reason_3                           95 non-null     float64\n 91  denial_reason_4                           5 non-null      float64\n 92  tract_population                          15120 non-null  int64  \n 93  tract_minority_population_percent         15120 non-null  float64\n 94  ffiec_msa_md_median_family_income         15120 non-null  int64  \n 95  tract_to_msa_income_percentage            15120 non-null  int64  \n 96  tract_owner_occupied_units                15120 non-null  int64  \n 97  tract_one_to_four_family_homes            15120 non-null  int64  \n 98  tract_median_age_of_housing_units         15120 non-null  int64  \ndtypes: float64(30), int64(43), object(26)\nmemory usage: 11.4+ MB\n",
     "output_type": "stream"
    }
   ]
  },
  {
   "cell_type": "code",
   "source": "df.head()",
   "metadata": {
    "cell_id": "80ff7c95b8dd41d0ab92b9a968e55088",
    "tags": [],
    "deepnote_to_be_reexecuted": false,
    "source_hash": "c085b6ba",
    "execution_start": 1648658413273,
    "execution_millis": 469,
    "deepnote_cell_type": "code",
    "deepnote_cell_height": 408.046875
   },
   "outputs": [
    {
     "output_type": "execute_result",
     "execution_count": 24,
     "data": {
      "application/vnd.deepnote.dataframe.v3+json": {
       "column_count": 99,
       "row_count": 5,
       "columns": [
        {
         "name": "activity_year",
         "dtype": "int64",
         "stats": {
          "unique_count": 1,
          "nan_count": 0,
          "min": "2018",
          "max": "2018",
          "histogram": [
           {
            "bin_start": 2017.5,
            "bin_end": 2017.6,
            "count": 0
           },
           {
            "bin_start": 2017.6,
            "bin_end": 2017.7,
            "count": 0
           },
           {
            "bin_start": 2017.7,
            "bin_end": 2017.8,
            "count": 0
           },
           {
            "bin_start": 2017.8,
            "bin_end": 2017.9,
            "count": 0
           },
           {
            "bin_start": 2017.9,
            "bin_end": 2018,
            "count": 0
           },
           {
            "bin_start": 2018,
            "bin_end": 2018.1,
            "count": 5
           },
           {
            "bin_start": 2018.1,
            "bin_end": 2018.2,
            "count": 0
           },
           {
            "bin_start": 2018.2,
            "bin_end": 2018.3,
            "count": 0
           },
           {
            "bin_start": 2018.3,
            "bin_end": 2018.4,
            "count": 0
           },
           {
            "bin_start": 2018.4,
            "bin_end": 2018.5,
            "count": 0
           }
          ]
         }
        },
        {
         "name": "lei",
         "dtype": "object",
         "stats": {
          "unique_count": 5,
          "nan_count": 0,
          "categories": [
           {
            "name": "5493002QI2ILHHZH8D20",
            "count": 1
           },
           {
            "name": "549300ALNLUNS3Y53T24",
            "count": 1
           },
           {
            "name": "3 others",
            "count": 3
           }
          ]
         }
        },
        {
         "name": "derived_msa_md",
         "dtype": "int64",
         "stats": {
          "unique_count": 5,
          "nan_count": 0,
          "min": "12060",
          "max": "44060",
          "histogram": [
           {
            "bin_start": 12060,
            "bin_end": 15260,
            "count": 1
           },
           {
            "bin_start": 15260,
            "bin_end": 18460,
            "count": 1
           },
           {
            "bin_start": 18460,
            "bin_end": 21660,
            "count": 0
           },
           {
            "bin_start": 21660,
            "bin_end": 24860,
            "count": 0
           },
           {
            "bin_start": 24860,
            "bin_end": 28060,
            "count": 0
           },
           {
            "bin_start": 28060,
            "bin_end": 31260,
            "count": 2
           },
           {
            "bin_start": 31260,
            "bin_end": 34460,
            "count": 0
           },
           {
            "bin_start": 34460,
            "bin_end": 37660,
            "count": 0
           },
           {
            "bin_start": 37660,
            "bin_end": 40860,
            "count": 0
           },
           {
            "bin_start": 40860,
            "bin_end": 44060,
            "count": 1
           }
          ]
         }
        },
        {
         "name": "state_code",
         "dtype": "object",
         "stats": {
          "unique_count": 5,
          "nan_count": 0,
          "categories": [
           {
            "name": "CA",
            "count": 1
           },
           {
            "name": "WA",
            "count": 1
           },
           {
            "name": "3 others",
            "count": 3
           }
          ]
         }
        },
        {
         "name": "county_code",
         "dtype": "float64",
         "stats": {
          "unique_count": 5,
          "nan_count": 0,
          "min": "6037.0",
          "max": "53063.0",
          "histogram": [
           {
            "bin_start": 6037,
            "bin_end": 10739.6,
            "count": 1
           },
           {
            "bin_start": 10739.6,
            "bin_end": 15442.2,
            "count": 1
           },
           {
            "bin_start": 15442.2,
            "bin_end": 20144.800000000003,
            "count": 0
           },
           {
            "bin_start": 20144.800000000003,
            "bin_end": 24847.4,
            "count": 1
           },
           {
            "bin_start": 24847.4,
            "bin_end": 29550,
            "count": 0
           },
           {
            "bin_start": 29550,
            "bin_end": 34252.600000000006,
            "count": 0
           },
           {
            "bin_start": 34252.600000000006,
            "bin_end": 38955.200000000004,
            "count": 0
           },
           {
            "bin_start": 38955.200000000004,
            "bin_end": 43657.8,
            "count": 0
           },
           {
            "bin_start": 43657.8,
            "bin_end": 48360.4,
            "count": 1
           },
           {
            "bin_start": 48360.4,
            "bin_end": 53063,
            "count": 1
           }
          ]
         }
        },
        {
         "name": "census_tract",
         "dtype": "float64",
         "stats": {
          "unique_count": 5,
          "nan_count": 0,
          "min": "6037603001.0",
          "max": "53063011300.0",
          "histogram": [
           {
            "bin_start": 6037603001,
            "bin_end": 10740143830.9,
            "count": 1
           },
           {
            "bin_start": 10740143830.9,
            "bin_end": 15442684660.8,
            "count": 1
           },
           {
            "bin_start": 15442684660.8,
            "bin_end": 20145225490.699997,
            "count": 0
           },
           {
            "bin_start": 20145225490.699997,
            "bin_end": 24847766320.6,
            "count": 1
           },
           {
            "bin_start": 24847766320.6,
            "bin_end": 29550307150.5,
            "count": 0
           },
           {
            "bin_start": 29550307150.5,
            "bin_end": 34252847980.399998,
            "count": 0
           },
           {
            "bin_start": 34252847980.399998,
            "bin_end": 38955388810.299995,
            "count": 0
           },
           {
            "bin_start": 38955388810.299995,
            "bin_end": 43657929640.2,
            "count": 0
           },
           {
            "bin_start": 43657929640.2,
            "bin_end": 48360470470.1,
            "count": 1
           },
           {
            "bin_start": 48360470470.1,
            "bin_end": 53063011300,
            "count": 1
           }
          ]
         }
        },
        {
         "name": "conforming_loan_limit",
         "dtype": "object",
         "stats": {
          "unique_count": 1,
          "nan_count": 0,
          "categories": [
           {
            "name": "C",
            "count": 5
           }
          ]
         }
        },
        {
         "name": "derived_loan_product_type",
         "dtype": "object",
         "stats": {
          "unique_count": 1,
          "nan_count": 0,
          "categories": [
           {
            "name": "Conventional:First Lien",
            "count": 5
           }
          ]
         }
        },
        {
         "name": "derived_dwelling_category",
         "dtype": "object",
         "stats": {
          "unique_count": 1,
          "nan_count": 0,
          "categories": [
           {
            "name": "Single Family (1-4 Units):Site-Built",
            "count": 5
           }
          ]
         }
        },
        {
         "name": "derived_ethnicity",
         "dtype": "object",
         "stats": {
          "unique_count": 1,
          "nan_count": 0,
          "categories": [
           {
            "name": "Not Hispanic or Latino",
            "count": 5
           }
          ]
         }
        },
        {
         "name": "derived_race",
         "dtype": "object",
         "stats": {
          "unique_count": 2,
          "nan_count": 0,
          "categories": [
           {
            "name": "White",
            "count": 4
           },
           {
            "name": "Asian",
            "count": 1
           }
          ]
         }
        },
        {
         "name": "derived_sex",
         "dtype": "object",
         "stats": {
          "unique_count": 3,
          "nan_count": 0,
          "categories": [
           {
            "name": "Joint",
            "count": 3
           },
           {
            "name": "Female",
            "count": 1
           },
           {
            "name": "Male",
            "count": 1
           }
          ]
         }
        },
        {
         "name": "action_taken",
         "dtype": "int64",
         "stats": {
          "unique_count": 2,
          "nan_count": 0,
          "min": "1",
          "max": "3",
          "histogram": [
           {
            "bin_start": 1,
            "bin_end": 1.2,
            "count": 3
           },
           {
            "bin_start": 1.2,
            "bin_end": 1.4,
            "count": 0
           },
           {
            "bin_start": 1.4,
            "bin_end": 1.6,
            "count": 0
           },
           {
            "bin_start": 1.6,
            "bin_end": 1.8,
            "count": 0
           },
           {
            "bin_start": 1.8,
            "bin_end": 2,
            "count": 0
           },
           {
            "bin_start": 2,
            "bin_end": 2.2,
            "count": 0
           },
           {
            "bin_start": 2.2,
            "bin_end": 2.4000000000000004,
            "count": 0
           },
           {
            "bin_start": 2.4000000000000004,
            "bin_end": 2.6,
            "count": 0
           },
           {
            "bin_start": 2.6,
            "bin_end": 2.8,
            "count": 0
           },
           {
            "bin_start": 2.8,
            "bin_end": 3,
            "count": 2
           }
          ]
         }
        },
        {
         "name": "purchaser_type",
         "dtype": "int64",
         "stats": {
          "unique_count": 2,
          "nan_count": 0,
          "min": "0",
          "max": "3",
          "histogram": [
           {
            "bin_start": 0,
            "bin_end": 0.3,
            "count": 3
           },
           {
            "bin_start": 0.3,
            "bin_end": 0.6,
            "count": 0
           },
           {
            "bin_start": 0.6,
            "bin_end": 0.8999999999999999,
            "count": 0
           },
           {
            "bin_start": 0.8999999999999999,
            "bin_end": 1.2,
            "count": 0
           },
           {
            "bin_start": 1.2,
            "bin_end": 1.5,
            "count": 0
           },
           {
            "bin_start": 1.5,
            "bin_end": 1.7999999999999998,
            "count": 0
           },
           {
            "bin_start": 1.7999999999999998,
            "bin_end": 2.1,
            "count": 0
           },
           {
            "bin_start": 2.1,
            "bin_end": 2.4,
            "count": 0
           },
           {
            "bin_start": 2.4,
            "bin_end": 2.6999999999999997,
            "count": 0
           },
           {
            "bin_start": 2.6999999999999997,
            "bin_end": 3,
            "count": 2
           }
          ]
         }
        },
        {
         "name": "preapproval",
         "dtype": "int64",
         "stats": {
          "unique_count": 1,
          "nan_count": 0,
          "min": "2",
          "max": "2",
          "histogram": [
           {
            "bin_start": 1.5,
            "bin_end": 1.6,
            "count": 0
           },
           {
            "bin_start": 1.6,
            "bin_end": 1.7,
            "count": 0
           },
           {
            "bin_start": 1.7,
            "bin_end": 1.8,
            "count": 0
           },
           {
            "bin_start": 1.8,
            "bin_end": 1.9,
            "count": 0
           },
           {
            "bin_start": 1.9,
            "bin_end": 2,
            "count": 0
           },
           {
            "bin_start": 2,
            "bin_end": 2.1,
            "count": 5
           },
           {
            "bin_start": 2.1,
            "bin_end": 2.2,
            "count": 0
           },
           {
            "bin_start": 2.2,
            "bin_end": 2.3,
            "count": 0
           },
           {
            "bin_start": 2.3,
            "bin_end": 2.4,
            "count": 0
           },
           {
            "bin_start": 2.4,
            "bin_end": 2.5,
            "count": 0
           }
          ]
         }
        },
        {
         "name": "loan_type",
         "dtype": "int64",
         "stats": {
          "unique_count": 1,
          "nan_count": 0,
          "min": "1",
          "max": "1",
          "histogram": [
           {
            "bin_start": 0.5,
            "bin_end": 0.6,
            "count": 0
           },
           {
            "bin_start": 0.6,
            "bin_end": 0.7,
            "count": 0
           },
           {
            "bin_start": 0.7,
            "bin_end": 0.8,
            "count": 0
           },
           {
            "bin_start": 0.8,
            "bin_end": 0.9,
            "count": 0
           },
           {
            "bin_start": 0.9,
            "bin_end": 1,
            "count": 0
           },
           {
            "bin_start": 1,
            "bin_end": 1.1,
            "count": 5
           },
           {
            "bin_start": 1.1,
            "bin_end": 1.2000000000000002,
            "count": 0
           },
           {
            "bin_start": 1.2000000000000002,
            "bin_end": 1.3,
            "count": 0
           },
           {
            "bin_start": 1.3,
            "bin_end": 1.4,
            "count": 0
           },
           {
            "bin_start": 1.4,
            "bin_end": 1.5,
            "count": 0
           }
          ]
         }
        },
        {
         "name": "loan_purpose",
         "dtype": "int64",
         "stats": {
          "unique_count": 4,
          "nan_count": 0,
          "min": "1",
          "max": "32",
          "histogram": [
           {
            "bin_start": 1,
            "bin_end": 4.1,
            "count": 3
           },
           {
            "bin_start": 4.1,
            "bin_end": 7.2,
            "count": 0
           },
           {
            "bin_start": 7.2,
            "bin_end": 10.3,
            "count": 0
           },
           {
            "bin_start": 10.3,
            "bin_end": 13.4,
            "count": 0
           },
           {
            "bin_start": 13.4,
            "bin_end": 16.5,
            "count": 0
           },
           {
            "bin_start": 16.5,
            "bin_end": 19.6,
            "count": 0
           },
           {
            "bin_start": 19.6,
            "bin_end": 22.7,
            "count": 0
           },
           {
            "bin_start": 22.7,
            "bin_end": 25.8,
            "count": 0
           },
           {
            "bin_start": 25.8,
            "bin_end": 28.900000000000002,
            "count": 0
           },
           {
            "bin_start": 28.900000000000002,
            "bin_end": 32,
            "count": 2
           }
          ]
         }
        },
        {
         "name": "lien_status",
         "dtype": "int64",
         "stats": {
          "unique_count": 1,
          "nan_count": 0,
          "min": "1",
          "max": "1",
          "histogram": [
           {
            "bin_start": 0.5,
            "bin_end": 0.6,
            "count": 0
           },
           {
            "bin_start": 0.6,
            "bin_end": 0.7,
            "count": 0
           },
           {
            "bin_start": 0.7,
            "bin_end": 0.8,
            "count": 0
           },
           {
            "bin_start": 0.8,
            "bin_end": 0.9,
            "count": 0
           },
           {
            "bin_start": 0.9,
            "bin_end": 1,
            "count": 0
           },
           {
            "bin_start": 1,
            "bin_end": 1.1,
            "count": 5
           },
           {
            "bin_start": 1.1,
            "bin_end": 1.2000000000000002,
            "count": 0
           },
           {
            "bin_start": 1.2000000000000002,
            "bin_end": 1.3,
            "count": 0
           },
           {
            "bin_start": 1.3,
            "bin_end": 1.4,
            "count": 0
           },
           {
            "bin_start": 1.4,
            "bin_end": 1.5,
            "count": 0
           }
          ]
         }
        },
        {
         "name": "reverse_mortgage",
         "dtype": "int64",
         "stats": {
          "unique_count": 2,
          "nan_count": 0,
          "min": "2",
          "max": "1111",
          "histogram": [
           {
            "bin_start": 2,
            "bin_end": 112.9,
            "count": 4
           },
           {
            "bin_start": 112.9,
            "bin_end": 223.8,
            "count": 0
           },
           {
            "bin_start": 223.8,
            "bin_end": 334.70000000000005,
            "count": 0
           },
           {
            "bin_start": 334.70000000000005,
            "bin_end": 445.6,
            "count": 0
           },
           {
            "bin_start": 445.6,
            "bin_end": 556.5,
            "count": 0
           },
           {
            "bin_start": 556.5,
            "bin_end": 667.4000000000001,
            "count": 0
           },
           {
            "bin_start": 667.4000000000001,
            "bin_end": 778.3000000000001,
            "count": 0
           },
           {
            "bin_start": 778.3000000000001,
            "bin_end": 889.2,
            "count": 0
           },
           {
            "bin_start": 889.2,
            "bin_end": 1000.1,
            "count": 0
           },
           {
            "bin_start": 1000.1,
            "bin_end": 1111,
            "count": 1
           }
          ]
         }
        },
        {
         "name": "open_end_line_of_credit",
         "dtype": "int64",
         "stats": {
          "unique_count": 2,
          "nan_count": 0,
          "min": "2",
          "max": "1111",
          "histogram": [
           {
            "bin_start": 2,
            "bin_end": 112.9,
            "count": 4
           },
           {
            "bin_start": 112.9,
            "bin_end": 223.8,
            "count": 0
           },
           {
            "bin_start": 223.8,
            "bin_end": 334.70000000000005,
            "count": 0
           },
           {
            "bin_start": 334.70000000000005,
            "bin_end": 445.6,
            "count": 0
           },
           {
            "bin_start": 445.6,
            "bin_end": 556.5,
            "count": 0
           },
           {
            "bin_start": 556.5,
            "bin_end": 667.4000000000001,
            "count": 0
           },
           {
            "bin_start": 667.4000000000001,
            "bin_end": 778.3000000000001,
            "count": 0
           },
           {
            "bin_start": 778.3000000000001,
            "bin_end": 889.2,
            "count": 0
           },
           {
            "bin_start": 889.2,
            "bin_end": 1000.1,
            "count": 0
           },
           {
            "bin_start": 1000.1,
            "bin_end": 1111,
            "count": 1
           }
          ]
         }
        },
        {
         "name": "business_or_commercial_purpose",
         "dtype": "int64",
         "stats": {
          "unique_count": 2,
          "nan_count": 0,
          "min": "2",
          "max": "1111",
          "histogram": [
           {
            "bin_start": 2,
            "bin_end": 112.9,
            "count": 4
           },
           {
            "bin_start": 112.9,
            "bin_end": 223.8,
            "count": 0
           },
           {
            "bin_start": 223.8,
            "bin_end": 334.70000000000005,
            "count": 0
           },
           {
            "bin_start": 334.70000000000005,
            "bin_end": 445.6,
            "count": 0
           },
           {
            "bin_start": 445.6,
            "bin_end": 556.5,
            "count": 0
           },
           {
            "bin_start": 556.5,
            "bin_end": 667.4000000000001,
            "count": 0
           },
           {
            "bin_start": 667.4000000000001,
            "bin_end": 778.3000000000001,
            "count": 0
           },
           {
            "bin_start": 778.3000000000001,
            "bin_end": 889.2,
            "count": 0
           },
           {
            "bin_start": 889.2,
            "bin_end": 1000.1,
            "count": 0
           },
           {
            "bin_start": 1000.1,
            "bin_end": 1111,
            "count": 1
           }
          ]
         }
        },
        {
         "name": "loan_amount",
         "dtype": "int64",
         "stats": {
          "unique_count": 5,
          "nan_count": 0,
          "min": "105000",
          "max": "545000",
          "histogram": [
           {
            "bin_start": 105000,
            "bin_end": 149000,
            "count": 2
           },
           {
            "bin_start": 149000,
            "bin_end": 193000,
            "count": 1
           },
           {
            "bin_start": 193000,
            "bin_end": 237000,
            "count": 1
           },
           {
            "bin_start": 237000,
            "bin_end": 281000,
            "count": 0
           },
           {
            "bin_start": 281000,
            "bin_end": 325000,
            "count": 0
           },
           {
            "bin_start": 325000,
            "bin_end": 369000,
            "count": 0
           },
           {
            "bin_start": 369000,
            "bin_end": 413000,
            "count": 0
           },
           {
            "bin_start": 413000,
            "bin_end": 457000,
            "count": 0
           },
           {
            "bin_start": 457000,
            "bin_end": 501000,
            "count": 0
           },
           {
            "bin_start": 501000,
            "bin_end": 545000,
            "count": 1
           }
          ]
         }
        },
        {
         "name": "loan_to_value_ratio",
         "dtype": "object",
         "stats": {
          "unique_count": 5,
          "nan_count": 0,
          "categories": [
           {
            "name": "80",
            "count": 1
           },
           {
            "name": "39",
            "count": 1
           },
           {
            "name": "3 others",
            "count": 3
           }
          ]
         }
        },
        {
         "name": "interest_rate",
         "dtype": "object",
         "stats": {
          "unique_count": 4,
          "nan_count": 1,
          "categories": [
           {
            "name": "5.125",
            "count": 1
           },
           {
            "name": "3 others",
            "count": 3
           },
           {
            "name": "Missing",
            "count": 1
           }
          ]
         }
        },
        {
         "name": "rate_spread",
         "dtype": "object",
         "stats": {
          "unique_count": 4,
          "nan_count": 1,
          "categories": [
           {
            "name": "0.689",
            "count": 1
           },
           {
            "name": "3 others",
            "count": 3
           },
           {
            "name": "Missing",
            "count": 1
           }
          ]
         }
        },
        {
         "name": "hoepa_status",
         "dtype": "int64",
         "stats": {
          "unique_count": 2,
          "nan_count": 0,
          "min": "2",
          "max": "3",
          "histogram": [
           {
            "bin_start": 2,
            "bin_end": 2.1,
            "count": 3
           },
           {
            "bin_start": 2.1,
            "bin_end": 2.2,
            "count": 0
           },
           {
            "bin_start": 2.2,
            "bin_end": 2.3,
            "count": 0
           },
           {
            "bin_start": 2.3,
            "bin_end": 2.4,
            "count": 0
           },
           {
            "bin_start": 2.4,
            "bin_end": 2.5,
            "count": 0
           },
           {
            "bin_start": 2.5,
            "bin_end": 2.6,
            "count": 0
           },
           {
            "bin_start": 2.6,
            "bin_end": 2.7,
            "count": 0
           },
           {
            "bin_start": 2.7,
            "bin_end": 2.8,
            "count": 0
           },
           {
            "bin_start": 2.8,
            "bin_end": 2.9,
            "count": 0
           },
           {
            "bin_start": 2.9,
            "bin_end": 3,
            "count": 2
           }
          ]
         }
        },
        {
         "name": "total_loan_costs",
         "dtype": "object",
         "stats": {
          "unique_count": 4,
          "nan_count": 1,
          "categories": [
           {
            "name": "3367",
            "count": 1
           },
           {
            "name": "3 others",
            "count": 3
           },
           {
            "name": "Missing",
            "count": 1
           }
          ]
         }
        },
        {
         "name": "total_points_and_fees",
         "dtype": "object",
         "stats": {
          "unique_count": 1,
          "nan_count": 4,
          "categories": [
           {
            "name": "Exempt",
            "count": 1
           },
           {
            "name": "Missing",
            "count": 4
           }
          ]
         }
        },
        {
         "name": "origination_charges",
         "dtype": "object",
         "stats": {
          "unique_count": 4,
          "nan_count": 1,
          "categories": [
           {
            "name": "1758",
            "count": 1
           },
           {
            "name": "3 others",
            "count": 3
           },
           {
            "name": "Missing",
            "count": 1
           }
          ]
         }
        },
        {
         "name": "discount_points",
         "dtype": "object",
         "stats": {
          "unique_count": 1,
          "nan_count": 4,
          "categories": [
           {
            "name": "Exempt",
            "count": 1
           },
           {
            "name": "Missing",
            "count": 4
           }
          ]
         }
        },
        {
         "name": "lender_credits",
         "dtype": "object",
         "stats": {
          "unique_count": 2,
          "nan_count": 3,
          "categories": [
           {
            "name": "235.14",
            "count": 1
           },
           {
            "name": "Exempt",
            "count": 1
           },
           {
            "name": "Missing",
            "count": 3
           }
          ]
         }
        },
        {
         "name": "loan_term",
         "dtype": "object",
         "stats": {
          "unique_count": 3,
          "nan_count": 0,
          "categories": [
           {
            "name": "360",
            "count": 3
           },
           {
            "name": "372",
            "count": 1
           },
           {
            "name": "Exempt",
            "count": 1
           }
          ]
         }
        },
        {
         "name": "prepayment_penalty_term",
         "dtype": "object",
         "stats": {
          "unique_count": 1,
          "nan_count": 4,
          "categories": [
           {
            "name": "Exempt",
            "count": 1
           },
           {
            "name": "Missing",
            "count": 4
           }
          ]
         }
        },
        {
         "name": "intro_rate_period",
         "dtype": "object",
         "stats": {
          "unique_count": 2,
          "nan_count": 3,
          "categories": [
           {
            "name": "120",
            "count": 1
           },
           {
            "name": "Exempt",
            "count": 1
           },
           {
            "name": "Missing",
            "count": 3
           }
          ]
         }
        },
        {
         "name": "negative_amortization",
         "dtype": "int64",
         "stats": {
          "unique_count": 2,
          "nan_count": 0,
          "min": "2",
          "max": "1111",
          "histogram": [
           {
            "bin_start": 2,
            "bin_end": 112.9,
            "count": 4
           },
           {
            "bin_start": 112.9,
            "bin_end": 223.8,
            "count": 0
           },
           {
            "bin_start": 223.8,
            "bin_end": 334.70000000000005,
            "count": 0
           },
           {
            "bin_start": 334.70000000000005,
            "bin_end": 445.6,
            "count": 0
           },
           {
            "bin_start": 445.6,
            "bin_end": 556.5,
            "count": 0
           },
           {
            "bin_start": 556.5,
            "bin_end": 667.4000000000001,
            "count": 0
           },
           {
            "bin_start": 667.4000000000001,
            "bin_end": 778.3000000000001,
            "count": 0
           },
           {
            "bin_start": 778.3000000000001,
            "bin_end": 889.2,
            "count": 0
           },
           {
            "bin_start": 889.2,
            "bin_end": 1000.1,
            "count": 0
           },
           {
            "bin_start": 1000.1,
            "bin_end": 1111,
            "count": 1
           }
          ]
         }
        },
        {
         "name": "interest_only_payment",
         "dtype": "int64",
         "stats": {
          "unique_count": 3,
          "nan_count": 0,
          "min": "1",
          "max": "1111",
          "histogram": [
           {
            "bin_start": 1,
            "bin_end": 112,
            "count": 4
           },
           {
            "bin_start": 112,
            "bin_end": 223,
            "count": 0
           },
           {
            "bin_start": 223,
            "bin_end": 334,
            "count": 0
           },
           {
            "bin_start": 334,
            "bin_end": 445,
            "count": 0
           },
           {
            "bin_start": 445,
            "bin_end": 556,
            "count": 0
           },
           {
            "bin_start": 556,
            "bin_end": 667,
            "count": 0
           },
           {
            "bin_start": 667,
            "bin_end": 778,
            "count": 0
           },
           {
            "bin_start": 778,
            "bin_end": 889,
            "count": 0
           },
           {
            "bin_start": 889,
            "bin_end": 1000,
            "count": 0
           },
           {
            "bin_start": 1000,
            "bin_end": 1111,
            "count": 1
           }
          ]
         }
        },
        {
         "name": "balloon_payment",
         "dtype": "int64",
         "stats": {
          "unique_count": 2,
          "nan_count": 0,
          "min": "2",
          "max": "1111",
          "histogram": [
           {
            "bin_start": 2,
            "bin_end": 112.9,
            "count": 4
           },
           {
            "bin_start": 112.9,
            "bin_end": 223.8,
            "count": 0
           },
           {
            "bin_start": 223.8,
            "bin_end": 334.70000000000005,
            "count": 0
           },
           {
            "bin_start": 334.70000000000005,
            "bin_end": 445.6,
            "count": 0
           },
           {
            "bin_start": 445.6,
            "bin_end": 556.5,
            "count": 0
           },
           {
            "bin_start": 556.5,
            "bin_end": 667.4000000000001,
            "count": 0
           },
           {
            "bin_start": 667.4000000000001,
            "bin_end": 778.3000000000001,
            "count": 0
           },
           {
            "bin_start": 778.3000000000001,
            "bin_end": 889.2,
            "count": 0
           },
           {
            "bin_start": 889.2,
            "bin_end": 1000.1,
            "count": 0
           },
           {
            "bin_start": 1000.1,
            "bin_end": 1111,
            "count": 1
           }
          ]
         }
        },
        {
         "name": "other_nonamortizing_features",
         "dtype": "int64",
         "stats": {
          "unique_count": 2,
          "nan_count": 0,
          "min": "2",
          "max": "1111",
          "histogram": [
           {
            "bin_start": 2,
            "bin_end": 112.9,
            "count": 4
           },
           {
            "bin_start": 112.9,
            "bin_end": 223.8,
            "count": 0
           },
           {
            "bin_start": 223.8,
            "bin_end": 334.70000000000005,
            "count": 0
           },
           {
            "bin_start": 334.70000000000005,
            "bin_end": 445.6,
            "count": 0
           },
           {
            "bin_start": 445.6,
            "bin_end": 556.5,
            "count": 0
           },
           {
            "bin_start": 556.5,
            "bin_end": 667.4000000000001,
            "count": 0
           },
           {
            "bin_start": 667.4000000000001,
            "bin_end": 778.3000000000001,
            "count": 0
           },
           {
            "bin_start": 778.3000000000001,
            "bin_end": 889.2,
            "count": 0
           },
           {
            "bin_start": 889.2,
            "bin_end": 1000.1,
            "count": 0
           },
           {
            "bin_start": 1000.1,
            "bin_end": 1111,
            "count": 1
           }
          ]
         }
        },
        {
         "name": "property_value",
         "dtype": "float64",
         "stats": {
          "unique_count": 4,
          "nan_count": 1,
          "min": "265000.0",
          "max": "675000.0",
          "histogram": [
           {
            "bin_start": 265000,
            "bin_end": 306000,
            "count": 2
           },
           {
            "bin_start": 306000,
            "bin_end": 347000,
            "count": 0
           },
           {
            "bin_start": 347000,
            "bin_end": 388000,
            "count": 0
           },
           {
            "bin_start": 388000,
            "bin_end": 429000,
            "count": 0
           },
           {
            "bin_start": 429000,
            "bin_end": 470000,
            "count": 1
           },
           {
            "bin_start": 470000,
            "bin_end": 511000,
            "count": 0
           },
           {
            "bin_start": 511000,
            "bin_end": 552000,
            "count": 0
           },
           {
            "bin_start": 552000,
            "bin_end": 593000,
            "count": 0
           },
           {
            "bin_start": 593000,
            "bin_end": 634000,
            "count": 0
           },
           {
            "bin_start": 634000,
            "bin_end": 675000,
            "count": 1
           }
          ]
         }
        },
        {
         "name": "construction_method",
         "dtype": "int64",
         "stats": {
          "unique_count": 1,
          "nan_count": 0,
          "min": "1",
          "max": "1",
          "histogram": [
           {
            "bin_start": 0.5,
            "bin_end": 0.6,
            "count": 0
           },
           {
            "bin_start": 0.6,
            "bin_end": 0.7,
            "count": 0
           },
           {
            "bin_start": 0.7,
            "bin_end": 0.8,
            "count": 0
           },
           {
            "bin_start": 0.8,
            "bin_end": 0.9,
            "count": 0
           },
           {
            "bin_start": 0.9,
            "bin_end": 1,
            "count": 0
           },
           {
            "bin_start": 1,
            "bin_end": 1.1,
            "count": 5
           },
           {
            "bin_start": 1.1,
            "bin_end": 1.2000000000000002,
            "count": 0
           },
           {
            "bin_start": 1.2000000000000002,
            "bin_end": 1.3,
            "count": 0
           },
           {
            "bin_start": 1.3,
            "bin_end": 1.4,
            "count": 0
           },
           {
            "bin_start": 1.4,
            "bin_end": 1.5,
            "count": 0
           }
          ]
         }
        },
        {
         "name": "occupancy_type",
         "dtype": "int64",
         "stats": {
          "unique_count": 1,
          "nan_count": 0,
          "min": "1",
          "max": "1",
          "histogram": [
           {
            "bin_start": 0.5,
            "bin_end": 0.6,
            "count": 0
           },
           {
            "bin_start": 0.6,
            "bin_end": 0.7,
            "count": 0
           },
           {
            "bin_start": 0.7,
            "bin_end": 0.8,
            "count": 0
           },
           {
            "bin_start": 0.8,
            "bin_end": 0.9,
            "count": 0
           },
           {
            "bin_start": 0.9,
            "bin_end": 1,
            "count": 0
           },
           {
            "bin_start": 1,
            "bin_end": 1.1,
            "count": 5
           },
           {
            "bin_start": 1.1,
            "bin_end": 1.2000000000000002,
            "count": 0
           },
           {
            "bin_start": 1.2000000000000002,
            "bin_end": 1.3,
            "count": 0
           },
           {
            "bin_start": 1.3,
            "bin_end": 1.4,
            "count": 0
           },
           {
            "bin_start": 1.4,
            "bin_end": 1.5,
            "count": 0
           }
          ]
         }
        },
        {
         "name": "manufactured_home_secured_property_type",
         "dtype": "int64",
         "stats": {
          "unique_count": 2,
          "nan_count": 0,
          "min": "3",
          "max": "1111",
          "histogram": [
           {
            "bin_start": 3,
            "bin_end": 113.8,
            "count": 4
           },
           {
            "bin_start": 113.8,
            "bin_end": 224.6,
            "count": 0
           },
           {
            "bin_start": 224.6,
            "bin_end": 335.4,
            "count": 0
           },
           {
            "bin_start": 335.4,
            "bin_end": 446.2,
            "count": 0
           },
           {
            "bin_start": 446.2,
            "bin_end": 557,
            "count": 0
           },
           {
            "bin_start": 557,
            "bin_end": 667.8,
            "count": 0
           },
           {
            "bin_start": 667.8,
            "bin_end": 778.6,
            "count": 0
           },
           {
            "bin_start": 778.6,
            "bin_end": 889.4,
            "count": 0
           },
           {
            "bin_start": 889.4,
            "bin_end": 1000.1999999999999,
            "count": 0
           },
           {
            "bin_start": 1000.1999999999999,
            "bin_end": 1111,
            "count": 1
           }
          ]
         }
        },
        {
         "name": "manufactured_home_land_property_interest",
         "dtype": "int64",
         "stats": {
          "unique_count": 2,
          "nan_count": 0,
          "min": "5",
          "max": "1111",
          "histogram": [
           {
            "bin_start": 5,
            "bin_end": 115.6,
            "count": 4
           },
           {
            "bin_start": 115.6,
            "bin_end": 226.2,
            "count": 0
           },
           {
            "bin_start": 226.2,
            "bin_end": 336.79999999999995,
            "count": 0
           },
           {
            "bin_start": 336.79999999999995,
            "bin_end": 447.4,
            "count": 0
           },
           {
            "bin_start": 447.4,
            "bin_end": 558,
            "count": 0
           },
           {
            "bin_start": 558,
            "bin_end": 668.5999999999999,
            "count": 0
           },
           {
            "bin_start": 668.5999999999999,
            "bin_end": 779.1999999999999,
            "count": 0
           },
           {
            "bin_start": 779.1999999999999,
            "bin_end": 889.8,
            "count": 0
           },
           {
            "bin_start": 889.8,
            "bin_end": 1000.4,
            "count": 0
           },
           {
            "bin_start": 1000.4,
            "bin_end": 1111,
            "count": 1
           }
          ]
         }
        },
        {
         "name": "total_units",
         "dtype": "object",
         "stats": {
          "unique_count": 1,
          "nan_count": 0,
          "categories": [
           {
            "name": "1",
            "count": 5
           }
          ]
         }
        },
        {
         "name": "multifamily_affordable_units",
         "dtype": "object",
         "stats": {
          "unique_count": 1,
          "nan_count": 4,
          "categories": [
           {
            "name": "Exempt",
            "count": 1
           },
           {
            "name": "Missing",
            "count": 4
           }
          ]
         }
        },
        {
         "name": "income",
         "dtype": "float64",
         "stats": {
          "unique_count": 5,
          "nan_count": 0,
          "min": "25.0",
          "max": "185.0",
          "histogram": [
           {
            "bin_start": 25,
            "bin_end": 41,
            "count": 3
           },
           {
            "bin_start": 41,
            "bin_end": 57,
            "count": 0
           },
           {
            "bin_start": 57,
            "bin_end": 73,
            "count": 0
           },
           {
            "bin_start": 73,
            "bin_end": 89,
            "count": 0
           },
           {
            "bin_start": 89,
            "bin_end": 105,
            "count": 0
           },
           {
            "bin_start": 105,
            "bin_end": 121,
            "count": 0
           },
           {
            "bin_start": 121,
            "bin_end": 137,
            "count": 0
           },
           {
            "bin_start": 137,
            "bin_end": 153,
            "count": 0
           },
           {
            "bin_start": 153,
            "bin_end": 169,
            "count": 1
           },
           {
            "bin_start": 169,
            "bin_end": 185,
            "count": 1
           }
          ]
         }
        },
        {
         "name": "debt_to_income_ratio",
         "dtype": "object",
         "stats": {
          "unique_count": 4,
          "nan_count": 0,
          "categories": [
           {
            "name": "44",
            "count": 2
           },
           {
            "name": "50%-60%",
            "count": 1
           },
           {
            "name": "2 others",
            "count": 2
           }
          ]
         }
        },
        {
         "name": "applicant_credit_score_type",
         "dtype": "int64",
         "stats": {
          "unique_count": 4,
          "nan_count": 0,
          "min": "1",
          "max": "1111",
          "histogram": [
           {
            "bin_start": 1,
            "bin_end": 112,
            "count": 4
           },
           {
            "bin_start": 112,
            "bin_end": 223,
            "count": 0
           },
           {
            "bin_start": 223,
            "bin_end": 334,
            "count": 0
           },
           {
            "bin_start": 334,
            "bin_end": 445,
            "count": 0
           },
           {
            "bin_start": 445,
            "bin_end": 556,
            "count": 0
           },
           {
            "bin_start": 556,
            "bin_end": 667,
            "count": 0
           },
           {
            "bin_start": 667,
            "bin_end": 778,
            "count": 0
           },
           {
            "bin_start": 778,
            "bin_end": 889,
            "count": 0
           },
           {
            "bin_start": 889,
            "bin_end": 1000,
            "count": 0
           },
           {
            "bin_start": 1000,
            "bin_end": 1111,
            "count": 1
           }
          ]
         }
        },
        {
         "name": "co_applicant_credit_score_type",
         "dtype": "int64",
         "stats": {
          "unique_count": 4,
          "nan_count": 0,
          "min": "1",
          "max": "1111",
          "histogram": [
           {
            "bin_start": 1,
            "bin_end": 112,
            "count": 4
           },
           {
            "bin_start": 112,
            "bin_end": 223,
            "count": 0
           },
           {
            "bin_start": 223,
            "bin_end": 334,
            "count": 0
           },
           {
            "bin_start": 334,
            "bin_end": 445,
            "count": 0
           },
           {
            "bin_start": 445,
            "bin_end": 556,
            "count": 0
           },
           {
            "bin_start": 556,
            "bin_end": 667,
            "count": 0
           },
           {
            "bin_start": 667,
            "bin_end": 778,
            "count": 0
           },
           {
            "bin_start": 778,
            "bin_end": 889,
            "count": 0
           },
           {
            "bin_start": 889,
            "bin_end": 1000,
            "count": 0
           },
           {
            "bin_start": 1000,
            "bin_end": 1111,
            "count": 1
           }
          ]
         }
        },
        {
         "name": "applicant_ethnicity_1",
         "dtype": "float64",
         "stats": {
          "unique_count": 1,
          "nan_count": 0,
          "min": "2.0",
          "max": "2.0",
          "histogram": [
           {
            "bin_start": 1.5,
            "bin_end": 1.6,
            "count": 0
           },
           {
            "bin_start": 1.6,
            "bin_end": 1.7,
            "count": 0
           },
           {
            "bin_start": 1.7,
            "bin_end": 1.8,
            "count": 0
           },
           {
            "bin_start": 1.8,
            "bin_end": 1.9,
            "count": 0
           },
           {
            "bin_start": 1.9,
            "bin_end": 2,
            "count": 0
           },
           {
            "bin_start": 2,
            "bin_end": 2.1,
            "count": 5
           },
           {
            "bin_start": 2.1,
            "bin_end": 2.2,
            "count": 0
           },
           {
            "bin_start": 2.2,
            "bin_end": 2.3,
            "count": 0
           },
           {
            "bin_start": 2.3,
            "bin_end": 2.4,
            "count": 0
           },
           {
            "bin_start": 2.4,
            "bin_end": 2.5,
            "count": 0
           }
          ]
         }
        },
        {
         "name": "applicant_ethnicity_2",
         "dtype": "float64",
         "stats": {
          "unique_count": 0,
          "nan_count": 5,
          "min": null,
          "max": null,
          "histogram": [
           {
            "bin_start": 0,
            "bin_end": 0.1,
            "count": 0
           },
           {
            "bin_start": 0.1,
            "bin_end": 0.2,
            "count": 0
           },
           {
            "bin_start": 0.2,
            "bin_end": 0.30000000000000004,
            "count": 0
           },
           {
            "bin_start": 0.30000000000000004,
            "bin_end": 0.4,
            "count": 0
           },
           {
            "bin_start": 0.4,
            "bin_end": 0.5,
            "count": 0
           },
           {
            "bin_start": 0.5,
            "bin_end": 0.6000000000000001,
            "count": 0
           },
           {
            "bin_start": 0.6000000000000001,
            "bin_end": 0.7000000000000001,
            "count": 0
           },
           {
            "bin_start": 0.7000000000000001,
            "bin_end": 0.8,
            "count": 0
           },
           {
            "bin_start": 0.8,
            "bin_end": 0.9,
            "count": 0
           },
           {
            "bin_start": 0.9,
            "bin_end": 1,
            "count": 0
           }
          ]
         }
        },
        {
         "name": "applicant_ethnicity_3",
         "dtype": "float64",
         "stats": {
          "unique_count": 0,
          "nan_count": 5,
          "min": null,
          "max": null,
          "histogram": [
           {
            "bin_start": 0,
            "bin_end": 0.1,
            "count": 0
           },
           {
            "bin_start": 0.1,
            "bin_end": 0.2,
            "count": 0
           },
           {
            "bin_start": 0.2,
            "bin_end": 0.30000000000000004,
            "count": 0
           },
           {
            "bin_start": 0.30000000000000004,
            "bin_end": 0.4,
            "count": 0
           },
           {
            "bin_start": 0.4,
            "bin_end": 0.5,
            "count": 0
           },
           {
            "bin_start": 0.5,
            "bin_end": 0.6000000000000001,
            "count": 0
           },
           {
            "bin_start": 0.6000000000000001,
            "bin_end": 0.7000000000000001,
            "count": 0
           },
           {
            "bin_start": 0.7000000000000001,
            "bin_end": 0.8,
            "count": 0
           },
           {
            "bin_start": 0.8,
            "bin_end": 0.9,
            "count": 0
           },
           {
            "bin_start": 0.9,
            "bin_end": 1,
            "count": 0
           }
          ]
         }
        },
        {
         "name": "applicant_ethnicity_4",
         "dtype": "float64",
         "stats": {
          "unique_count": 0,
          "nan_count": 5,
          "min": null,
          "max": null,
          "histogram": [
           {
            "bin_start": 0,
            "bin_end": 0.1,
            "count": 0
           },
           {
            "bin_start": 0.1,
            "bin_end": 0.2,
            "count": 0
           },
           {
            "bin_start": 0.2,
            "bin_end": 0.30000000000000004,
            "count": 0
           },
           {
            "bin_start": 0.30000000000000004,
            "bin_end": 0.4,
            "count": 0
           },
           {
            "bin_start": 0.4,
            "bin_end": 0.5,
            "count": 0
           },
           {
            "bin_start": 0.5,
            "bin_end": 0.6000000000000001,
            "count": 0
           },
           {
            "bin_start": 0.6000000000000001,
            "bin_end": 0.7000000000000001,
            "count": 0
           },
           {
            "bin_start": 0.7000000000000001,
            "bin_end": 0.8,
            "count": 0
           },
           {
            "bin_start": 0.8,
            "bin_end": 0.9,
            "count": 0
           },
           {
            "bin_start": 0.9,
            "bin_end": 1,
            "count": 0
           }
          ]
         }
        },
        {
         "name": "applicant_ethnicity_5",
         "dtype": "float64",
         "stats": {
          "unique_count": 0,
          "nan_count": 5,
          "min": null,
          "max": null,
          "histogram": [
           {
            "bin_start": 0,
            "bin_end": 0.1,
            "count": 0
           },
           {
            "bin_start": 0.1,
            "bin_end": 0.2,
            "count": 0
           },
           {
            "bin_start": 0.2,
            "bin_end": 0.30000000000000004,
            "count": 0
           },
           {
            "bin_start": 0.30000000000000004,
            "bin_end": 0.4,
            "count": 0
           },
           {
            "bin_start": 0.4,
            "bin_end": 0.5,
            "count": 0
           },
           {
            "bin_start": 0.5,
            "bin_end": 0.6000000000000001,
            "count": 0
           },
           {
            "bin_start": 0.6000000000000001,
            "bin_end": 0.7000000000000001,
            "count": 0
           },
           {
            "bin_start": 0.7000000000000001,
            "bin_end": 0.8,
            "count": 0
           },
           {
            "bin_start": 0.8,
            "bin_end": 0.9,
            "count": 0
           },
           {
            "bin_start": 0.9,
            "bin_end": 1,
            "count": 0
           }
          ]
         }
        },
        {
         "name": "co_applicant_ethnicity_1",
         "dtype": "int64",
         "stats": {
          "unique_count": 2,
          "nan_count": 0,
          "min": "2",
          "max": "5",
          "histogram": [
           {
            "bin_start": 2,
            "bin_end": 2.3,
            "count": 3
           },
           {
            "bin_start": 2.3,
            "bin_end": 2.6,
            "count": 0
           },
           {
            "bin_start": 2.6,
            "bin_end": 2.9,
            "count": 0
           },
           {
            "bin_start": 2.9,
            "bin_end": 3.2,
            "count": 0
           },
           {
            "bin_start": 3.2,
            "bin_end": 3.5,
            "count": 0
           },
           {
            "bin_start": 3.5,
            "bin_end": 3.8,
            "count": 0
           },
           {
            "bin_start": 3.8,
            "bin_end": 4.1,
            "count": 0
           },
           {
            "bin_start": 4.1,
            "bin_end": 4.4,
            "count": 0
           },
           {
            "bin_start": 4.4,
            "bin_end": 4.699999999999999,
            "count": 0
           },
           {
            "bin_start": 4.699999999999999,
            "bin_end": 5,
            "count": 2
           }
          ]
         }
        },
        {
         "name": "co_applicant_ethnicity_2",
         "dtype": "float64",
         "stats": {
          "unique_count": 0,
          "nan_count": 5,
          "min": null,
          "max": null,
          "histogram": [
           {
            "bin_start": 0,
            "bin_end": 0.1,
            "count": 0
           },
           {
            "bin_start": 0.1,
            "bin_end": 0.2,
            "count": 0
           },
           {
            "bin_start": 0.2,
            "bin_end": 0.30000000000000004,
            "count": 0
           },
           {
            "bin_start": 0.30000000000000004,
            "bin_end": 0.4,
            "count": 0
           },
           {
            "bin_start": 0.4,
            "bin_end": 0.5,
            "count": 0
           },
           {
            "bin_start": 0.5,
            "bin_end": 0.6000000000000001,
            "count": 0
           },
           {
            "bin_start": 0.6000000000000001,
            "bin_end": 0.7000000000000001,
            "count": 0
           },
           {
            "bin_start": 0.7000000000000001,
            "bin_end": 0.8,
            "count": 0
           },
           {
            "bin_start": 0.8,
            "bin_end": 0.9,
            "count": 0
           },
           {
            "bin_start": 0.9,
            "bin_end": 1,
            "count": 0
           }
          ]
         }
        },
        {
         "name": "co_applicant_ethnicity_3",
         "dtype": "float64",
         "stats": {
          "unique_count": 0,
          "nan_count": 5,
          "min": null,
          "max": null,
          "histogram": [
           {
            "bin_start": 0,
            "bin_end": 0.1,
            "count": 0
           },
           {
            "bin_start": 0.1,
            "bin_end": 0.2,
            "count": 0
           },
           {
            "bin_start": 0.2,
            "bin_end": 0.30000000000000004,
            "count": 0
           },
           {
            "bin_start": 0.30000000000000004,
            "bin_end": 0.4,
            "count": 0
           },
           {
            "bin_start": 0.4,
            "bin_end": 0.5,
            "count": 0
           },
           {
            "bin_start": 0.5,
            "bin_end": 0.6000000000000001,
            "count": 0
           },
           {
            "bin_start": 0.6000000000000001,
            "bin_end": 0.7000000000000001,
            "count": 0
           },
           {
            "bin_start": 0.7000000000000001,
            "bin_end": 0.8,
            "count": 0
           },
           {
            "bin_start": 0.8,
            "bin_end": 0.9,
            "count": 0
           },
           {
            "bin_start": 0.9,
            "bin_end": 1,
            "count": 0
           }
          ]
         }
        },
        {
         "name": "co_applicant_ethnicity_4",
         "dtype": "float64",
         "stats": {
          "unique_count": 0,
          "nan_count": 5,
          "min": null,
          "max": null,
          "histogram": [
           {
            "bin_start": 0,
            "bin_end": 0.1,
            "count": 0
           },
           {
            "bin_start": 0.1,
            "bin_end": 0.2,
            "count": 0
           },
           {
            "bin_start": 0.2,
            "bin_end": 0.30000000000000004,
            "count": 0
           },
           {
            "bin_start": 0.30000000000000004,
            "bin_end": 0.4,
            "count": 0
           },
           {
            "bin_start": 0.4,
            "bin_end": 0.5,
            "count": 0
           },
           {
            "bin_start": 0.5,
            "bin_end": 0.6000000000000001,
            "count": 0
           },
           {
            "bin_start": 0.6000000000000001,
            "bin_end": 0.7000000000000001,
            "count": 0
           },
           {
            "bin_start": 0.7000000000000001,
            "bin_end": 0.8,
            "count": 0
           },
           {
            "bin_start": 0.8,
            "bin_end": 0.9,
            "count": 0
           },
           {
            "bin_start": 0.9,
            "bin_end": 1,
            "count": 0
           }
          ]
         }
        },
        {
         "name": "co_applicant_ethnicity_5",
         "dtype": "float64",
         "stats": {
          "unique_count": 0,
          "nan_count": 5,
          "min": null,
          "max": null,
          "histogram": [
           {
            "bin_start": 0,
            "bin_end": 0.1,
            "count": 0
           },
           {
            "bin_start": 0.1,
            "bin_end": 0.2,
            "count": 0
           },
           {
            "bin_start": 0.2,
            "bin_end": 0.30000000000000004,
            "count": 0
           },
           {
            "bin_start": 0.30000000000000004,
            "bin_end": 0.4,
            "count": 0
           },
           {
            "bin_start": 0.4,
            "bin_end": 0.5,
            "count": 0
           },
           {
            "bin_start": 0.5,
            "bin_end": 0.6000000000000001,
            "count": 0
           },
           {
            "bin_start": 0.6000000000000001,
            "bin_end": 0.7000000000000001,
            "count": 0
           },
           {
            "bin_start": 0.7000000000000001,
            "bin_end": 0.8,
            "count": 0
           },
           {
            "bin_start": 0.8,
            "bin_end": 0.9,
            "count": 0
           },
           {
            "bin_start": 0.9,
            "bin_end": 1,
            "count": 0
           }
          ]
         }
        },
        {
         "name": "applicant_ethnicity_observed",
         "dtype": "int64",
         "stats": {
          "unique_count": 1,
          "nan_count": 0,
          "min": "2",
          "max": "2",
          "histogram": [
           {
            "bin_start": 1.5,
            "bin_end": 1.6,
            "count": 0
           },
           {
            "bin_start": 1.6,
            "bin_end": 1.7,
            "count": 0
           },
           {
            "bin_start": 1.7,
            "bin_end": 1.8,
            "count": 0
           },
           {
            "bin_start": 1.8,
            "bin_end": 1.9,
            "count": 0
           },
           {
            "bin_start": 1.9,
            "bin_end": 2,
            "count": 0
           },
           {
            "bin_start": 2,
            "bin_end": 2.1,
            "count": 5
           },
           {
            "bin_start": 2.1,
            "bin_end": 2.2,
            "count": 0
           },
           {
            "bin_start": 2.2,
            "bin_end": 2.3,
            "count": 0
           },
           {
            "bin_start": 2.3,
            "bin_end": 2.4,
            "count": 0
           },
           {
            "bin_start": 2.4,
            "bin_end": 2.5,
            "count": 0
           }
          ]
         }
        },
        {
         "name": "co_applicant_ethnicity_observed",
         "dtype": "int64",
         "stats": {
          "unique_count": 2,
          "nan_count": 0,
          "min": "2",
          "max": "4",
          "histogram": [
           {
            "bin_start": 2,
            "bin_end": 2.2,
            "count": 3
           },
           {
            "bin_start": 2.2,
            "bin_end": 2.4,
            "count": 0
           },
           {
            "bin_start": 2.4,
            "bin_end": 2.6,
            "count": 0
           },
           {
            "bin_start": 2.6,
            "bin_end": 2.8,
            "count": 0
           },
           {
            "bin_start": 2.8,
            "bin_end": 3,
            "count": 0
           },
           {
            "bin_start": 3,
            "bin_end": 3.2,
            "count": 0
           },
           {
            "bin_start": 3.2,
            "bin_end": 3.4000000000000004,
            "count": 0
           },
           {
            "bin_start": 3.4000000000000004,
            "bin_end": 3.6,
            "count": 0
           },
           {
            "bin_start": 3.6,
            "bin_end": 3.8,
            "count": 0
           },
           {
            "bin_start": 3.8,
            "bin_end": 4,
            "count": 2
           }
          ]
         }
        },
        {
         "name": "applicant_race_1",
         "dtype": "float64",
         "stats": {
          "unique_count": 2,
          "nan_count": 0,
          "min": "2.0",
          "max": "5.0",
          "histogram": [
           {
            "bin_start": 2,
            "bin_end": 2.3,
            "count": 1
           },
           {
            "bin_start": 2.3,
            "bin_end": 2.6,
            "count": 0
           },
           {
            "bin_start": 2.6,
            "bin_end": 2.9,
            "count": 0
           },
           {
            "bin_start": 2.9,
            "bin_end": 3.2,
            "count": 0
           },
           {
            "bin_start": 3.2,
            "bin_end": 3.5,
            "count": 0
           },
           {
            "bin_start": 3.5,
            "bin_end": 3.8,
            "count": 0
           },
           {
            "bin_start": 3.8,
            "bin_end": 4.1,
            "count": 0
           },
           {
            "bin_start": 4.1,
            "bin_end": 4.4,
            "count": 0
           },
           {
            "bin_start": 4.4,
            "bin_end": 4.699999999999999,
            "count": 0
           },
           {
            "bin_start": 4.699999999999999,
            "bin_end": 5,
            "count": 4
           }
          ]
         }
        },
        {
         "name": "applicant_race_2",
         "dtype": "float64",
         "stats": {
          "unique_count": 1,
          "nan_count": 4,
          "min": "22.0",
          "max": "22.0",
          "histogram": [
           {
            "bin_start": 21.5,
            "bin_end": 21.6,
            "count": 0
           },
           {
            "bin_start": 21.6,
            "bin_end": 21.7,
            "count": 0
           },
           {
            "bin_start": 21.7,
            "bin_end": 21.8,
            "count": 0
           },
           {
            "bin_start": 21.8,
            "bin_end": 21.9,
            "count": 0
           },
           {
            "bin_start": 21.9,
            "bin_end": 22,
            "count": 0
           },
           {
            "bin_start": 22,
            "bin_end": 22.1,
            "count": 1
           },
           {
            "bin_start": 22.1,
            "bin_end": 22.2,
            "count": 0
           },
           {
            "bin_start": 22.2,
            "bin_end": 22.3,
            "count": 0
           },
           {
            "bin_start": 22.3,
            "bin_end": 22.4,
            "count": 0
           },
           {
            "bin_start": 22.4,
            "bin_end": 22.5,
            "count": 0
           }
          ]
         }
        },
        {
         "name": "applicant_race_3",
         "dtype": "float64",
         "stats": {
          "unique_count": 0,
          "nan_count": 5,
          "min": null,
          "max": null,
          "histogram": [
           {
            "bin_start": 0,
            "bin_end": 0.1,
            "count": 0
           },
           {
            "bin_start": 0.1,
            "bin_end": 0.2,
            "count": 0
           },
           {
            "bin_start": 0.2,
            "bin_end": 0.30000000000000004,
            "count": 0
           },
           {
            "bin_start": 0.30000000000000004,
            "bin_end": 0.4,
            "count": 0
           },
           {
            "bin_start": 0.4,
            "bin_end": 0.5,
            "count": 0
           },
           {
            "bin_start": 0.5,
            "bin_end": 0.6000000000000001,
            "count": 0
           },
           {
            "bin_start": 0.6000000000000001,
            "bin_end": 0.7000000000000001,
            "count": 0
           },
           {
            "bin_start": 0.7000000000000001,
            "bin_end": 0.8,
            "count": 0
           },
           {
            "bin_start": 0.8,
            "bin_end": 0.9,
            "count": 0
           },
           {
            "bin_start": 0.9,
            "bin_end": 1,
            "count": 0
           }
          ]
         }
        },
        {
         "name": "applicant_race_4",
         "dtype": "float64",
         "stats": {
          "unique_count": 0,
          "nan_count": 5,
          "min": null,
          "max": null,
          "histogram": [
           {
            "bin_start": 0,
            "bin_end": 0.1,
            "count": 0
           },
           {
            "bin_start": 0.1,
            "bin_end": 0.2,
            "count": 0
           },
           {
            "bin_start": 0.2,
            "bin_end": 0.30000000000000004,
            "count": 0
           },
           {
            "bin_start": 0.30000000000000004,
            "bin_end": 0.4,
            "count": 0
           },
           {
            "bin_start": 0.4,
            "bin_end": 0.5,
            "count": 0
           },
           {
            "bin_start": 0.5,
            "bin_end": 0.6000000000000001,
            "count": 0
           },
           {
            "bin_start": 0.6000000000000001,
            "bin_end": 0.7000000000000001,
            "count": 0
           },
           {
            "bin_start": 0.7000000000000001,
            "bin_end": 0.8,
            "count": 0
           },
           {
            "bin_start": 0.8,
            "bin_end": 0.9,
            "count": 0
           },
           {
            "bin_start": 0.9,
            "bin_end": 1,
            "count": 0
           }
          ]
         }
        },
        {
         "name": "applicant_race_5",
         "dtype": "float64",
         "stats": {
          "unique_count": 0,
          "nan_count": 5,
          "min": null,
          "max": null,
          "histogram": [
           {
            "bin_start": 0,
            "bin_end": 0.1,
            "count": 0
           },
           {
            "bin_start": 0.1,
            "bin_end": 0.2,
            "count": 0
           },
           {
            "bin_start": 0.2,
            "bin_end": 0.30000000000000004,
            "count": 0
           },
           {
            "bin_start": 0.30000000000000004,
            "bin_end": 0.4,
            "count": 0
           },
           {
            "bin_start": 0.4,
            "bin_end": 0.5,
            "count": 0
           },
           {
            "bin_start": 0.5,
            "bin_end": 0.6000000000000001,
            "count": 0
           },
           {
            "bin_start": 0.6000000000000001,
            "bin_end": 0.7000000000000001,
            "count": 0
           },
           {
            "bin_start": 0.7000000000000001,
            "bin_end": 0.8,
            "count": 0
           },
           {
            "bin_start": 0.8,
            "bin_end": 0.9,
            "count": 0
           },
           {
            "bin_start": 0.9,
            "bin_end": 1,
            "count": 0
           }
          ]
         }
        },
        {
         "name": "co_applicant_race_1",
         "dtype": "int64",
         "stats": {
          "unique_count": 3,
          "nan_count": 0,
          "min": "2",
          "max": "8",
          "histogram": [
           {
            "bin_start": 2,
            "bin_end": 2.6,
            "count": 1
           },
           {
            "bin_start": 2.6,
            "bin_end": 3.2,
            "count": 0
           },
           {
            "bin_start": 3.2,
            "bin_end": 3.8,
            "count": 0
           },
           {
            "bin_start": 3.8,
            "bin_end": 4.4,
            "count": 0
           },
           {
            "bin_start": 4.4,
            "bin_end": 5,
            "count": 0
           },
           {
            "bin_start": 5,
            "bin_end": 5.6,
            "count": 2
           },
           {
            "bin_start": 5.6,
            "bin_end": 6.2,
            "count": 0
           },
           {
            "bin_start": 6.2,
            "bin_end": 6.8,
            "count": 0
           },
           {
            "bin_start": 6.8,
            "bin_end": 7.3999999999999995,
            "count": 0
           },
           {
            "bin_start": 7.3999999999999995,
            "bin_end": 8,
            "count": 2
           }
          ]
         }
        },
        {
         "name": "co_applicant_race_2",
         "dtype": "float64",
         "stats": {
          "unique_count": 1,
          "nan_count": 4,
          "min": "22.0",
          "max": "22.0",
          "histogram": [
           {
            "bin_start": 21.5,
            "bin_end": 21.6,
            "count": 0
           },
           {
            "bin_start": 21.6,
            "bin_end": 21.7,
            "count": 0
           },
           {
            "bin_start": 21.7,
            "bin_end": 21.8,
            "count": 0
           },
           {
            "bin_start": 21.8,
            "bin_end": 21.9,
            "count": 0
           },
           {
            "bin_start": 21.9,
            "bin_end": 22,
            "count": 0
           },
           {
            "bin_start": 22,
            "bin_end": 22.1,
            "count": 1
           },
           {
            "bin_start": 22.1,
            "bin_end": 22.2,
            "count": 0
           },
           {
            "bin_start": 22.2,
            "bin_end": 22.3,
            "count": 0
           },
           {
            "bin_start": 22.3,
            "bin_end": 22.4,
            "count": 0
           },
           {
            "bin_start": 22.4,
            "bin_end": 22.5,
            "count": 0
           }
          ]
         }
        },
        {
         "name": "co_applicant_race_3",
         "dtype": "float64",
         "stats": {
          "unique_count": 0,
          "nan_count": 5,
          "min": null,
          "max": null,
          "histogram": [
           {
            "bin_start": 0,
            "bin_end": 0.1,
            "count": 0
           },
           {
            "bin_start": 0.1,
            "bin_end": 0.2,
            "count": 0
           },
           {
            "bin_start": 0.2,
            "bin_end": 0.30000000000000004,
            "count": 0
           },
           {
            "bin_start": 0.30000000000000004,
            "bin_end": 0.4,
            "count": 0
           },
           {
            "bin_start": 0.4,
            "bin_end": 0.5,
            "count": 0
           },
           {
            "bin_start": 0.5,
            "bin_end": 0.6000000000000001,
            "count": 0
           },
           {
            "bin_start": 0.6000000000000001,
            "bin_end": 0.7000000000000001,
            "count": 0
           },
           {
            "bin_start": 0.7000000000000001,
            "bin_end": 0.8,
            "count": 0
           },
           {
            "bin_start": 0.8,
            "bin_end": 0.9,
            "count": 0
           },
           {
            "bin_start": 0.9,
            "bin_end": 1,
            "count": 0
           }
          ]
         }
        },
        {
         "name": "co_applicant_race_4",
         "dtype": "float64",
         "stats": {
          "unique_count": 0,
          "nan_count": 5,
          "min": null,
          "max": null,
          "histogram": [
           {
            "bin_start": 0,
            "bin_end": 0.1,
            "count": 0
           },
           {
            "bin_start": 0.1,
            "bin_end": 0.2,
            "count": 0
           },
           {
            "bin_start": 0.2,
            "bin_end": 0.30000000000000004,
            "count": 0
           },
           {
            "bin_start": 0.30000000000000004,
            "bin_end": 0.4,
            "count": 0
           },
           {
            "bin_start": 0.4,
            "bin_end": 0.5,
            "count": 0
           },
           {
            "bin_start": 0.5,
            "bin_end": 0.6000000000000001,
            "count": 0
           },
           {
            "bin_start": 0.6000000000000001,
            "bin_end": 0.7000000000000001,
            "count": 0
           },
           {
            "bin_start": 0.7000000000000001,
            "bin_end": 0.8,
            "count": 0
           },
           {
            "bin_start": 0.8,
            "bin_end": 0.9,
            "count": 0
           },
           {
            "bin_start": 0.9,
            "bin_end": 1,
            "count": 0
           }
          ]
         }
        },
        {
         "name": "co_applicant_race_5",
         "dtype": "float64",
         "stats": {
          "unique_count": 0,
          "nan_count": 5,
          "min": null,
          "max": null,
          "histogram": [
           {
            "bin_start": 0,
            "bin_end": 0.1,
            "count": 0
           },
           {
            "bin_start": 0.1,
            "bin_end": 0.2,
            "count": 0
           },
           {
            "bin_start": 0.2,
            "bin_end": 0.30000000000000004,
            "count": 0
           },
           {
            "bin_start": 0.30000000000000004,
            "bin_end": 0.4,
            "count": 0
           },
           {
            "bin_start": 0.4,
            "bin_end": 0.5,
            "count": 0
           },
           {
            "bin_start": 0.5,
            "bin_end": 0.6000000000000001,
            "count": 0
           },
           {
            "bin_start": 0.6000000000000001,
            "bin_end": 0.7000000000000001,
            "count": 0
           },
           {
            "bin_start": 0.7000000000000001,
            "bin_end": 0.8,
            "count": 0
           },
           {
            "bin_start": 0.8,
            "bin_end": 0.9,
            "count": 0
           },
           {
            "bin_start": 0.9,
            "bin_end": 1,
            "count": 0
           }
          ]
         }
        },
        {
         "name": "applicant_race_observed",
         "dtype": "int64",
         "stats": {
          "unique_count": 1,
          "nan_count": 0,
          "min": "2",
          "max": "2",
          "histogram": [
           {
            "bin_start": 1.5,
            "bin_end": 1.6,
            "count": 0
           },
           {
            "bin_start": 1.6,
            "bin_end": 1.7,
            "count": 0
           },
           {
            "bin_start": 1.7,
            "bin_end": 1.8,
            "count": 0
           },
           {
            "bin_start": 1.8,
            "bin_end": 1.9,
            "count": 0
           },
           {
            "bin_start": 1.9,
            "bin_end": 2,
            "count": 0
           },
           {
            "bin_start": 2,
            "bin_end": 2.1,
            "count": 5
           },
           {
            "bin_start": 2.1,
            "bin_end": 2.2,
            "count": 0
           },
           {
            "bin_start": 2.2,
            "bin_end": 2.3,
            "count": 0
           },
           {
            "bin_start": 2.3,
            "bin_end": 2.4,
            "count": 0
           },
           {
            "bin_start": 2.4,
            "bin_end": 2.5,
            "count": 0
           }
          ]
         }
        },
        {
         "name": "co_applicant_race_observed",
         "dtype": "int64",
         "stats": {
          "unique_count": 2,
          "nan_count": 0,
          "min": "2",
          "max": "4",
          "histogram": [
           {
            "bin_start": 2,
            "bin_end": 2.2,
            "count": 3
           },
           {
            "bin_start": 2.2,
            "bin_end": 2.4,
            "count": 0
           },
           {
            "bin_start": 2.4,
            "bin_end": 2.6,
            "count": 0
           },
           {
            "bin_start": 2.6,
            "bin_end": 2.8,
            "count": 0
           },
           {
            "bin_start": 2.8,
            "bin_end": 3,
            "count": 0
           },
           {
            "bin_start": 3,
            "bin_end": 3.2,
            "count": 0
           },
           {
            "bin_start": 3.2,
            "bin_end": 3.4000000000000004,
            "count": 0
           },
           {
            "bin_start": 3.4000000000000004,
            "bin_end": 3.6,
            "count": 0
           },
           {
            "bin_start": 3.6,
            "bin_end": 3.8,
            "count": 0
           },
           {
            "bin_start": 3.8,
            "bin_end": 4,
            "count": 2
           }
          ]
         }
        },
        {
         "name": "applicant_sex",
         "dtype": "int64",
         "stats": {
          "unique_count": 2,
          "nan_count": 0,
          "min": "1",
          "max": "2",
          "histogram": [
           {
            "bin_start": 1,
            "bin_end": 1.1,
            "count": 4
           },
           {
            "bin_start": 1.1,
            "bin_end": 1.2,
            "count": 0
           },
           {
            "bin_start": 1.2,
            "bin_end": 1.3,
            "count": 0
           },
           {
            "bin_start": 1.3,
            "bin_end": 1.4,
            "count": 0
           },
           {
            "bin_start": 1.4,
            "bin_end": 1.5,
            "count": 0
           },
           {
            "bin_start": 1.5,
            "bin_end": 1.6,
            "count": 0
           },
           {
            "bin_start": 1.6,
            "bin_end": 1.7000000000000002,
            "count": 0
           },
           {
            "bin_start": 1.7000000000000002,
            "bin_end": 1.8,
            "count": 0
           },
           {
            "bin_start": 1.8,
            "bin_end": 1.9,
            "count": 0
           },
           {
            "bin_start": 1.9,
            "bin_end": 2,
            "count": 1
           }
          ]
         }
        },
        {
         "name": "co_applicant_sex",
         "dtype": "int64",
         "stats": {
          "unique_count": 2,
          "nan_count": 0,
          "min": "2",
          "max": "5",
          "histogram": [
           {
            "bin_start": 2,
            "bin_end": 2.3,
            "count": 3
           },
           {
            "bin_start": 2.3,
            "bin_end": 2.6,
            "count": 0
           },
           {
            "bin_start": 2.6,
            "bin_end": 2.9,
            "count": 0
           },
           {
            "bin_start": 2.9,
            "bin_end": 3.2,
            "count": 0
           },
           {
            "bin_start": 3.2,
            "bin_end": 3.5,
            "count": 0
           },
           {
            "bin_start": 3.5,
            "bin_end": 3.8,
            "count": 0
           },
           {
            "bin_start": 3.8,
            "bin_end": 4.1,
            "count": 0
           },
           {
            "bin_start": 4.1,
            "bin_end": 4.4,
            "count": 0
           },
           {
            "bin_start": 4.4,
            "bin_end": 4.699999999999999,
            "count": 0
           },
           {
            "bin_start": 4.699999999999999,
            "bin_end": 5,
            "count": 2
           }
          ]
         }
        },
        {
         "name": "applicant_sex_observed",
         "dtype": "int64",
         "stats": {
          "unique_count": 1,
          "nan_count": 0,
          "min": "2",
          "max": "2",
          "histogram": [
           {
            "bin_start": 1.5,
            "bin_end": 1.6,
            "count": 0
           },
           {
            "bin_start": 1.6,
            "bin_end": 1.7,
            "count": 0
           },
           {
            "bin_start": 1.7,
            "bin_end": 1.8,
            "count": 0
           },
           {
            "bin_start": 1.8,
            "bin_end": 1.9,
            "count": 0
           },
           {
            "bin_start": 1.9,
            "bin_end": 2,
            "count": 0
           },
           {
            "bin_start": 2,
            "bin_end": 2.1,
            "count": 5
           },
           {
            "bin_start": 2.1,
            "bin_end": 2.2,
            "count": 0
           },
           {
            "bin_start": 2.2,
            "bin_end": 2.3,
            "count": 0
           },
           {
            "bin_start": 2.3,
            "bin_end": 2.4,
            "count": 0
           },
           {
            "bin_start": 2.4,
            "bin_end": 2.5,
            "count": 0
           }
          ]
         }
        },
        {
         "name": "co_applicant_sex_observed",
         "dtype": "int64",
         "stats": {
          "unique_count": 2,
          "nan_count": 0,
          "min": "2",
          "max": "4",
          "histogram": [
           {
            "bin_start": 2,
            "bin_end": 2.2,
            "count": 3
           },
           {
            "bin_start": 2.2,
            "bin_end": 2.4,
            "count": 0
           },
           {
            "bin_start": 2.4,
            "bin_end": 2.6,
            "count": 0
           },
           {
            "bin_start": 2.6,
            "bin_end": 2.8,
            "count": 0
           },
           {
            "bin_start": 2.8,
            "bin_end": 3,
            "count": 0
           },
           {
            "bin_start": 3,
            "bin_end": 3.2,
            "count": 0
           },
           {
            "bin_start": 3.2,
            "bin_end": 3.4000000000000004,
            "count": 0
           },
           {
            "bin_start": 3.4000000000000004,
            "bin_end": 3.6,
            "count": 0
           },
           {
            "bin_start": 3.6,
            "bin_end": 3.8,
            "count": 0
           },
           {
            "bin_start": 3.8,
            "bin_end": 4,
            "count": 2
           }
          ]
         }
        },
        {
         "name": "applicant_age",
         "dtype": "object",
         "stats": {
          "unique_count": 2,
          "nan_count": 0,
          "categories": [
           {
            "name": "65-74",
            "count": 4
           },
           {
            "name": "35-44",
            "count": 1
           }
          ]
         }
        },
        {
         "name": "co_applicant_age",
         "dtype": "object",
         "stats": {
          "unique_count": 4,
          "nan_count": 0,
          "categories": [
           {
            "name": "9999",
            "count": 2
           },
           {
            "name": "55-64",
            "count": 1
           },
           {
            "name": "2 others",
            "count": 2
           }
          ]
         }
        },
        {
         "name": "applicant_age_above_62",
         "dtype": "object",
         "stats": {
          "unique_count": 2,
          "nan_count": 0,
          "categories": [
           {
            "name": "Yes",
            "count": 4
           },
           {
            "name": "No",
            "count": 1
           }
          ]
         }
        },
        {
         "name": "co_applicant_age_above_62",
         "dtype": "object",
         "stats": {
          "unique_count": 2,
          "nan_count": 2,
          "categories": [
           {
            "name": "Yes",
            "count": 2
           },
           {
            "name": "No",
            "count": 1
           },
           {
            "name": "Missing",
            "count": 2
           }
          ]
         }
        },
        {
         "name": "submission_of_application",
         "dtype": "int64",
         "stats": {
          "unique_count": 2,
          "nan_count": 0,
          "min": "1",
          "max": "1111",
          "histogram": [
           {
            "bin_start": 1,
            "bin_end": 112,
            "count": 4
           },
           {
            "bin_start": 112,
            "bin_end": 223,
            "count": 0
           },
           {
            "bin_start": 223,
            "bin_end": 334,
            "count": 0
           },
           {
            "bin_start": 334,
            "bin_end": 445,
            "count": 0
           },
           {
            "bin_start": 445,
            "bin_end": 556,
            "count": 0
           },
           {
            "bin_start": 556,
            "bin_end": 667,
            "count": 0
           },
           {
            "bin_start": 667,
            "bin_end": 778,
            "count": 0
           },
           {
            "bin_start": 778,
            "bin_end": 889,
            "count": 0
           },
           {
            "bin_start": 889,
            "bin_end": 1000,
            "count": 0
           },
           {
            "bin_start": 1000,
            "bin_end": 1111,
            "count": 1
           }
          ]
         }
        },
        {
         "name": "initially_payable_to_institution",
         "dtype": "int64",
         "stats": {
          "unique_count": 2,
          "nan_count": 0,
          "min": "1",
          "max": "1111",
          "histogram": [
           {
            "bin_start": 1,
            "bin_end": 112,
            "count": 4
           },
           {
            "bin_start": 112,
            "bin_end": 223,
            "count": 0
           },
           {
            "bin_start": 223,
            "bin_end": 334,
            "count": 0
           },
           {
            "bin_start": 334,
            "bin_end": 445,
            "count": 0
           },
           {
            "bin_start": 445,
            "bin_end": 556,
            "count": 0
           },
           {
            "bin_start": 556,
            "bin_end": 667,
            "count": 0
           },
           {
            "bin_start": 667,
            "bin_end": 778,
            "count": 0
           },
           {
            "bin_start": 778,
            "bin_end": 889,
            "count": 0
           },
           {
            "bin_start": 889,
            "bin_end": 1000,
            "count": 0
           },
           {
            "bin_start": 1000,
            "bin_end": 1111,
            "count": 1
           }
          ]
         }
        },
        {
         "name": "aus_1",
         "dtype": "int64",
         "stats": {
          "unique_count": 4,
          "nan_count": 0,
          "min": "1",
          "max": "1111",
          "histogram": [
           {
            "bin_start": 1,
            "bin_end": 112,
            "count": 4
           },
           {
            "bin_start": 112,
            "bin_end": 223,
            "count": 0
           },
           {
            "bin_start": 223,
            "bin_end": 334,
            "count": 0
           },
           {
            "bin_start": 334,
            "bin_end": 445,
            "count": 0
           },
           {
            "bin_start": 445,
            "bin_end": 556,
            "count": 0
           },
           {
            "bin_start": 556,
            "bin_end": 667,
            "count": 0
           },
           {
            "bin_start": 667,
            "bin_end": 778,
            "count": 0
           },
           {
            "bin_start": 778,
            "bin_end": 889,
            "count": 0
           },
           {
            "bin_start": 889,
            "bin_end": 1000,
            "count": 0
           },
           {
            "bin_start": 1000,
            "bin_end": 1111,
            "count": 1
           }
          ]
         }
        },
        {
         "name": "aus_2",
         "dtype": "float64",
         "stats": {
          "unique_count": 0,
          "nan_count": 5,
          "min": null,
          "max": null,
          "histogram": [
           {
            "bin_start": 0,
            "bin_end": 0.1,
            "count": 0
           },
           {
            "bin_start": 0.1,
            "bin_end": 0.2,
            "count": 0
           },
           {
            "bin_start": 0.2,
            "bin_end": 0.30000000000000004,
            "count": 0
           },
           {
            "bin_start": 0.30000000000000004,
            "bin_end": 0.4,
            "count": 0
           },
           {
            "bin_start": 0.4,
            "bin_end": 0.5,
            "count": 0
           },
           {
            "bin_start": 0.5,
            "bin_end": 0.6000000000000001,
            "count": 0
           },
           {
            "bin_start": 0.6000000000000001,
            "bin_end": 0.7000000000000001,
            "count": 0
           },
           {
            "bin_start": 0.7000000000000001,
            "bin_end": 0.8,
            "count": 0
           },
           {
            "bin_start": 0.8,
            "bin_end": 0.9,
            "count": 0
           },
           {
            "bin_start": 0.9,
            "bin_end": 1,
            "count": 0
           }
          ]
         }
        },
        {
         "name": "aus_3",
         "dtype": "float64",
         "stats": {
          "unique_count": 0,
          "nan_count": 5,
          "min": null,
          "max": null,
          "histogram": [
           {
            "bin_start": 0,
            "bin_end": 0.1,
            "count": 0
           },
           {
            "bin_start": 0.1,
            "bin_end": 0.2,
            "count": 0
           },
           {
            "bin_start": 0.2,
            "bin_end": 0.30000000000000004,
            "count": 0
           },
           {
            "bin_start": 0.30000000000000004,
            "bin_end": 0.4,
            "count": 0
           },
           {
            "bin_start": 0.4,
            "bin_end": 0.5,
            "count": 0
           },
           {
            "bin_start": 0.5,
            "bin_end": 0.6000000000000001,
            "count": 0
           },
           {
            "bin_start": 0.6000000000000001,
            "bin_end": 0.7000000000000001,
            "count": 0
           },
           {
            "bin_start": 0.7000000000000001,
            "bin_end": 0.8,
            "count": 0
           },
           {
            "bin_start": 0.8,
            "bin_end": 0.9,
            "count": 0
           },
           {
            "bin_start": 0.9,
            "bin_end": 1,
            "count": 0
           }
          ]
         }
        },
        {
         "name": "aus_4",
         "dtype": "float64",
         "stats": {
          "unique_count": 0,
          "nan_count": 5,
          "min": null,
          "max": null,
          "histogram": [
           {
            "bin_start": 0,
            "bin_end": 0.1,
            "count": 0
           },
           {
            "bin_start": 0.1,
            "bin_end": 0.2,
            "count": 0
           },
           {
            "bin_start": 0.2,
            "bin_end": 0.30000000000000004,
            "count": 0
           },
           {
            "bin_start": 0.30000000000000004,
            "bin_end": 0.4,
            "count": 0
           },
           {
            "bin_start": 0.4,
            "bin_end": 0.5,
            "count": 0
           },
           {
            "bin_start": 0.5,
            "bin_end": 0.6000000000000001,
            "count": 0
           },
           {
            "bin_start": 0.6000000000000001,
            "bin_end": 0.7000000000000001,
            "count": 0
           },
           {
            "bin_start": 0.7000000000000001,
            "bin_end": 0.8,
            "count": 0
           },
           {
            "bin_start": 0.8,
            "bin_end": 0.9,
            "count": 0
           },
           {
            "bin_start": 0.9,
            "bin_end": 1,
            "count": 0
           }
          ]
         }
        },
        {
         "name": "aus_5",
         "dtype": "float64",
         "stats": {
          "unique_count": 0,
          "nan_count": 5,
          "min": null,
          "max": null,
          "histogram": [
           {
            "bin_start": 0,
            "bin_end": 0.1,
            "count": 0
           },
           {
            "bin_start": 0.1,
            "bin_end": 0.2,
            "count": 0
           },
           {
            "bin_start": 0.2,
            "bin_end": 0.30000000000000004,
            "count": 0
           },
           {
            "bin_start": 0.30000000000000004,
            "bin_end": 0.4,
            "count": 0
           },
           {
            "bin_start": 0.4,
            "bin_end": 0.5,
            "count": 0
           },
           {
            "bin_start": 0.5,
            "bin_end": 0.6000000000000001,
            "count": 0
           },
           {
            "bin_start": 0.6000000000000001,
            "bin_end": 0.7000000000000001,
            "count": 0
           },
           {
            "bin_start": 0.7000000000000001,
            "bin_end": 0.8,
            "count": 0
           },
           {
            "bin_start": 0.8,
            "bin_end": 0.9,
            "count": 0
           },
           {
            "bin_start": 0.9,
            "bin_end": 1,
            "count": 0
           }
          ]
         }
        },
        {
         "name": "denial_reason_1",
         "dtype": "int64",
         "stats": {
          "unique_count": 3,
          "nan_count": 0,
          "min": "1",
          "max": "1111",
          "histogram": [
           {
            "bin_start": 1,
            "bin_end": 112,
            "count": 4
           },
           {
            "bin_start": 112,
            "bin_end": 223,
            "count": 0
           },
           {
            "bin_start": 223,
            "bin_end": 334,
            "count": 0
           },
           {
            "bin_start": 334,
            "bin_end": 445,
            "count": 0
           },
           {
            "bin_start": 445,
            "bin_end": 556,
            "count": 0
           },
           {
            "bin_start": 556,
            "bin_end": 667,
            "count": 0
           },
           {
            "bin_start": 667,
            "bin_end": 778,
            "count": 0
           },
           {
            "bin_start": 778,
            "bin_end": 889,
            "count": 0
           },
           {
            "bin_start": 889,
            "bin_end": 1000,
            "count": 0
           },
           {
            "bin_start": 1000,
            "bin_end": 1111,
            "count": 1
           }
          ]
         }
        },
        {
         "name": "denial_reason_2",
         "dtype": "float64",
         "stats": {
          "unique_count": 0,
          "nan_count": 5,
          "min": null,
          "max": null,
          "histogram": [
           {
            "bin_start": 0,
            "bin_end": 0.1,
            "count": 0
           },
           {
            "bin_start": 0.1,
            "bin_end": 0.2,
            "count": 0
           },
           {
            "bin_start": 0.2,
            "bin_end": 0.30000000000000004,
            "count": 0
           },
           {
            "bin_start": 0.30000000000000004,
            "bin_end": 0.4,
            "count": 0
           },
           {
            "bin_start": 0.4,
            "bin_end": 0.5,
            "count": 0
           },
           {
            "bin_start": 0.5,
            "bin_end": 0.6000000000000001,
            "count": 0
           },
           {
            "bin_start": 0.6000000000000001,
            "bin_end": 0.7000000000000001,
            "count": 0
           },
           {
            "bin_start": 0.7000000000000001,
            "bin_end": 0.8,
            "count": 0
           },
           {
            "bin_start": 0.8,
            "bin_end": 0.9,
            "count": 0
           },
           {
            "bin_start": 0.9,
            "bin_end": 1,
            "count": 0
           }
          ]
         }
        },
        {
         "name": "denial_reason_3",
         "dtype": "float64",
         "stats": {
          "unique_count": 0,
          "nan_count": 5,
          "min": null,
          "max": null,
          "histogram": [
           {
            "bin_start": 0,
            "bin_end": 0.1,
            "count": 0
           },
           {
            "bin_start": 0.1,
            "bin_end": 0.2,
            "count": 0
           },
           {
            "bin_start": 0.2,
            "bin_end": 0.30000000000000004,
            "count": 0
           },
           {
            "bin_start": 0.30000000000000004,
            "bin_end": 0.4,
            "count": 0
           },
           {
            "bin_start": 0.4,
            "bin_end": 0.5,
            "count": 0
           },
           {
            "bin_start": 0.5,
            "bin_end": 0.6000000000000001,
            "count": 0
           },
           {
            "bin_start": 0.6000000000000001,
            "bin_end": 0.7000000000000001,
            "count": 0
           },
           {
            "bin_start": 0.7000000000000001,
            "bin_end": 0.8,
            "count": 0
           },
           {
            "bin_start": 0.8,
            "bin_end": 0.9,
            "count": 0
           },
           {
            "bin_start": 0.9,
            "bin_end": 1,
            "count": 0
           }
          ]
         }
        },
        {
         "name": "denial_reason_4",
         "dtype": "float64",
         "stats": {
          "unique_count": 0,
          "nan_count": 5,
          "min": null,
          "max": null,
          "histogram": [
           {
            "bin_start": 0,
            "bin_end": 0.1,
            "count": 0
           },
           {
            "bin_start": 0.1,
            "bin_end": 0.2,
            "count": 0
           },
           {
            "bin_start": 0.2,
            "bin_end": 0.30000000000000004,
            "count": 0
           },
           {
            "bin_start": 0.30000000000000004,
            "bin_end": 0.4,
            "count": 0
           },
           {
            "bin_start": 0.4,
            "bin_end": 0.5,
            "count": 0
           },
           {
            "bin_start": 0.5,
            "bin_end": 0.6000000000000001,
            "count": 0
           },
           {
            "bin_start": 0.6000000000000001,
            "bin_end": 0.7000000000000001,
            "count": 0
           },
           {
            "bin_start": 0.7000000000000001,
            "bin_end": 0.8,
            "count": 0
           },
           {
            "bin_start": 0.8,
            "bin_end": 0.9,
            "count": 0
           },
           {
            "bin_start": 0.9,
            "bin_end": 1,
            "count": 0
           }
          ]
         }
        },
        {
         "name": "tract_population",
         "dtype": "int64",
         "stats": {
          "unique_count": 5,
          "nan_count": 0,
          "min": "4719",
          "max": "11924",
          "histogram": [
           {
            "bin_start": 4719,
            "bin_end": 5439.5,
            "count": 1
           },
           {
            "bin_start": 5439.5,
            "bin_end": 6160,
            "count": 0
           },
           {
            "bin_start": 6160,
            "bin_end": 6880.5,
            "count": 1
           },
           {
            "bin_start": 6880.5,
            "bin_end": 7601,
            "count": 2
           },
           {
            "bin_start": 7601,
            "bin_end": 8321.5,
            "count": 0
           },
           {
            "bin_start": 8321.5,
            "bin_end": 9042,
            "count": 0
           },
           {
            "bin_start": 9042,
            "bin_end": 9762.5,
            "count": 0
           },
           {
            "bin_start": 9762.5,
            "bin_end": 10483,
            "count": 0
           },
           {
            "bin_start": 10483,
            "bin_end": 11203.5,
            "count": 0
           },
           {
            "bin_start": 11203.5,
            "bin_end": 11924,
            "count": 1
           }
          ]
         }
        },
        {
         "name": "tract_minority_population_percent",
         "dtype": "float64",
         "stats": {
          "unique_count": 5,
          "nan_count": 0,
          "min": "6.42",
          "max": "96.76",
          "histogram": [
           {
            "bin_start": 6.42,
            "bin_end": 15.454,
            "count": 2
           },
           {
            "bin_start": 15.454,
            "bin_end": 24.488,
            "count": 0
           },
           {
            "bin_start": 24.488,
            "bin_end": 33.522000000000006,
            "count": 1
           },
           {
            "bin_start": 33.522000000000006,
            "bin_end": 42.556000000000004,
            "count": 0
           },
           {
            "bin_start": 42.556000000000004,
            "bin_end": 51.59,
            "count": 0
           },
           {
            "bin_start": 51.59,
            "bin_end": 60.62400000000001,
            "count": 1
           },
           {
            "bin_start": 60.62400000000001,
            "bin_end": 69.658,
            "count": 0
           },
           {
            "bin_start": 69.658,
            "bin_end": 78.69200000000001,
            "count": 0
           },
           {
            "bin_start": 78.69200000000001,
            "bin_end": 87.72600000000001,
            "count": 0
           },
           {
            "bin_start": 87.72600000000001,
            "bin_end": 96.76,
            "count": 1
           }
          ]
         }
        },
        {
         "name": "ffiec_msa_md_median_family_income",
         "dtype": "int64",
         "stats": {
          "unique_count": 5,
          "nan_count": 0,
          "min": "64000",
          "max": "74400",
          "histogram": [
           {
            "bin_start": 64000,
            "bin_end": 65040,
            "count": 1
           },
           {
            "bin_start": 65040,
            "bin_end": 66080,
            "count": 0
           },
           {
            "bin_start": 66080,
            "bin_end": 67120,
            "count": 0
           },
           {
            "bin_start": 67120,
            "bin_end": 68160,
            "count": 0
           },
           {
            "bin_start": 68160,
            "bin_end": 69200,
            "count": 1
           },
           {
            "bin_start": 69200,
            "bin_end": 70240,
            "count": 1
           },
           {
            "bin_start": 70240,
            "bin_end": 71280,
            "count": 1
           },
           {
            "bin_start": 71280,
            "bin_end": 72320,
            "count": 0
           },
           {
            "bin_start": 72320,
            "bin_end": 73360,
            "count": 0
           },
           {
            "bin_start": 73360,
            "bin_end": 74400,
            "count": 1
           }
          ]
         }
        },
        {
         "name": "tract_to_msa_income_percentage",
         "dtype": "int64",
         "stats": {
          "unique_count": 5,
          "nan_count": 0,
          "min": "65",
          "max": "161",
          "histogram": [
           {
            "bin_start": 65,
            "bin_end": 74.6,
            "count": 1
           },
           {
            "bin_start": 74.6,
            "bin_end": 84.2,
            "count": 0
           },
           {
            "bin_start": 84.2,
            "bin_end": 93.8,
            "count": 0
           },
           {
            "bin_start": 93.8,
            "bin_end": 103.4,
            "count": 0
           },
           {
            "bin_start": 103.4,
            "bin_end": 113,
            "count": 0
           },
           {
            "bin_start": 113,
            "bin_end": 122.6,
            "count": 0
           },
           {
            "bin_start": 122.6,
            "bin_end": 132.2,
            "count": 2
           },
           {
            "bin_start": 132.2,
            "bin_end": 141.8,
            "count": 1
           },
           {
            "bin_start": 141.8,
            "bin_end": 151.39999999999998,
            "count": 0
           },
           {
            "bin_start": 151.39999999999998,
            "bin_end": 161,
            "count": 1
           }
          ]
         }
        },
        {
         "name": "tract_owner_occupied_units",
         "dtype": "int64",
         "stats": {
          "unique_count": 5,
          "nan_count": 0,
          "min": "885",
          "max": "3082",
          "histogram": [
           {
            "bin_start": 885,
            "bin_end": 1104.7,
            "count": 1
           },
           {
            "bin_start": 1104.7,
            "bin_end": 1324.4,
            "count": 0
           },
           {
            "bin_start": 1324.4,
            "bin_end": 1544.1,
            "count": 1
           },
           {
            "bin_start": 1544.1,
            "bin_end": 1763.8,
            "count": 0
           },
           {
            "bin_start": 1763.8,
            "bin_end": 1983.5,
            "count": 1
           },
           {
            "bin_start": 1983.5,
            "bin_end": 2203.2,
            "count": 1
           },
           {
            "bin_start": 2203.2,
            "bin_end": 2422.8999999999996,
            "count": 0
           },
           {
            "bin_start": 2422.8999999999996,
            "bin_end": 2642.6,
            "count": 0
           },
           {
            "bin_start": 2642.6,
            "bin_end": 2862.3,
            "count": 0
           },
           {
            "bin_start": 2862.3,
            "bin_end": 3082,
            "count": 1
           }
          ]
         }
        },
        {
         "name": "tract_one_to_four_family_homes",
         "dtype": "int64",
         "stats": {
          "unique_count": 5,
          "nan_count": 0,
          "min": "1363",
          "max": "3775",
          "histogram": [
           {
            "bin_start": 1363,
            "bin_end": 1604.2,
            "count": 1
           },
           {
            "bin_start": 1604.2,
            "bin_end": 1845.4,
            "count": 1
           },
           {
            "bin_start": 1845.4,
            "bin_end": 2086.6,
            "count": 0
           },
           {
            "bin_start": 2086.6,
            "bin_end": 2327.8,
            "count": 0
           },
           {
            "bin_start": 2327.8,
            "bin_end": 2569,
            "count": 2
           },
           {
            "bin_start": 2569,
            "bin_end": 2810.2,
            "count": 0
           },
           {
            "bin_start": 2810.2,
            "bin_end": 3051.3999999999996,
            "count": 0
           },
           {
            "bin_start": 3051.3999999999996,
            "bin_end": 3292.6,
            "count": 0
           },
           {
            "bin_start": 3292.6,
            "bin_end": 3533.7999999999997,
            "count": 0
           },
           {
            "bin_start": 3533.7999999999997,
            "bin_end": 3775,
            "count": 1
           }
          ]
         }
        },
        {
         "name": "tract_median_age_of_housing_units",
         "dtype": "int64",
         "stats": {
          "unique_count": 4,
          "nan_count": 0,
          "min": "13",
          "max": "51",
          "histogram": [
           {
            "bin_start": 13,
            "bin_end": 16.8,
            "count": 2
           },
           {
            "bin_start": 16.8,
            "bin_end": 20.6,
            "count": 0
           },
           {
            "bin_start": 20.6,
            "bin_end": 24.4,
            "count": 1
           },
           {
            "bin_start": 24.4,
            "bin_end": 28.2,
            "count": 0
           },
           {
            "bin_start": 28.2,
            "bin_end": 32,
            "count": 0
           },
           {
            "bin_start": 32,
            "bin_end": 35.8,
            "count": 1
           },
           {
            "bin_start": 35.8,
            "bin_end": 39.599999999999994,
            "count": 0
           },
           {
            "bin_start": 39.599999999999994,
            "bin_end": 43.4,
            "count": 0
           },
           {
            "bin_start": 43.4,
            "bin_end": 47.199999999999996,
            "count": 0
           },
           {
            "bin_start": 47.199999999999996,
            "bin_end": 51,
            "count": 1
           }
          ]
         }
        },
        {
         "name": "_deepnote_index_column",
         "dtype": "int64"
        }
       ],
       "rows": [
        {
         "activity_year": 2018,
         "lei": "5493002QI2ILHHZH8D20",
         "derived_msa_md": 31084,
         "state_code": "CA",
         "county_code": 6037,
         "census_tract": 6037603001,
         "conforming_loan_limit": "C",
         "derived_loan_product_type": "Conventional:First Lien",
         "derived_dwelling_category": "Single Family (1-4 Units):Site-Built",
         "derived_ethnicity": "Not Hispanic or Latino",
         "derived_race": "Asian",
         "derived_sex": "Joint",
         "action_taken": 3,
         "purchaser_type": 0,
         "preapproval": 2,
         "loan_type": 1,
         "loan_purpose": 1,
         "lien_status": 1,
         "reverse_mortgage": 2,
         "open_end_line_of_credit": 2,
         "business_or_commercial_purpose": 2,
         "loan_amount": 545000,
         "loan_to_value_ratio": "80",
         "interest_rate": "nan",
         "rate_spread": "nan",
         "hoepa_status": 3,
         "total_loan_costs": "nan",
         "total_points_and_fees": "nan",
         "origination_charges": "nan",
         "discount_points": "nan",
         "lender_credits": "nan",
         "loan_term": "360",
         "prepayment_penalty_term": "nan",
         "intro_rate_period": "nan",
         "negative_amortization": 2,
         "interest_only_payment": 2,
         "balloon_payment": 2,
         "other_nonamortizing_features": 2,
         "property_value": 675000,
         "construction_method": 1,
         "occupancy_type": 1,
         "manufactured_home_secured_property_type": 3,
         "manufactured_home_land_property_interest": 5,
         "total_units": "1",
         "multifamily_affordable_units": "nan",
         "income": 162,
         "debt_to_income_ratio": "50%-60%",
         "applicant_credit_score_type": 1,
         "co_applicant_credit_score_type": 1,
         "applicant_ethnicity_1": 2,
         "applicant_ethnicity_2": "nan",
         "applicant_ethnicity_3": "nan",
         "applicant_ethnicity_4": "nan",
         "applicant_ethnicity_5": "nan",
         "co_applicant_ethnicity_1": 2,
         "co_applicant_ethnicity_2": "nan",
         "co_applicant_ethnicity_3": "nan",
         "co_applicant_ethnicity_4": "nan",
         "co_applicant_ethnicity_5": "nan",
         "applicant_ethnicity_observed": 2,
         "co_applicant_ethnicity_observed": 2,
         "applicant_race_1": 2,
         "applicant_race_2": 22,
         "applicant_race_3": "nan",
         "applicant_race_4": "nan",
         "applicant_race_5": "nan",
         "co_applicant_race_1": 2,
         "co_applicant_race_2": 22,
         "co_applicant_race_3": "nan",
         "co_applicant_race_4": "nan",
         "co_applicant_race_5": "nan",
         "applicant_race_observed": 2,
         "co_applicant_race_observed": 2,
         "applicant_sex": 1,
         "co_applicant_sex": 2,
         "applicant_sex_observed": 2,
         "co_applicant_sex_observed": 2,
         "applicant_age": "65-74",
         "co_applicant_age": "55-64",
         "applicant_age_above_62": "Yes",
         "co_applicant_age_above_62": "Yes",
         "submission_of_application": 1,
         "initially_payable_to_institution": 1,
         "aus_1": 1,
         "aus_2": "nan",
         "aus_3": "nan",
         "aus_4": "nan",
         "aus_5": "nan",
         "denial_reason_1": 1,
         "denial_reason_2": "nan",
         "denial_reason_3": "nan",
         "denial_reason_4": "nan",
         "tract_population": 7029,
         "tract_minority_population_percent": 96.76,
         "ffiec_msa_md_median_family_income": 69300,
         "tract_to_msa_income_percentage": 65,
         "tract_owner_occupied_units": 885,
         "tract_one_to_four_family_homes": 1363,
         "tract_median_age_of_housing_units": 51,
         "_deepnote_index_column": 0
        },
        {
         "activity_year": 2018,
         "lei": "549300ALNLUNS3Y53T24",
         "derived_msa_md": 44060,
         "state_code": "WA",
         "county_code": 53063,
         "census_tract": 53063011300,
         "conforming_loan_limit": "C",
         "derived_loan_product_type": "Conventional:First Lien",
         "derived_dwelling_category": "Single Family (1-4 Units):Site-Built",
         "derived_ethnicity": "Not Hispanic or Latino",
         "derived_race": "White",
         "derived_sex": "Female",
         "action_taken": 1,
         "purchaser_type": 3,
         "preapproval": 2,
         "loan_type": 1,
         "loan_purpose": 32,
         "lien_status": 1,
         "reverse_mortgage": 2,
         "open_end_line_of_credit": 2,
         "business_or_commercial_purpose": 2,
         "loan_amount": 115000,
         "loan_to_value_ratio": "39",
         "interest_rate": "5.125",
         "rate_spread": "0.689",
         "hoepa_status": 2,
         "total_loan_costs": "3367",
         "total_points_and_fees": "nan",
         "origination_charges": "1758",
         "discount_points": "nan",
         "lender_credits": "nan",
         "loan_term": "360",
         "prepayment_penalty_term": "nan",
         "intro_rate_period": "nan",
         "negative_amortization": 2,
         "interest_only_payment": 2,
         "balloon_payment": 2,
         "other_nonamortizing_features": 2,
         "property_value": 285000,
         "construction_method": 1,
         "occupancy_type": 1,
         "manufactured_home_secured_property_type": 3,
         "manufactured_home_land_property_interest": 5,
         "total_units": "1",
         "multifamily_affordable_units": "nan",
         "income": 25,
         "debt_to_income_ratio": "44",
         "applicant_credit_score_type": 2,
         "co_applicant_credit_score_type": 10,
         "applicant_ethnicity_1": 2,
         "applicant_ethnicity_2": "nan",
         "applicant_ethnicity_3": "nan",
         "applicant_ethnicity_4": "nan",
         "applicant_ethnicity_5": "nan",
         "co_applicant_ethnicity_1": 5,
         "co_applicant_ethnicity_2": "nan",
         "co_applicant_ethnicity_3": "nan",
         "co_applicant_ethnicity_4": "nan",
         "co_applicant_ethnicity_5": "nan",
         "applicant_ethnicity_observed": 2,
         "co_applicant_ethnicity_observed": 4,
         "applicant_race_1": 5,
         "applicant_race_2": "nan",
         "applicant_race_3": "nan",
         "applicant_race_4": "nan",
         "applicant_race_5": "nan",
         "co_applicant_race_1": 8,
         "co_applicant_race_2": "nan",
         "co_applicant_race_3": "nan",
         "co_applicant_race_4": "nan",
         "co_applicant_race_5": "nan",
         "applicant_race_observed": 2,
         "co_applicant_race_observed": 4,
         "applicant_sex": 2,
         "co_applicant_sex": 5,
         "applicant_sex_observed": 2,
         "co_applicant_sex_observed": 4,
         "applicant_age": "65-74",
         "co_applicant_age": "9999",
         "applicant_age_above_62": "Yes",
         "co_applicant_age_above_62": "nan",
         "submission_of_application": 1,
         "initially_payable_to_institution": 1,
         "aus_1": 6,
         "aus_2": "nan",
         "aus_3": "nan",
         "aus_4": "nan",
         "aus_5": "nan",
         "denial_reason_1": 10,
         "denial_reason_2": "nan",
         "denial_reason_3": "nan",
         "denial_reason_4": "nan",
         "tract_population": 7568,
         "tract_minority_population_percent": 11.19,
         "ffiec_msa_md_median_family_income": 64000,
         "tract_to_msa_income_percentage": 138,
         "tract_owner_occupied_units": 2002,
         "tract_one_to_four_family_homes": 2338,
         "tract_median_age_of_housing_units": 22,
         "_deepnote_index_column": 1
        },
        {
         "activity_year": 2018,
         "lei": "549300PUSSF737Y6XW86",
         "derived_msa_md": 12060,
         "state_code": "GA",
         "county_code": 13223,
         "census_tract": 13223120102,
         "conforming_loan_limit": "C",
         "derived_loan_product_type": "Conventional:First Lien",
         "derived_dwelling_category": "Single Family (1-4 Units):Site-Built",
         "derived_ethnicity": "Not Hispanic or Latino",
         "derived_race": "White",
         "derived_sex": "Joint",
         "action_taken": 1,
         "purchaser_type": 3,
         "preapproval": 2,
         "loan_type": 1,
         "loan_purpose": 4,
         "lien_status": 1,
         "reverse_mortgage": 2,
         "open_end_line_of_credit": 2,
         "business_or_commercial_purpose": 2,
         "loan_amount": 105000,
         "loan_to_value_ratio": "37.594",
         "interest_rate": "4.625",
         "rate_spread": "0.148",
         "hoepa_status": 2,
         "total_loan_costs": "1577.5",
         "total_points_and_fees": "nan",
         "origination_charges": "0",
         "discount_points": "nan",
         "lender_credits": "nan",
         "loan_term": "360",
         "prepayment_penalty_term": "nan",
         "intro_rate_period": "nan",
         "negative_amortization": 2,
         "interest_only_payment": 2,
         "balloon_payment": 2,
         "other_nonamortizing_features": 2,
         "property_value": 265000,
         "construction_method": 1,
         "occupancy_type": 1,
         "manufactured_home_secured_property_type": 3,
         "manufactured_home_land_property_interest": 5,
         "total_units": "1",
         "multifamily_affordable_units": "nan",
         "income": 33,
         "debt_to_income_ratio": "44",
         "applicant_credit_score_type": 3,
         "co_applicant_credit_score_type": 9,
         "applicant_ethnicity_1": 2,
         "applicant_ethnicity_2": "nan",
         "applicant_ethnicity_3": "nan",
         "applicant_ethnicity_4": "nan",
         "applicant_ethnicity_5": "nan",
         "co_applicant_ethnicity_1": 2,
         "co_applicant_ethnicity_2": "nan",
         "co_applicant_ethnicity_3": "nan",
         "co_applicant_ethnicity_4": "nan",
         "co_applicant_ethnicity_5": "nan",
         "applicant_ethnicity_observed": 2,
         "co_applicant_ethnicity_observed": 2,
         "applicant_race_1": 5,
         "applicant_race_2": "nan",
         "applicant_race_3": "nan",
         "applicant_race_4": "nan",
         "applicant_race_5": "nan",
         "co_applicant_race_1": 5,
         "co_applicant_race_2": "nan",
         "co_applicant_race_3": "nan",
         "co_applicant_race_4": "nan",
         "co_applicant_race_5": "nan",
         "applicant_race_observed": 2,
         "co_applicant_race_observed": 2,
         "applicant_sex": 1,
         "co_applicant_sex": 2,
         "applicant_sex_observed": 2,
         "co_applicant_sex_observed": 2,
         "applicant_age": "65-74",
         "co_applicant_age": "65-74",
         "applicant_age_above_62": "Yes",
         "co_applicant_age_above_62": "Yes",
         "submission_of_application": 1,
         "initially_payable_to_institution": 1,
         "aus_1": 2,
         "aus_2": "nan",
         "aus_3": "nan",
         "aus_4": "nan",
         "aus_5": "nan",
         "denial_reason_1": 10,
         "denial_reason_2": "nan",
         "denial_reason_3": "nan",
         "denial_reason_4": "nan",
         "tract_population": 11924,
         "tract_minority_population_percent": 26.72,
         "ffiec_msa_md_median_family_income": 74400,
         "tract_to_msa_income_percentage": 125,
         "tract_owner_occupied_units": 3082,
         "tract_one_to_four_family_homes": 3775,
         "tract_median_age_of_housing_units": 13,
         "_deepnote_index_column": 2
        },
        {
         "activity_year": 2018,
         "lei": "JJKC32MCHWDI71265Z06",
         "derived_msa_md": 17900,
         "state_code": "SC",
         "county_code": 45079,
         "census_tract": 45079010102,
         "conforming_loan_limit": "C",
         "derived_loan_product_type": "Conventional:First Lien",
         "derived_dwelling_category": "Single Family (1-4 Units):Site-Built",
         "derived_ethnicity": "Not Hispanic or Latino",
         "derived_race": "White",
         "derived_sex": "Male",
         "action_taken": 1,
         "purchaser_type": 0,
         "preapproval": 2,
         "loan_type": 1,
         "loan_purpose": 1,
         "lien_status": 1,
         "reverse_mortgage": 2,
         "open_end_line_of_credit": 2,
         "business_or_commercial_purpose": 2,
         "loan_amount": 185000,
         "loan_to_value_ratio": "39.98",
         "interest_rate": "3.875",
         "rate_spread": "0.214",
         "hoepa_status": 2,
         "total_loan_costs": "5592.75",
         "total_points_and_fees": "nan",
         "origination_charges": "1445",
         "discount_points": "nan",
         "lender_credits": "235.14",
         "loan_term": "372",
         "prepayment_penalty_term": "nan",
         "intro_rate_period": "120",
         "negative_amortization": 2,
         "interest_only_payment": 1,
         "balloon_payment": 2,
         "other_nonamortizing_features": 2,
         "property_value": 465000,
         "construction_method": 1,
         "occupancy_type": 1,
         "manufactured_home_secured_property_type": 3,
         "manufactured_home_land_property_interest": 5,
         "total_units": "1",
         "multifamily_affordable_units": "nan",
         "income": 39,
         "debt_to_income_ratio": "42",
         "applicant_credit_score_type": 1,
         "co_applicant_credit_score_type": 10,
         "applicant_ethnicity_1": 2,
         "applicant_ethnicity_2": "nan",
         "applicant_ethnicity_3": "nan",
         "applicant_ethnicity_4": "nan",
         "applicant_ethnicity_5": "nan",
         "co_applicant_ethnicity_1": 5,
         "co_applicant_ethnicity_2": "nan",
         "co_applicant_ethnicity_3": "nan",
         "co_applicant_ethnicity_4": "nan",
         "co_applicant_ethnicity_5": "nan",
         "applicant_ethnicity_observed": 2,
         "co_applicant_ethnicity_observed": 4,
         "applicant_race_1": 5,
         "applicant_race_2": "nan",
         "applicant_race_3": "nan",
         "applicant_race_4": "nan",
         "applicant_race_5": "nan",
         "co_applicant_race_1": 8,
         "co_applicant_race_2": "nan",
         "co_applicant_race_3": "nan",
         "co_applicant_race_4": "nan",
         "co_applicant_race_5": "nan",
         "applicant_race_observed": 2,
         "co_applicant_race_observed": 4,
         "applicant_sex": 1,
         "co_applicant_sex": 5,
         "applicant_sex_observed": 2,
         "co_applicant_sex_observed": 4,
         "applicant_age": "65-74",
         "co_applicant_age": "9999",
         "applicant_age_above_62": "Yes",
         "co_applicant_age_above_62": "nan",
         "submission_of_application": 1,
         "initially_payable_to_institution": 1,
         "aus_1": 6,
         "aus_2": "nan",
         "aus_3": "nan",
         "aus_4": "nan",
         "aus_5": "nan",
         "denial_reason_1": 10,
         "denial_reason_2": "nan",
         "denial_reason_3": "nan",
         "denial_reason_4": "nan",
         "tract_population": 6860,
         "tract_minority_population_percent": 53.85,
         "ffiec_msa_md_median_family_income": 68800,
         "tract_to_msa_income_percentage": 128,
         "tract_owner_occupied_units": 1815,
         "tract_one_to_four_family_homes": 2465,
         "tract_median_age_of_housing_units": 13,
         "_deepnote_index_column": 3
        },
        {
         "activity_year": 2018,
         "lei": "5493002UNUIL8WHZAD63",
         "derived_msa_md": 31140,
         "state_code": "KY",
         "county_code": 21185,
         "census_tract": 21185030802,
         "conforming_loan_limit": "C",
         "derived_loan_product_type": "Conventional:First Lien",
         "derived_dwelling_category": "Single Family (1-4 Units):Site-Built",
         "derived_ethnicity": "Not Hispanic or Latino",
         "derived_race": "White",
         "derived_sex": "Joint",
         "action_taken": 3,
         "purchaser_type": 0,
         "preapproval": 2,
         "loan_type": 1,
         "loan_purpose": 31,
         "lien_status": 1,
         "reverse_mortgage": 1111,
         "open_end_line_of_credit": 1111,
         "business_or_commercial_purpose": 1111,
         "loan_amount": 235000,
         "loan_to_value_ratio": "Exempt",
         "interest_rate": "Exempt",
         "rate_spread": "Exempt",
         "hoepa_status": 3,
         "total_loan_costs": "Exempt",
         "total_points_and_fees": "Exempt",
         "origination_charges": "Exempt",
         "discount_points": "Exempt",
         "lender_credits": "Exempt",
         "loan_term": "Exempt",
         "prepayment_penalty_term": "Exempt",
         "intro_rate_period": "Exempt",
         "negative_amortization": 1111,
         "interest_only_payment": 1111,
         "balloon_payment": 1111,
         "other_nonamortizing_features": 1111,
         "property_value": "nan",
         "construction_method": 1,
         "occupancy_type": 1,
         "manufactured_home_secured_property_type": 1111,
         "manufactured_home_land_property_interest": 1111,
         "total_units": "1",
         "multifamily_affordable_units": "Exempt",
         "income": 185,
         "debt_to_income_ratio": "Exempt",
         "applicant_credit_score_type": 1111,
         "co_applicant_credit_score_type": 1111,
         "applicant_ethnicity_1": 2,
         "applicant_ethnicity_2": "nan",
         "applicant_ethnicity_3": "nan",
         "applicant_ethnicity_4": "nan",
         "applicant_ethnicity_5": "nan",
         "co_applicant_ethnicity_1": 2,
         "co_applicant_ethnicity_2": "nan",
         "co_applicant_ethnicity_3": "nan",
         "co_applicant_ethnicity_4": "nan",
         "co_applicant_ethnicity_5": "nan",
         "applicant_ethnicity_observed": 2,
         "co_applicant_ethnicity_observed": 2,
         "applicant_race_1": 5,
         "applicant_race_2": "nan",
         "applicant_race_3": "nan",
         "applicant_race_4": "nan",
         "applicant_race_5": "nan",
         "co_applicant_race_1": 5,
         "co_applicant_race_2": "nan",
         "co_applicant_race_3": "nan",
         "co_applicant_race_4": "nan",
         "co_applicant_race_5": "nan",
         "applicant_race_observed": 2,
         "co_applicant_race_observed": 2,
         "applicant_sex": 1,
         "co_applicant_sex": 2,
         "applicant_sex_observed": 2,
         "co_applicant_sex_observed": 2,
         "applicant_age": "35-44",
         "co_applicant_age": "35-44",
         "applicant_age_above_62": "No",
         "co_applicant_age_above_62": "No",
         "submission_of_application": 1111,
         "initially_payable_to_institution": 1111,
         "aus_1": 1111,
         "aus_2": "nan",
         "aus_3": "nan",
         "aus_4": "nan",
         "aus_5": "nan",
         "denial_reason_1": 1111,
         "denial_reason_2": "nan",
         "denial_reason_3": "nan",
         "denial_reason_4": "nan",
         "tract_population": 4719,
         "tract_minority_population_percent": 6.42,
         "ffiec_msa_md_median_family_income": 70400,
         "tract_to_msa_income_percentage": 161,
         "tract_owner_occupied_units": 1412,
         "tract_one_to_four_family_homes": 1616,
         "tract_median_age_of_housing_units": 33,
         "_deepnote_index_column": 4
        }
       ]
      },
      "text/plain": "   activity_year                   lei  derived_msa_md state_code  \\\n0           2018  5493002QI2ILHHZH8D20           31084         CA   \n1           2018  549300ALNLUNS3Y53T24           44060         WA   \n2           2018  549300PUSSF737Y6XW86           12060         GA   \n3           2018  JJKC32MCHWDI71265Z06           17900         SC   \n4           2018  5493002UNUIL8WHZAD63           31140         KY   \n\n   county_code  census_tract conforming_loan_limit derived_loan_product_type  \\\n0       6037.0  6.037603e+09                     C   Conventional:First Lien   \n1      53063.0  5.306301e+10                     C   Conventional:First Lien   \n2      13223.0  1.322312e+10                     C   Conventional:First Lien   \n3      45079.0  4.507901e+10                     C   Conventional:First Lien   \n4      21185.0  2.118503e+10                     C   Conventional:First Lien   \n\n              derived_dwelling_category       derived_ethnicity  ...  \\\n0  Single Family (1-4 Units):Site-Built  Not Hispanic or Latino  ...   \n1  Single Family (1-4 Units):Site-Built  Not Hispanic or Latino  ...   \n2  Single Family (1-4 Units):Site-Built  Not Hispanic or Latino  ...   \n3  Single Family (1-4 Units):Site-Built  Not Hispanic or Latino  ...   \n4  Single Family (1-4 Units):Site-Built  Not Hispanic or Latino  ...   \n\n  denial_reason_2 denial_reason_3  denial_reason_4  tract_population  \\\n0             NaN             NaN              NaN              7029   \n1             NaN             NaN              NaN              7568   \n2             NaN             NaN              NaN             11924   \n3             NaN             NaN              NaN              6860   \n4             NaN             NaN              NaN              4719   \n\n   tract_minority_population_percent  ffiec_msa_md_median_family_income  \\\n0                              96.76                              69300   \n1                              11.19                              64000   \n2                              26.72                              74400   \n3                              53.85                              68800   \n4                               6.42                              70400   \n\n   tract_to_msa_income_percentage  tract_owner_occupied_units  \\\n0                              65                         885   \n1                             138                        2002   \n2                             125                        3082   \n3                             128                        1815   \n4                             161                        1412   \n\n   tract_one_to_four_family_homes  tract_median_age_of_housing_units  \n0                            1363                                 51  \n1                            2338                                 22  \n2                            3775                                 13  \n3                            2465                                 13  \n4                            1616                                 33  \n\n[5 rows x 99 columns]",
      "text/html": "<div>\n<style scoped>\n    .dataframe tbody tr th:only-of-type {\n        vertical-align: middle;\n    }\n\n    .dataframe tbody tr th {\n        vertical-align: top;\n    }\n\n    .dataframe thead th {\n        text-align: right;\n    }\n</style>\n<table border=\"1\" class=\"dataframe\">\n  <thead>\n    <tr style=\"text-align: right;\">\n      <th></th>\n      <th>activity_year</th>\n      <th>lei</th>\n      <th>derived_msa_md</th>\n      <th>state_code</th>\n      <th>county_code</th>\n      <th>census_tract</th>\n      <th>conforming_loan_limit</th>\n      <th>derived_loan_product_type</th>\n      <th>derived_dwelling_category</th>\n      <th>derived_ethnicity</th>\n      <th>...</th>\n      <th>denial_reason_2</th>\n      <th>denial_reason_3</th>\n      <th>denial_reason_4</th>\n      <th>tract_population</th>\n      <th>tract_minority_population_percent</th>\n      <th>ffiec_msa_md_median_family_income</th>\n      <th>tract_to_msa_income_percentage</th>\n      <th>tract_owner_occupied_units</th>\n      <th>tract_one_to_four_family_homes</th>\n      <th>tract_median_age_of_housing_units</th>\n    </tr>\n  </thead>\n  <tbody>\n    <tr>\n      <th>0</th>\n      <td>2018</td>\n      <td>5493002QI2ILHHZH8D20</td>\n      <td>31084</td>\n      <td>CA</td>\n      <td>6037.0</td>\n      <td>6.037603e+09</td>\n      <td>C</td>\n      <td>Conventional:First Lien</td>\n      <td>Single Family (1-4 Units):Site-Built</td>\n      <td>Not Hispanic or Latino</td>\n      <td>...</td>\n      <td>NaN</td>\n      <td>NaN</td>\n      <td>NaN</td>\n      <td>7029</td>\n      <td>96.76</td>\n      <td>69300</td>\n      <td>65</td>\n      <td>885</td>\n      <td>1363</td>\n      <td>51</td>\n    </tr>\n    <tr>\n      <th>1</th>\n      <td>2018</td>\n      <td>549300ALNLUNS3Y53T24</td>\n      <td>44060</td>\n      <td>WA</td>\n      <td>53063.0</td>\n      <td>5.306301e+10</td>\n      <td>C</td>\n      <td>Conventional:First Lien</td>\n      <td>Single Family (1-4 Units):Site-Built</td>\n      <td>Not Hispanic or Latino</td>\n      <td>...</td>\n      <td>NaN</td>\n      <td>NaN</td>\n      <td>NaN</td>\n      <td>7568</td>\n      <td>11.19</td>\n      <td>64000</td>\n      <td>138</td>\n      <td>2002</td>\n      <td>2338</td>\n      <td>22</td>\n    </tr>\n    <tr>\n      <th>2</th>\n      <td>2018</td>\n      <td>549300PUSSF737Y6XW86</td>\n      <td>12060</td>\n      <td>GA</td>\n      <td>13223.0</td>\n      <td>1.322312e+10</td>\n      <td>C</td>\n      <td>Conventional:First Lien</td>\n      <td>Single Family (1-4 Units):Site-Built</td>\n      <td>Not Hispanic or Latino</td>\n      <td>...</td>\n      <td>NaN</td>\n      <td>NaN</td>\n      <td>NaN</td>\n      <td>11924</td>\n      <td>26.72</td>\n      <td>74400</td>\n      <td>125</td>\n      <td>3082</td>\n      <td>3775</td>\n      <td>13</td>\n    </tr>\n    <tr>\n      <th>3</th>\n      <td>2018</td>\n      <td>JJKC32MCHWDI71265Z06</td>\n      <td>17900</td>\n      <td>SC</td>\n      <td>45079.0</td>\n      <td>4.507901e+10</td>\n      <td>C</td>\n      <td>Conventional:First Lien</td>\n      <td>Single Family (1-4 Units):Site-Built</td>\n      <td>Not Hispanic or Latino</td>\n      <td>...</td>\n      <td>NaN</td>\n      <td>NaN</td>\n      <td>NaN</td>\n      <td>6860</td>\n      <td>53.85</td>\n      <td>68800</td>\n      <td>128</td>\n      <td>1815</td>\n      <td>2465</td>\n      <td>13</td>\n    </tr>\n    <tr>\n      <th>4</th>\n      <td>2018</td>\n      <td>5493002UNUIL8WHZAD63</td>\n      <td>31140</td>\n      <td>KY</td>\n      <td>21185.0</td>\n      <td>2.118503e+10</td>\n      <td>C</td>\n      <td>Conventional:First Lien</td>\n      <td>Single Family (1-4 Units):Site-Built</td>\n      <td>Not Hispanic or Latino</td>\n      <td>...</td>\n      <td>NaN</td>\n      <td>NaN</td>\n      <td>NaN</td>\n      <td>4719</td>\n      <td>6.42</td>\n      <td>70400</td>\n      <td>161</td>\n      <td>1412</td>\n      <td>1616</td>\n      <td>33</td>\n    </tr>\n  </tbody>\n</table>\n<p>5 rows × 99 columns</p>\n</div>"
     },
     "metadata": {}
    }
   ],
   "execution_count": 24
  },
  {
   "cell_type": "code",
   "source": "df['approved'] = (df['action_taken'] == 1) | (df['action_taken'] == 2)",
   "metadata": {
    "cell_id": "ed0136020963489db61e07139d7e29ee",
    "tags": [],
    "deepnote_to_be_reexecuted": false,
    "source_hash": "3495815c",
    "execution_start": 1648658415612,
    "execution_millis": 8,
    "deepnote_cell_type": "code",
    "deepnote_cell_height": 80.953125
   },
   "outputs": [],
   "execution_count": 25
  },
  {
   "cell_type": "code",
   "source": "df = df[(df['derived_race'] == \"Asian\") & (df['derived_sex'] == \"Joint\")]\ndf",
   "metadata": {
    "cell_id": "22feb266d66b471c8b45448e01b431cd",
    "tags": [],
    "deepnote_to_be_reexecuted": false,
    "source_hash": "bcd72743",
    "execution_start": 1648660724389,
    "execution_millis": 446,
    "deepnote_cell_type": "code",
    "deepnote_cell_height": 631.015625
   },
   "outputs": [
    {
     "output_type": "execute_result",
     "execution_count": 50,
     "data": {
      "application/vnd.deepnote.dataframe.v3+json": {
       "column_count": 100,
       "row_count": 257,
       "columns": [
        {
         "name": "activity_year",
         "dtype": "int64",
         "stats": {
          "unique_count": 1,
          "nan_count": 0,
          "min": "2018",
          "max": "2018",
          "histogram": [
           {
            "bin_start": 2017.5,
            "bin_end": 2017.6,
            "count": 0
           },
           {
            "bin_start": 2017.6,
            "bin_end": 2017.7,
            "count": 0
           },
           {
            "bin_start": 2017.7,
            "bin_end": 2017.8,
            "count": 0
           },
           {
            "bin_start": 2017.8,
            "bin_end": 2017.9,
            "count": 0
           },
           {
            "bin_start": 2017.9,
            "bin_end": 2018,
            "count": 0
           },
           {
            "bin_start": 2018,
            "bin_end": 2018.1,
            "count": 257
           },
           {
            "bin_start": 2018.1,
            "bin_end": 2018.2,
            "count": 0
           },
           {
            "bin_start": 2018.2,
            "bin_end": 2018.3,
            "count": 0
           },
           {
            "bin_start": 2018.3,
            "bin_end": 2018.4,
            "count": 0
           },
           {
            "bin_start": 2018.4,
            "bin_end": 2018.5,
            "count": 0
           }
          ]
         }
        },
        {
         "name": "lei",
         "dtype": "object",
         "stats": {
          "unique_count": 136,
          "nan_count": 0,
          "categories": [
           {
            "name": "B4TYDEB6GKMZO031MB27",
            "count": 23
           },
           {
            "name": "7H6GLXDRUGQFU57RNE97",
            "count": 22
           },
           {
            "name": "134 others",
            "count": 212
           }
          ]
         }
        },
        {
         "name": "derived_msa_md",
         "dtype": "int64",
         "stats": {
          "unique_count": 76,
          "nan_count": 0,
          "min": "0",
          "max": "99999",
          "histogram": [
           {
            "bin_start": 0,
            "bin_end": 9999.9,
            "count": 9
           },
           {
            "bin_start": 9999.9,
            "bin_end": 19999.8,
            "count": 56
           },
           {
            "bin_start": 19999.8,
            "bin_end": 29999.699999999997,
            "count": 21
           },
           {
            "bin_start": 29999.699999999997,
            "bin_end": 39999.6,
            "count": 88
           },
           {
            "bin_start": 39999.6,
            "bin_end": 49999.5,
            "count": 80
           },
           {
            "bin_start": 49999.5,
            "bin_end": 59999.399999999994,
            "count": 0
           },
           {
            "bin_start": 59999.399999999994,
            "bin_end": 69999.3,
            "count": 0
           },
           {
            "bin_start": 69999.3,
            "bin_end": 79999.2,
            "count": 0
           },
           {
            "bin_start": 79999.2,
            "bin_end": 89999.09999999999,
            "count": 0
           },
           {
            "bin_start": 89999.09999999999,
            "bin_end": 99999,
            "count": 3
           }
          ]
         }
        },
        {
         "name": "state_code",
         "dtype": "object",
         "stats": {
          "unique_count": 31,
          "nan_count": 3,
          "categories": [
           {
            "name": "CA",
            "count": 100
           },
           {
            "name": "30 others",
            "count": 154
           },
           {
            "name": "Missing",
            "count": 3
           }
          ]
         }
        },
        {
         "name": "county_code",
         "dtype": "float64",
         "stats": {
          "unique_count": 104,
          "nan_count": 9,
          "min": "1089.0",
          "max": "55079.0",
          "histogram": [
           {
            "bin_start": 1089,
            "bin_end": 6488,
            "count": 100
           },
           {
            "bin_start": 6488,
            "bin_end": 11887,
            "count": 3
           },
           {
            "bin_start": 11887,
            "bin_end": 17286,
            "count": 35
           },
           {
            "bin_start": 17286,
            "bin_end": 22685,
            "count": 1
           },
           {
            "bin_start": 22685,
            "bin_end": 28084,
            "count": 11
           },
           {
            "bin_start": 28084,
            "bin_end": 33483,
            "count": 7
           },
           {
            "bin_start": 33483,
            "bin_end": 38882,
            "count": 35
           },
           {
            "bin_start": 38882,
            "bin_end": 44281,
            "count": 14
           },
           {
            "bin_start": 44281,
            "bin_end": 49680,
            "count": 23
           },
           {
            "bin_start": 49680,
            "bin_end": 55079,
            "count": 19
           }
          ]
         }
        },
        {
         "name": "census_tract",
         "dtype": "float64",
         "stats": {
          "unique_count": 244,
          "nan_count": 9,
          "min": "1089011011.0",
          "max": "55079160203.0",
          "histogram": [
           {
            "bin_start": 1089011011,
            "bin_end": 6488025930.2,
            "count": 100
           },
           {
            "bin_start": 6488025930.2,
            "bin_end": 11887040849.4,
            "count": 3
           },
           {
            "bin_start": 11887040849.4,
            "bin_end": 17286055768.6,
            "count": 35
           },
           {
            "bin_start": 17286055768.6,
            "bin_end": 22685070687.8,
            "count": 1
           },
           {
            "bin_start": 22685070687.8,
            "bin_end": 28084085607,
            "count": 11
           },
           {
            "bin_start": 28084085607,
            "bin_end": 33483100526.199997,
            "count": 7
           },
           {
            "bin_start": 33483100526.199997,
            "bin_end": 38882115445.4,
            "count": 35
           },
           {
            "bin_start": 38882115445.4,
            "bin_end": 44281130364.6,
            "count": 14
           },
           {
            "bin_start": 44281130364.6,
            "bin_end": 49680145283.799995,
            "count": 23
           },
           {
            "bin_start": 49680145283.799995,
            "bin_end": 55079160203,
            "count": 19
           }
          ]
         }
        },
        {
         "name": "conforming_loan_limit",
         "dtype": "object",
         "stats": {
          "unique_count": 3,
          "nan_count": 0,
          "categories": [
           {
            "name": "C",
            "count": 216
           },
           {
            "name": "NC",
            "count": 40
           },
           {
            "name": "U",
            "count": 1
           }
          ]
         }
        },
        {
         "name": "derived_loan_product_type",
         "dtype": "object",
         "stats": {
          "unique_count": 4,
          "nan_count": 0,
          "categories": [
           {
            "name": "Conventional:First Lien",
            "count": 174
           },
           {
            "name": "Conventional:Subordinate Lien",
            "count": 53
           },
           {
            "name": "2 others",
            "count": 30
           }
          ]
         }
        },
        {
         "name": "derived_dwelling_category",
         "dtype": "object",
         "stats": {
          "unique_count": 1,
          "nan_count": 0,
          "categories": [
           {
            "name": "Single Family (1-4 Units):Site-Built",
            "count": 257
           }
          ]
         }
        },
        {
         "name": "derived_ethnicity",
         "dtype": "object",
         "stats": {
          "unique_count": 4,
          "nan_count": 0,
          "categories": [
           {
            "name": "Not Hispanic or Latino",
            "count": 245
           },
           {
            "name": "Ethnicity Not Available",
            "count": 6
           },
           {
            "name": "2 others",
            "count": 6
           }
          ]
         }
        },
        {
         "name": "derived_race",
         "dtype": "object",
         "stats": {
          "unique_count": 1,
          "nan_count": 0,
          "categories": [
           {
            "name": "Asian",
            "count": 257
           }
          ]
         }
        },
        {
         "name": "derived_sex",
         "dtype": "object",
         "stats": {
          "unique_count": 1,
          "nan_count": 0,
          "categories": [
           {
            "name": "Joint",
            "count": 257
           }
          ]
         }
        },
        {
         "name": "action_taken",
         "dtype": "int64",
         "stats": {
          "unique_count": 8,
          "nan_count": 0,
          "min": "1",
          "max": "8",
          "histogram": [
           {
            "bin_start": 1,
            "bin_end": 1.7,
            "count": 137
           },
           {
            "bin_start": 1.7,
            "bin_end": 2.4,
            "count": 6
           },
           {
            "bin_start": 2.4,
            "bin_end": 3.0999999999999996,
            "count": 47
           },
           {
            "bin_start": 3.0999999999999996,
            "bin_end": 3.8,
            "count": 0
           },
           {
            "bin_start": 3.8,
            "bin_end": 4.5,
            "count": 35
           },
           {
            "bin_start": 4.5,
            "bin_end": 5.199999999999999,
            "count": 13
           },
           {
            "bin_start": 5.199999999999999,
            "bin_end": 5.8999999999999995,
            "count": 0
           },
           {
            "bin_start": 5.8999999999999995,
            "bin_end": 6.6,
            "count": 13
           },
           {
            "bin_start": 6.6,
            "bin_end": 7.3,
            "count": 3
           },
           {
            "bin_start": 7.3,
            "bin_end": 8,
            "count": 3
           }
          ]
         }
        },
        {
         "name": "purchaser_type",
         "dtype": "int64",
         "stats": {
          "unique_count": 10,
          "nan_count": 0,
          "min": "0",
          "max": "72",
          "histogram": [
           {
            "bin_start": 0,
            "bin_end": 7.2,
            "count": 246
           },
           {
            "bin_start": 7.2,
            "bin_end": 14.4,
            "count": 4
           },
           {
            "bin_start": 14.4,
            "bin_end": 21.6,
            "count": 0
           },
           {
            "bin_start": 21.6,
            "bin_end": 28.8,
            "count": 0
           },
           {
            "bin_start": 28.8,
            "bin_end": 36,
            "count": 0
           },
           {
            "bin_start": 36,
            "bin_end": 43.2,
            "count": 0
           },
           {
            "bin_start": 43.2,
            "bin_end": 50.4,
            "count": 0
           },
           {
            "bin_start": 50.4,
            "bin_end": 57.6,
            "count": 0
           },
           {
            "bin_start": 57.6,
            "bin_end": 64.8,
            "count": 0
           },
           {
            "bin_start": 64.8,
            "bin_end": 72,
            "count": 7
           }
          ]
         }
        },
        {
         "name": "preapproval",
         "dtype": "int64",
         "stats": {
          "unique_count": 2,
          "nan_count": 0,
          "min": "1",
          "max": "2",
          "histogram": [
           {
            "bin_start": 1,
            "bin_end": 1.1,
            "count": 11
           },
           {
            "bin_start": 1.1,
            "bin_end": 1.2,
            "count": 0
           },
           {
            "bin_start": 1.2,
            "bin_end": 1.3,
            "count": 0
           },
           {
            "bin_start": 1.3,
            "bin_end": 1.4,
            "count": 0
           },
           {
            "bin_start": 1.4,
            "bin_end": 1.5,
            "count": 0
           },
           {
            "bin_start": 1.5,
            "bin_end": 1.6,
            "count": 0
           },
           {
            "bin_start": 1.6,
            "bin_end": 1.7000000000000002,
            "count": 0
           },
           {
            "bin_start": 1.7000000000000002,
            "bin_end": 1.8,
            "count": 0
           },
           {
            "bin_start": 1.8,
            "bin_end": 1.9,
            "count": 0
           },
           {
            "bin_start": 1.9,
            "bin_end": 2,
            "count": 246
           }
          ]
         }
        },
        {
         "name": "loan_type",
         "dtype": "int64",
         "stats": {
          "unique_count": 3,
          "nan_count": 0,
          "min": "1",
          "max": "3",
          "histogram": [
           {
            "bin_start": 1,
            "bin_end": 1.2,
            "count": 227
           },
           {
            "bin_start": 1.2,
            "bin_end": 1.4,
            "count": 0
           },
           {
            "bin_start": 1.4,
            "bin_end": 1.6,
            "count": 0
           },
           {
            "bin_start": 1.6,
            "bin_end": 1.8,
            "count": 0
           },
           {
            "bin_start": 1.8,
            "bin_end": 2,
            "count": 0
           },
           {
            "bin_start": 2,
            "bin_end": 2.2,
            "count": 23
           },
           {
            "bin_start": 2.2,
            "bin_end": 2.4000000000000004,
            "count": 0
           },
           {
            "bin_start": 2.4000000000000004,
            "bin_end": 2.6,
            "count": 0
           },
           {
            "bin_start": 2.6,
            "bin_end": 2.8,
            "count": 0
           },
           {
            "bin_start": 2.8,
            "bin_end": 3,
            "count": 7
           }
          ]
         }
        },
        {
         "name": "loan_purpose",
         "dtype": "int64",
         "stats": {
          "unique_count": 5,
          "nan_count": 0,
          "min": "1",
          "max": "32",
          "histogram": [
           {
            "bin_start": 1,
            "bin_end": 4.1,
            "count": 190
           },
           {
            "bin_start": 4.1,
            "bin_end": 7.2,
            "count": 0
           },
           {
            "bin_start": 7.2,
            "bin_end": 10.3,
            "count": 0
           },
           {
            "bin_start": 10.3,
            "bin_end": 13.4,
            "count": 0
           },
           {
            "bin_start": 13.4,
            "bin_end": 16.5,
            "count": 0
           },
           {
            "bin_start": 16.5,
            "bin_end": 19.6,
            "count": 0
           },
           {
            "bin_start": 19.6,
            "bin_end": 22.7,
            "count": 0
           },
           {
            "bin_start": 22.7,
            "bin_end": 25.8,
            "count": 0
           },
           {
            "bin_start": 25.8,
            "bin_end": 28.900000000000002,
            "count": 0
           },
           {
            "bin_start": 28.900000000000002,
            "bin_end": 32,
            "count": 67
           }
          ]
         }
        },
        {
         "name": "lien_status",
         "dtype": "int64",
         "stats": {
          "unique_count": 2,
          "nan_count": 0,
          "min": "1",
          "max": "2",
          "histogram": [
           {
            "bin_start": 1,
            "bin_end": 1.1,
            "count": 204
           },
           {
            "bin_start": 1.1,
            "bin_end": 1.2,
            "count": 0
           },
           {
            "bin_start": 1.2,
            "bin_end": 1.3,
            "count": 0
           },
           {
            "bin_start": 1.3,
            "bin_end": 1.4,
            "count": 0
           },
           {
            "bin_start": 1.4,
            "bin_end": 1.5,
            "count": 0
           },
           {
            "bin_start": 1.5,
            "bin_end": 1.6,
            "count": 0
           },
           {
            "bin_start": 1.6,
            "bin_end": 1.7000000000000002,
            "count": 0
           },
           {
            "bin_start": 1.7000000000000002,
            "bin_end": 1.8,
            "count": 0
           },
           {
            "bin_start": 1.8,
            "bin_end": 1.9,
            "count": 0
           },
           {
            "bin_start": 1.9,
            "bin_end": 2,
            "count": 53
           }
          ]
         }
        },
        {
         "name": "reverse_mortgage",
         "dtype": "int64",
         "stats": {
          "unique_count": 1,
          "nan_count": 0,
          "min": "2",
          "max": "2",
          "histogram": [
           {
            "bin_start": 1.5,
            "bin_end": 1.6,
            "count": 0
           },
           {
            "bin_start": 1.6,
            "bin_end": 1.7,
            "count": 0
           },
           {
            "bin_start": 1.7,
            "bin_end": 1.8,
            "count": 0
           },
           {
            "bin_start": 1.8,
            "bin_end": 1.9,
            "count": 0
           },
           {
            "bin_start": 1.9,
            "bin_end": 2,
            "count": 0
           },
           {
            "bin_start": 2,
            "bin_end": 2.1,
            "count": 257
           },
           {
            "bin_start": 2.1,
            "bin_end": 2.2,
            "count": 0
           },
           {
            "bin_start": 2.2,
            "bin_end": 2.3,
            "count": 0
           },
           {
            "bin_start": 2.3,
            "bin_end": 2.4,
            "count": 0
           },
           {
            "bin_start": 2.4,
            "bin_end": 2.5,
            "count": 0
           }
          ]
         }
        },
        {
         "name": "open_end_line_of_credit",
         "dtype": "int64",
         "stats": {
          "unique_count": 2,
          "nan_count": 0,
          "min": "1",
          "max": "2",
          "histogram": [
           {
            "bin_start": 1,
            "bin_end": 1.1,
            "count": 63
           },
           {
            "bin_start": 1.1,
            "bin_end": 1.2,
            "count": 0
           },
           {
            "bin_start": 1.2,
            "bin_end": 1.3,
            "count": 0
           },
           {
            "bin_start": 1.3,
            "bin_end": 1.4,
            "count": 0
           },
           {
            "bin_start": 1.4,
            "bin_end": 1.5,
            "count": 0
           },
           {
            "bin_start": 1.5,
            "bin_end": 1.6,
            "count": 0
           },
           {
            "bin_start": 1.6,
            "bin_end": 1.7000000000000002,
            "count": 0
           },
           {
            "bin_start": 1.7000000000000002,
            "bin_end": 1.8,
            "count": 0
           },
           {
            "bin_start": 1.8,
            "bin_end": 1.9,
            "count": 0
           },
           {
            "bin_start": 1.9,
            "bin_end": 2,
            "count": 194
           }
          ]
         }
        },
        {
         "name": "business_or_commercial_purpose",
         "dtype": "int64",
         "stats": {
          "unique_count": 2,
          "nan_count": 0,
          "min": "1",
          "max": "2",
          "histogram": [
           {
            "bin_start": 1,
            "bin_end": 1.1,
            "count": 13
           },
           {
            "bin_start": 1.1,
            "bin_end": 1.2,
            "count": 0
           },
           {
            "bin_start": 1.2,
            "bin_end": 1.3,
            "count": 0
           },
           {
            "bin_start": 1.3,
            "bin_end": 1.4,
            "count": 0
           },
           {
            "bin_start": 1.4,
            "bin_end": 1.5,
            "count": 0
           },
           {
            "bin_start": 1.5,
            "bin_end": 1.6,
            "count": 0
           },
           {
            "bin_start": 1.6,
            "bin_end": 1.7000000000000002,
            "count": 0
           },
           {
            "bin_start": 1.7000000000000002,
            "bin_end": 1.8,
            "count": 0
           },
           {
            "bin_start": 1.8,
            "bin_end": 1.9,
            "count": 0
           },
           {
            "bin_start": 1.9,
            "bin_end": 2,
            "count": 244
           }
          ]
         }
        },
        {
         "name": "loan_amount",
         "dtype": "int64",
         "stats": {
          "unique_count": 79,
          "nan_count": 0,
          "min": "25000",
          "max": "2265000",
          "histogram": [
           {
            "bin_start": 25000,
            "bin_end": 249000,
            "count": 101
           },
           {
            "bin_start": 249000,
            "bin_end": 473000,
            "count": 76
           },
           {
            "bin_start": 473000,
            "bin_end": 697000,
            "count": 54
           },
           {
            "bin_start": 697000,
            "bin_end": 921000,
            "count": 11
           },
           {
            "bin_start": 921000,
            "bin_end": 1145000,
            "count": 8
           },
           {
            "bin_start": 1145000,
            "bin_end": 1369000,
            "count": 2
           },
           {
            "bin_start": 1369000,
            "bin_end": 1593000,
            "count": 3
           },
           {
            "bin_start": 1593000,
            "bin_end": 1817000,
            "count": 1
           },
           {
            "bin_start": 1817000,
            "bin_end": 2041000,
            "count": 0
           },
           {
            "bin_start": 2041000,
            "bin_end": 2265000,
            "count": 1
           }
          ]
         }
        },
        {
         "name": "loan_to_value_ratio",
         "dtype": "object",
         "stats": {
          "unique_count": 114,
          "nan_count": 65,
          "categories": [
           {
            "name": "80",
            "count": 36
           },
           {
            "name": "113 others",
            "count": 156
           },
           {
            "name": "Missing",
            "count": 65
           }
          ]
         }
        },
        {
         "name": "interest_rate",
         "dtype": "object",
         "stats": {
          "unique_count": 46,
          "nan_count": 98,
          "categories": [
           {
            "name": "4.5",
            "count": 16
           },
           {
            "name": "45 others",
            "count": 143
           },
           {
            "name": "Missing",
            "count": 98
           }
          ]
         }
        },
        {
         "name": "rate_spread",
         "dtype": "object",
         "stats": {
          "unique_count": 128,
          "nan_count": 128,
          "categories": [
           {
            "name": "1.17",
            "count": 2
           },
           {
            "name": "127 others",
            "count": 127
           },
           {
            "name": "Missing",
            "count": 128
           }
          ]
         }
        },
        {
         "name": "hoepa_status",
         "dtype": "int64",
         "stats": {
          "unique_count": 2,
          "nan_count": 0,
          "min": "2",
          "max": "3",
          "histogram": [
           {
            "bin_start": 2,
            "bin_end": 2.1,
            "count": 130
           },
           {
            "bin_start": 2.1,
            "bin_end": 2.2,
            "count": 0
           },
           {
            "bin_start": 2.2,
            "bin_end": 2.3,
            "count": 0
           },
           {
            "bin_start": 2.3,
            "bin_end": 2.4,
            "count": 0
           },
           {
            "bin_start": 2.4,
            "bin_end": 2.5,
            "count": 0
           },
           {
            "bin_start": 2.5,
            "bin_end": 2.6,
            "count": 0
           },
           {
            "bin_start": 2.6,
            "bin_end": 2.7,
            "count": 0
           },
           {
            "bin_start": 2.7,
            "bin_end": 2.8,
            "count": 0
           },
           {
            "bin_start": 2.8,
            "bin_end": 2.9,
            "count": 0
           },
           {
            "bin_start": 2.9,
            "bin_end": 3,
            "count": 127
           }
          ]
         }
        },
        {
         "name": "total_loan_costs",
         "dtype": "object",
         "stats": {
          "unique_count": 107,
          "nan_count": 149,
          "categories": [
           {
            "name": "0",
            "count": 2
           },
           {
            "name": "106 others",
            "count": 106
           },
           {
            "name": "Missing",
            "count": 149
           }
          ]
         }
        },
        {
         "name": "total_points_and_fees",
         "dtype": "object",
         "stats": {
          "unique_count": 1,
          "nan_count": 256,
          "categories": [
           {
            "name": "200",
            "count": 1
           },
           {
            "name": "Missing",
            "count": 256
           }
          ]
         }
        },
        {
         "name": "origination_charges",
         "dtype": "object",
         "stats": {
          "unique_count": 89,
          "nan_count": 153,
          "categories": [
           {
            "name": "0",
            "count": 5
           },
           {
            "name": "88 others",
            "count": 99
           },
           {
            "name": "Missing",
            "count": 153
           }
          ]
         }
        },
        {
         "name": "discount_points",
         "dtype": "object",
         "stats": {
          "unique_count": 31,
          "nan_count": 226,
          "categories": [
           {
            "name": "2768",
            "count": 1
           },
           {
            "name": "30 others",
            "count": 30
           },
           {
            "name": "Missing",
            "count": 226
           }
          ]
         }
        },
        {
         "name": "lender_credits",
         "dtype": "object",
         "stats": {
          "unique_count": 49,
          "nan_count": 206,
          "categories": [
           {
            "name": "550",
            "count": 2
           },
           {
            "name": "48 others",
            "count": 49
           },
           {
            "name": "Missing",
            "count": 206
           }
          ]
         }
        },
        {
         "name": "loan_term",
         "dtype": "object",
         "stats": {
          "unique_count": 12,
          "nan_count": 2,
          "categories": [
           {
            "name": "360",
            "count": 210
           },
           {
            "name": "11 others",
            "count": 45
           },
           {
            "name": "Missing",
            "count": 2
           }
          ]
         }
        },
        {
         "name": "prepayment_penalty_term",
         "dtype": "object",
         "stats": {
          "unique_count": 2,
          "nan_count": 228,
          "categories": [
           {
            "name": "36",
            "count": 28
           },
           {
            "name": "24",
            "count": 1
           },
           {
            "name": "Missing",
            "count": 228
           }
          ]
         }
        },
        {
         "name": "intro_rate_period",
         "dtype": "object",
         "stats": {
          "unique_count": 14,
          "nan_count": 175,
          "categories": [
           {
            "name": "1",
            "count": 37
           },
           {
            "name": "13 others",
            "count": 45
           },
           {
            "name": "Missing",
            "count": 175
           }
          ]
         }
        },
        {
         "name": "negative_amortization",
         "dtype": "int64",
         "stats": {
          "unique_count": 1,
          "nan_count": 0,
          "min": "2",
          "max": "2",
          "histogram": [
           {
            "bin_start": 1.5,
            "bin_end": 1.6,
            "count": 0
           },
           {
            "bin_start": 1.6,
            "bin_end": 1.7,
            "count": 0
           },
           {
            "bin_start": 1.7,
            "bin_end": 1.8,
            "count": 0
           },
           {
            "bin_start": 1.8,
            "bin_end": 1.9,
            "count": 0
           },
           {
            "bin_start": 1.9,
            "bin_end": 2,
            "count": 0
           },
           {
            "bin_start": 2,
            "bin_end": 2.1,
            "count": 257
           },
           {
            "bin_start": 2.1,
            "bin_end": 2.2,
            "count": 0
           },
           {
            "bin_start": 2.2,
            "bin_end": 2.3,
            "count": 0
           },
           {
            "bin_start": 2.3,
            "bin_end": 2.4,
            "count": 0
           },
           {
            "bin_start": 2.4,
            "bin_end": 2.5,
            "count": 0
           }
          ]
         }
        },
        {
         "name": "interest_only_payment",
         "dtype": "int64",
         "stats": {
          "unique_count": 2,
          "nan_count": 0,
          "min": "1",
          "max": "2",
          "histogram": [
           {
            "bin_start": 1,
            "bin_end": 1.1,
            "count": 29
           },
           {
            "bin_start": 1.1,
            "bin_end": 1.2,
            "count": 0
           },
           {
            "bin_start": 1.2,
            "bin_end": 1.3,
            "count": 0
           },
           {
            "bin_start": 1.3,
            "bin_end": 1.4,
            "count": 0
           },
           {
            "bin_start": 1.4,
            "bin_end": 1.5,
            "count": 0
           },
           {
            "bin_start": 1.5,
            "bin_end": 1.6,
            "count": 0
           },
           {
            "bin_start": 1.6,
            "bin_end": 1.7000000000000002,
            "count": 0
           },
           {
            "bin_start": 1.7000000000000002,
            "bin_end": 1.8,
            "count": 0
           },
           {
            "bin_start": 1.8,
            "bin_end": 1.9,
            "count": 0
           },
           {
            "bin_start": 1.9,
            "bin_end": 2,
            "count": 228
           }
          ]
         }
        },
        {
         "name": "balloon_payment",
         "dtype": "int64",
         "stats": {
          "unique_count": 2,
          "nan_count": 0,
          "min": "1",
          "max": "2",
          "histogram": [
           {
            "bin_start": 1,
            "bin_end": 1.1,
            "count": 5
           },
           {
            "bin_start": 1.1,
            "bin_end": 1.2,
            "count": 0
           },
           {
            "bin_start": 1.2,
            "bin_end": 1.3,
            "count": 0
           },
           {
            "bin_start": 1.3,
            "bin_end": 1.4,
            "count": 0
           },
           {
            "bin_start": 1.4,
            "bin_end": 1.5,
            "count": 0
           },
           {
            "bin_start": 1.5,
            "bin_end": 1.6,
            "count": 0
           },
           {
            "bin_start": 1.6,
            "bin_end": 1.7000000000000002,
            "count": 0
           },
           {
            "bin_start": 1.7000000000000002,
            "bin_end": 1.8,
            "count": 0
           },
           {
            "bin_start": 1.8,
            "bin_end": 1.9,
            "count": 0
           },
           {
            "bin_start": 1.9,
            "bin_end": 2,
            "count": 252
           }
          ]
         }
        },
        {
         "name": "other_nonamortizing_features",
         "dtype": "int64",
         "stats": {
          "unique_count": 2,
          "nan_count": 0,
          "min": "1",
          "max": "2",
          "histogram": [
           {
            "bin_start": 1,
            "bin_end": 1.1,
            "count": 10
           },
           {
            "bin_start": 1.1,
            "bin_end": 1.2,
            "count": 0
           },
           {
            "bin_start": 1.2,
            "bin_end": 1.3,
            "count": 0
           },
           {
            "bin_start": 1.3,
            "bin_end": 1.4,
            "count": 0
           },
           {
            "bin_start": 1.4,
            "bin_end": 1.5,
            "count": 0
           },
           {
            "bin_start": 1.5,
            "bin_end": 1.6,
            "count": 0
           },
           {
            "bin_start": 1.6,
            "bin_end": 1.7000000000000002,
            "count": 0
           },
           {
            "bin_start": 1.7000000000000002,
            "bin_end": 1.8,
            "count": 0
           },
           {
            "bin_start": 1.8,
            "bin_end": 1.9,
            "count": 0
           },
           {
            "bin_start": 1.9,
            "bin_end": 2,
            "count": 247
           }
          ]
         }
        },
        {
         "name": "property_value",
         "dtype": "float64",
         "stats": {
          "unique_count": 103,
          "nan_count": 53,
          "min": "85000.0",
          "max": "2835000.0",
          "histogram": [
           {
            "bin_start": 85000,
            "bin_end": 360000,
            "count": 55
           },
           {
            "bin_start": 360000,
            "bin_end": 635000,
            "count": 67
           },
           {
            "bin_start": 635000,
            "bin_end": 910000,
            "count": 37
           },
           {
            "bin_start": 910000,
            "bin_end": 1185000,
            "count": 17
           },
           {
            "bin_start": 1185000,
            "bin_end": 1460000,
            "count": 9
           },
           {
            "bin_start": 1460000,
            "bin_end": 1735000,
            "count": 6
           },
           {
            "bin_start": 1735000,
            "bin_end": 2010000,
            "count": 9
           },
           {
            "bin_start": 2010000,
            "bin_end": 2285000,
            "count": 2
           },
           {
            "bin_start": 2285000,
            "bin_end": 2560000,
            "count": 1
           },
           {
            "bin_start": 2560000,
            "bin_end": 2835000,
            "count": 1
           }
          ]
         }
        },
        {
         "name": "construction_method",
         "dtype": "int64",
         "stats": {
          "unique_count": 1,
          "nan_count": 0,
          "min": "1",
          "max": "1",
          "histogram": [
           {
            "bin_start": 0.5,
            "bin_end": 0.6,
            "count": 0
           },
           {
            "bin_start": 0.6,
            "bin_end": 0.7,
            "count": 0
           },
           {
            "bin_start": 0.7,
            "bin_end": 0.8,
            "count": 0
           },
           {
            "bin_start": 0.8,
            "bin_end": 0.9,
            "count": 0
           },
           {
            "bin_start": 0.9,
            "bin_end": 1,
            "count": 0
           },
           {
            "bin_start": 1,
            "bin_end": 1.1,
            "count": 257
           },
           {
            "bin_start": 1.1,
            "bin_end": 1.2000000000000002,
            "count": 0
           },
           {
            "bin_start": 1.2000000000000002,
            "bin_end": 1.3,
            "count": 0
           },
           {
            "bin_start": 1.3,
            "bin_end": 1.4,
            "count": 0
           },
           {
            "bin_start": 1.4,
            "bin_end": 1.5,
            "count": 0
           }
          ]
         }
        },
        {
         "name": "occupancy_type",
         "dtype": "int64",
         "stats": {
          "unique_count": 3,
          "nan_count": 0,
          "min": "1",
          "max": "3",
          "histogram": [
           {
            "bin_start": 1,
            "bin_end": 1.2,
            "count": 223
           },
           {
            "bin_start": 1.2,
            "bin_end": 1.4,
            "count": 0
           },
           {
            "bin_start": 1.4,
            "bin_end": 1.6,
            "count": 0
           },
           {
            "bin_start": 1.6,
            "bin_end": 1.8,
            "count": 0
           },
           {
            "bin_start": 1.8,
            "bin_end": 2,
            "count": 0
           },
           {
            "bin_start": 2,
            "bin_end": 2.2,
            "count": 4
           },
           {
            "bin_start": 2.2,
            "bin_end": 2.4000000000000004,
            "count": 0
           },
           {
            "bin_start": 2.4000000000000004,
            "bin_end": 2.6,
            "count": 0
           },
           {
            "bin_start": 2.6,
            "bin_end": 2.8,
            "count": 0
           },
           {
            "bin_start": 2.8,
            "bin_end": 3,
            "count": 30
           }
          ]
         }
        },
        {
         "name": "manufactured_home_secured_property_type",
         "dtype": "int64",
         "stats": {
          "unique_count": 1,
          "nan_count": 0,
          "min": "3",
          "max": "3",
          "histogram": [
           {
            "bin_start": 2.5,
            "bin_end": 2.6,
            "count": 0
           },
           {
            "bin_start": 2.6,
            "bin_end": 2.7,
            "count": 0
           },
           {
            "bin_start": 2.7,
            "bin_end": 2.8,
            "count": 0
           },
           {
            "bin_start": 2.8,
            "bin_end": 2.9,
            "count": 0
           },
           {
            "bin_start": 2.9,
            "bin_end": 3,
            "count": 0
           },
           {
            "bin_start": 3,
            "bin_end": 3.1,
            "count": 257
           },
           {
            "bin_start": 3.1,
            "bin_end": 3.2,
            "count": 0
           },
           {
            "bin_start": 3.2,
            "bin_end": 3.3,
            "count": 0
           },
           {
            "bin_start": 3.3,
            "bin_end": 3.4,
            "count": 0
           },
           {
            "bin_start": 3.4,
            "bin_end": 3.5,
            "count": 0
           }
          ]
         }
        },
        {
         "name": "manufactured_home_land_property_interest",
         "dtype": "int64",
         "stats": {
          "unique_count": 1,
          "nan_count": 0,
          "min": "5",
          "max": "5",
          "histogram": [
           {
            "bin_start": 4.5,
            "bin_end": 4.6,
            "count": 0
           },
           {
            "bin_start": 4.6,
            "bin_end": 4.7,
            "count": 0
           },
           {
            "bin_start": 4.7,
            "bin_end": 4.8,
            "count": 0
           },
           {
            "bin_start": 4.8,
            "bin_end": 4.9,
            "count": 0
           },
           {
            "bin_start": 4.9,
            "bin_end": 5,
            "count": 0
           },
           {
            "bin_start": 5,
            "bin_end": 5.1,
            "count": 257
           },
           {
            "bin_start": 5.1,
            "bin_end": 5.2,
            "count": 0
           },
           {
            "bin_start": 5.2,
            "bin_end": 5.3,
            "count": 0
           },
           {
            "bin_start": 5.3,
            "bin_end": 5.4,
            "count": 0
           },
           {
            "bin_start": 5.4,
            "bin_end": 5.5,
            "count": 0
           }
          ]
         }
        },
        {
         "name": "total_units",
         "dtype": "object",
         "stats": {
          "unique_count": 4,
          "nan_count": 0,
          "categories": [
           {
            "name": "1",
            "count": 250
           },
           {
            "name": "2",
            "count": 4
           },
           {
            "name": "2 others",
            "count": 3
           }
          ]
         }
        },
        {
         "name": "multifamily_affordable_units",
         "dtype": "object",
         "stats": {
          "unique_count": 0,
          "nan_count": 257,
          "categories": [
           {
            "name": "Missing",
            "count": 257
           }
          ]
         }
        },
        {
         "name": "income",
         "dtype": "float64",
         "stats": {
          "unique_count": 178,
          "nan_count": 6,
          "min": "0.0",
          "max": "694.0",
          "histogram": [
           {
            "bin_start": 0,
            "bin_end": 69.4,
            "count": 37
           },
           {
            "bin_start": 69.4,
            "bin_end": 138.8,
            "count": 91
           },
           {
            "bin_start": 138.8,
            "bin_end": 208.20000000000002,
            "count": 61
           },
           {
            "bin_start": 208.20000000000002,
            "bin_end": 277.6,
            "count": 34
           },
           {
            "bin_start": 277.6,
            "bin_end": 347,
            "count": 11
           },
           {
            "bin_start": 347,
            "bin_end": 416.40000000000003,
            "count": 7
           },
           {
            "bin_start": 416.40000000000003,
            "bin_end": 485.80000000000007,
            "count": 3
           },
           {
            "bin_start": 485.80000000000007,
            "bin_end": 555.2,
            "count": 2
           },
           {
            "bin_start": 555.2,
            "bin_end": 624.6,
            "count": 2
           },
           {
            "bin_start": 624.6,
            "bin_end": 694,
            "count": 3
           }
          ]
         }
        },
        {
         "name": "debt_to_income_ratio",
         "dtype": "object",
         "stats": {
          "unique_count": 19,
          "nan_count": 69,
          "categories": [
           {
            "name": "30%-<36%",
            "count": 28
           },
           {
            "name": "18 others",
            "count": 160
           },
           {
            "name": "Missing",
            "count": 69
           }
          ]
         }
        },
        {
         "name": "applicant_credit_score_type",
         "dtype": "int64",
         "stats": {
          "unique_count": 6,
          "nan_count": 0,
          "min": "1",
          "max": "9",
          "histogram": [
           {
            "bin_start": 1,
            "bin_end": 1.8,
            "count": 41
           },
           {
            "bin_start": 1.8,
            "bin_end": 2.6,
            "count": 47
           },
           {
            "bin_start": 2.6,
            "bin_end": 3.4000000000000004,
            "count": 42
           },
           {
            "bin_start": 3.4000000000000004,
            "bin_end": 4.2,
            "count": 0
           },
           {
            "bin_start": 4.2,
            "bin_end": 5,
            "count": 0
           },
           {
            "bin_start": 5,
            "bin_end": 5.800000000000001,
            "count": 0
           },
           {
            "bin_start": 5.800000000000001,
            "bin_end": 6.6000000000000005,
            "count": 0
           },
           {
            "bin_start": 6.6000000000000005,
            "bin_end": 7.4,
            "count": 5
           },
           {
            "bin_start": 7.4,
            "bin_end": 8.2,
            "count": 20
           },
           {
            "bin_start": 8.2,
            "bin_end": 9,
            "count": 102
           }
          ]
         }
        },
        {
         "name": "co_applicant_credit_score_type",
         "dtype": "int64",
         "stats": {
          "unique_count": 6,
          "nan_count": 0,
          "min": "1",
          "max": "9",
          "histogram": [
           {
            "bin_start": 1,
            "bin_end": 1.8,
            "count": 23
           },
           {
            "bin_start": 1.8,
            "bin_end": 2.6,
            "count": 38
           },
           {
            "bin_start": 2.6,
            "bin_end": 3.4000000000000004,
            "count": 15
           },
           {
            "bin_start": 3.4000000000000004,
            "bin_end": 4.2,
            "count": 0
           },
           {
            "bin_start": 4.2,
            "bin_end": 5,
            "count": 0
           },
           {
            "bin_start": 5,
            "bin_end": 5.800000000000001,
            "count": 0
           },
           {
            "bin_start": 5.800000000000001,
            "bin_end": 6.6000000000000005,
            "count": 0
           },
           {
            "bin_start": 6.6000000000000005,
            "bin_end": 7.4,
            "count": 3
           },
           {
            "bin_start": 7.4,
            "bin_end": 8.2,
            "count": 14
           },
           {
            "bin_start": 8.2,
            "bin_end": 9,
            "count": 164
           }
          ]
         }
        },
        {
         "name": "applicant_ethnicity_1",
         "dtype": "float64",
         "stats": {
          "unique_count": 4,
          "nan_count": 0,
          "min": "1.0",
          "max": "14.0",
          "histogram": [
           {
            "bin_start": 1,
            "bin_end": 2.3,
            "count": 250
           },
           {
            "bin_start": 2.3,
            "bin_end": 3.6,
            "count": 6
           },
           {
            "bin_start": 3.6,
            "bin_end": 4.9,
            "count": 0
           },
           {
            "bin_start": 4.9,
            "bin_end": 6.2,
            "count": 0
           },
           {
            "bin_start": 6.2,
            "bin_end": 7.5,
            "count": 0
           },
           {
            "bin_start": 7.5,
            "bin_end": 8.8,
            "count": 0
           },
           {
            "bin_start": 8.8,
            "bin_end": 10.1,
            "count": 0
           },
           {
            "bin_start": 10.1,
            "bin_end": 11.4,
            "count": 0
           },
           {
            "bin_start": 11.4,
            "bin_end": 12.700000000000001,
            "count": 0
           },
           {
            "bin_start": 12.700000000000001,
            "bin_end": 14,
            "count": 1
           }
          ]
         }
        },
        {
         "name": "applicant_ethnicity_2",
         "dtype": "float64",
         "stats": {
          "unique_count": 0,
          "nan_count": 257,
          "min": null,
          "max": null,
          "histogram": [
           {
            "bin_start": 0,
            "bin_end": 0.1,
            "count": 0
           },
           {
            "bin_start": 0.1,
            "bin_end": 0.2,
            "count": 0
           },
           {
            "bin_start": 0.2,
            "bin_end": 0.30000000000000004,
            "count": 0
           },
           {
            "bin_start": 0.30000000000000004,
            "bin_end": 0.4,
            "count": 0
           },
           {
            "bin_start": 0.4,
            "bin_end": 0.5,
            "count": 0
           },
           {
            "bin_start": 0.5,
            "bin_end": 0.6000000000000001,
            "count": 0
           },
           {
            "bin_start": 0.6000000000000001,
            "bin_end": 0.7000000000000001,
            "count": 0
           },
           {
            "bin_start": 0.7000000000000001,
            "bin_end": 0.8,
            "count": 0
           },
           {
            "bin_start": 0.8,
            "bin_end": 0.9,
            "count": 0
           },
           {
            "bin_start": 0.9,
            "bin_end": 1,
            "count": 0
           }
          ]
         }
        },
        {
         "name": "applicant_ethnicity_3",
         "dtype": "float64",
         "stats": {
          "unique_count": 0,
          "nan_count": 257,
          "min": null,
          "max": null,
          "histogram": [
           {
            "bin_start": 0,
            "bin_end": 0.1,
            "count": 0
           },
           {
            "bin_start": 0.1,
            "bin_end": 0.2,
            "count": 0
           },
           {
            "bin_start": 0.2,
            "bin_end": 0.30000000000000004,
            "count": 0
           },
           {
            "bin_start": 0.30000000000000004,
            "bin_end": 0.4,
            "count": 0
           },
           {
            "bin_start": 0.4,
            "bin_end": 0.5,
            "count": 0
           },
           {
            "bin_start": 0.5,
            "bin_end": 0.6000000000000001,
            "count": 0
           },
           {
            "bin_start": 0.6000000000000001,
            "bin_end": 0.7000000000000001,
            "count": 0
           },
           {
            "bin_start": 0.7000000000000001,
            "bin_end": 0.8,
            "count": 0
           },
           {
            "bin_start": 0.8,
            "bin_end": 0.9,
            "count": 0
           },
           {
            "bin_start": 0.9,
            "bin_end": 1,
            "count": 0
           }
          ]
         }
        },
        {
         "name": "applicant_ethnicity_4",
         "dtype": "float64",
         "stats": {
          "unique_count": 0,
          "nan_count": 257,
          "min": null,
          "max": null,
          "histogram": [
           {
            "bin_start": 0,
            "bin_end": 0.1,
            "count": 0
           },
           {
            "bin_start": 0.1,
            "bin_end": 0.2,
            "count": 0
           },
           {
            "bin_start": 0.2,
            "bin_end": 0.30000000000000004,
            "count": 0
           },
           {
            "bin_start": 0.30000000000000004,
            "bin_end": 0.4,
            "count": 0
           },
           {
            "bin_start": 0.4,
            "bin_end": 0.5,
            "count": 0
           },
           {
            "bin_start": 0.5,
            "bin_end": 0.6000000000000001,
            "count": 0
           },
           {
            "bin_start": 0.6000000000000001,
            "bin_end": 0.7000000000000001,
            "count": 0
           },
           {
            "bin_start": 0.7000000000000001,
            "bin_end": 0.8,
            "count": 0
           },
           {
            "bin_start": 0.8,
            "bin_end": 0.9,
            "count": 0
           },
           {
            "bin_start": 0.9,
            "bin_end": 1,
            "count": 0
           }
          ]
         }
        },
        {
         "name": "applicant_ethnicity_5",
         "dtype": "float64",
         "stats": {
          "unique_count": 0,
          "nan_count": 257,
          "min": null,
          "max": null,
          "histogram": [
           {
            "bin_start": 0,
            "bin_end": 0.1,
            "count": 0
           },
           {
            "bin_start": 0.1,
            "bin_end": 0.2,
            "count": 0
           },
           {
            "bin_start": 0.2,
            "bin_end": 0.30000000000000004,
            "count": 0
           },
           {
            "bin_start": 0.30000000000000004,
            "bin_end": 0.4,
            "count": 0
           },
           {
            "bin_start": 0.4,
            "bin_end": 0.5,
            "count": 0
           },
           {
            "bin_start": 0.5,
            "bin_end": 0.6000000000000001,
            "count": 0
           },
           {
            "bin_start": 0.6000000000000001,
            "bin_end": 0.7000000000000001,
            "count": 0
           },
           {
            "bin_start": 0.7000000000000001,
            "bin_end": 0.8,
            "count": 0
           },
           {
            "bin_start": 0.8,
            "bin_end": 0.9,
            "count": 0
           },
           {
            "bin_start": 0.9,
            "bin_end": 1,
            "count": 0
           }
          ]
         }
        },
        {
         "name": "co_applicant_ethnicity_1",
         "dtype": "int64",
         "stats": {
          "unique_count": 4,
          "nan_count": 0,
          "min": "1",
          "max": "14",
          "histogram": [
           {
            "bin_start": 1,
            "bin_end": 2.3,
            "count": 245
           },
           {
            "bin_start": 2.3,
            "bin_end": 3.6,
            "count": 10
           },
           {
            "bin_start": 3.6,
            "bin_end": 4.9,
            "count": 0
           },
           {
            "bin_start": 4.9,
            "bin_end": 6.2,
            "count": 0
           },
           {
            "bin_start": 6.2,
            "bin_end": 7.5,
            "count": 0
           },
           {
            "bin_start": 7.5,
            "bin_end": 8.8,
            "count": 0
           },
           {
            "bin_start": 8.8,
            "bin_end": 10.1,
            "count": 0
           },
           {
            "bin_start": 10.1,
            "bin_end": 11.4,
            "count": 0
           },
           {
            "bin_start": 11.4,
            "bin_end": 12.700000000000001,
            "count": 0
           },
           {
            "bin_start": 12.700000000000001,
            "bin_end": 14,
            "count": 2
           }
          ]
         }
        },
        {
         "name": "co_applicant_ethnicity_2",
         "dtype": "float64",
         "stats": {
          "unique_count": 0,
          "nan_count": 257,
          "min": null,
          "max": null,
          "histogram": [
           {
            "bin_start": 0,
            "bin_end": 0.1,
            "count": 0
           },
           {
            "bin_start": 0.1,
            "bin_end": 0.2,
            "count": 0
           },
           {
            "bin_start": 0.2,
            "bin_end": 0.30000000000000004,
            "count": 0
           },
           {
            "bin_start": 0.30000000000000004,
            "bin_end": 0.4,
            "count": 0
           },
           {
            "bin_start": 0.4,
            "bin_end": 0.5,
            "count": 0
           },
           {
            "bin_start": 0.5,
            "bin_end": 0.6000000000000001,
            "count": 0
           },
           {
            "bin_start": 0.6000000000000001,
            "bin_end": 0.7000000000000001,
            "count": 0
           },
           {
            "bin_start": 0.7000000000000001,
            "bin_end": 0.8,
            "count": 0
           },
           {
            "bin_start": 0.8,
            "bin_end": 0.9,
            "count": 0
           },
           {
            "bin_start": 0.9,
            "bin_end": 1,
            "count": 0
           }
          ]
         }
        },
        {
         "name": "co_applicant_ethnicity_3",
         "dtype": "float64",
         "stats": {
          "unique_count": 0,
          "nan_count": 257,
          "min": null,
          "max": null,
          "histogram": [
           {
            "bin_start": 0,
            "bin_end": 0.1,
            "count": 0
           },
           {
            "bin_start": 0.1,
            "bin_end": 0.2,
            "count": 0
           },
           {
            "bin_start": 0.2,
            "bin_end": 0.30000000000000004,
            "count": 0
           },
           {
            "bin_start": 0.30000000000000004,
            "bin_end": 0.4,
            "count": 0
           },
           {
            "bin_start": 0.4,
            "bin_end": 0.5,
            "count": 0
           },
           {
            "bin_start": 0.5,
            "bin_end": 0.6000000000000001,
            "count": 0
           },
           {
            "bin_start": 0.6000000000000001,
            "bin_end": 0.7000000000000001,
            "count": 0
           },
           {
            "bin_start": 0.7000000000000001,
            "bin_end": 0.8,
            "count": 0
           },
           {
            "bin_start": 0.8,
            "bin_end": 0.9,
            "count": 0
           },
           {
            "bin_start": 0.9,
            "bin_end": 1,
            "count": 0
           }
          ]
         }
        },
        {
         "name": "co_applicant_ethnicity_4",
         "dtype": "float64",
         "stats": {
          "unique_count": 0,
          "nan_count": 257,
          "min": null,
          "max": null,
          "histogram": [
           {
            "bin_start": 0,
            "bin_end": 0.1,
            "count": 0
           },
           {
            "bin_start": 0.1,
            "bin_end": 0.2,
            "count": 0
           },
           {
            "bin_start": 0.2,
            "bin_end": 0.30000000000000004,
            "count": 0
           },
           {
            "bin_start": 0.30000000000000004,
            "bin_end": 0.4,
            "count": 0
           },
           {
            "bin_start": 0.4,
            "bin_end": 0.5,
            "count": 0
           },
           {
            "bin_start": 0.5,
            "bin_end": 0.6000000000000001,
            "count": 0
           },
           {
            "bin_start": 0.6000000000000001,
            "bin_end": 0.7000000000000001,
            "count": 0
           },
           {
            "bin_start": 0.7000000000000001,
            "bin_end": 0.8,
            "count": 0
           },
           {
            "bin_start": 0.8,
            "bin_end": 0.9,
            "count": 0
           },
           {
            "bin_start": 0.9,
            "bin_end": 1,
            "count": 0
           }
          ]
         }
        },
        {
         "name": "co_applicant_ethnicity_5",
         "dtype": "float64",
         "stats": {
          "unique_count": 0,
          "nan_count": 257,
          "min": null,
          "max": null,
          "histogram": [
           {
            "bin_start": 0,
            "bin_end": 0.1,
            "count": 0
           },
           {
            "bin_start": 0.1,
            "bin_end": 0.2,
            "count": 0
           },
           {
            "bin_start": 0.2,
            "bin_end": 0.30000000000000004,
            "count": 0
           },
           {
            "bin_start": 0.30000000000000004,
            "bin_end": 0.4,
            "count": 0
           },
           {
            "bin_start": 0.4,
            "bin_end": 0.5,
            "count": 0
           },
           {
            "bin_start": 0.5,
            "bin_end": 0.6000000000000001,
            "count": 0
           },
           {
            "bin_start": 0.6000000000000001,
            "bin_end": 0.7000000000000001,
            "count": 0
           },
           {
            "bin_start": 0.7000000000000001,
            "bin_end": 0.8,
            "count": 0
           },
           {
            "bin_start": 0.8,
            "bin_end": 0.9,
            "count": 0
           },
           {
            "bin_start": 0.9,
            "bin_end": 1,
            "count": 0
           }
          ]
         }
        },
        {
         "name": "applicant_ethnicity_observed",
         "dtype": "int64",
         "stats": {
          "unique_count": 3,
          "nan_count": 0,
          "min": "1",
          "max": "3",
          "histogram": [
           {
            "bin_start": 1,
            "bin_end": 1.2,
            "count": 24
           },
           {
            "bin_start": 1.2,
            "bin_end": 1.4,
            "count": 0
           },
           {
            "bin_start": 1.4,
            "bin_end": 1.6,
            "count": 0
           },
           {
            "bin_start": 1.6,
            "bin_end": 1.8,
            "count": 0
           },
           {
            "bin_start": 1.8,
            "bin_end": 2,
            "count": 0
           },
           {
            "bin_start": 2,
            "bin_end": 2.2,
            "count": 216
           },
           {
            "bin_start": 2.2,
            "bin_end": 2.4000000000000004,
            "count": 0
           },
           {
            "bin_start": 2.4000000000000004,
            "bin_end": 2.6,
            "count": 0
           },
           {
            "bin_start": 2.6,
            "bin_end": 2.8,
            "count": 0
           },
           {
            "bin_start": 2.8,
            "bin_end": 3,
            "count": 17
           }
          ]
         }
        },
        {
         "name": "co_applicant_ethnicity_observed",
         "dtype": "int64",
         "stats": {
          "unique_count": 3,
          "nan_count": 0,
          "min": "1",
          "max": "3",
          "histogram": [
           {
            "bin_start": 1,
            "bin_end": 1.2,
            "count": 20
           },
           {
            "bin_start": 1.2,
            "bin_end": 1.4,
            "count": 0
           },
           {
            "bin_start": 1.4,
            "bin_end": 1.6,
            "count": 0
           },
           {
            "bin_start": 1.6,
            "bin_end": 1.8,
            "count": 0
           },
           {
            "bin_start": 1.8,
            "bin_end": 2,
            "count": 0
           },
           {
            "bin_start": 2,
            "bin_end": 2.2,
            "count": 219
           },
           {
            "bin_start": 2.2,
            "bin_end": 2.4000000000000004,
            "count": 0
           },
           {
            "bin_start": 2.4000000000000004,
            "bin_end": 2.6,
            "count": 0
           },
           {
            "bin_start": 2.6,
            "bin_end": 2.8,
            "count": 0
           },
           {
            "bin_start": 2.8,
            "bin_end": 3,
            "count": 18
           }
          ]
         }
        },
        {
         "name": "applicant_race_1",
         "dtype": "float64",
         "stats": {
          "unique_count": 9,
          "nan_count": 0,
          "min": "2.0",
          "max": "27.0",
          "histogram": [
           {
            "bin_start": 2,
            "bin_end": 4.5,
            "count": 223
           },
           {
            "bin_start": 4.5,
            "bin_end": 7,
            "count": 2
           },
           {
            "bin_start": 7,
            "bin_end": 9.5,
            "count": 0
           },
           {
            "bin_start": 9.5,
            "bin_end": 12,
            "count": 0
           },
           {
            "bin_start": 12,
            "bin_end": 14.5,
            "count": 0
           },
           {
            "bin_start": 14.5,
            "bin_end": 17,
            "count": 0
           },
           {
            "bin_start": 17,
            "bin_end": 19.5,
            "count": 0
           },
           {
            "bin_start": 19.5,
            "bin_end": 22,
            "count": 10
           },
           {
            "bin_start": 22,
            "bin_end": 24.5,
            "count": 11
           },
           {
            "bin_start": 24.5,
            "bin_end": 27,
            "count": 11
           }
          ]
         }
        },
        {
         "name": "applicant_race_2",
         "dtype": "float64",
         "stats": {
          "unique_count": 8,
          "nan_count": 116,
          "min": "5.0",
          "max": "27.0",
          "histogram": [
           {
            "bin_start": 5,
            "bin_end": 7.2,
            "count": 2
           },
           {
            "bin_start": 7.2,
            "bin_end": 9.4,
            "count": 0
           },
           {
            "bin_start": 9.4,
            "bin_end": 11.600000000000001,
            "count": 0
           },
           {
            "bin_start": 11.600000000000001,
            "bin_end": 13.8,
            "count": 0
           },
           {
            "bin_start": 13.8,
            "bin_end": 16,
            "count": 0
           },
           {
            "bin_start": 16,
            "bin_end": 18.200000000000003,
            "count": 0
           },
           {
            "bin_start": 18.200000000000003,
            "bin_end": 20.400000000000002,
            "count": 0
           },
           {
            "bin_start": 20.400000000000002,
            "bin_end": 22.6,
            "count": 72
           },
           {
            "bin_start": 22.6,
            "bin_end": 24.8,
            "count": 30
           },
           {
            "bin_start": 24.8,
            "bin_end": 27,
            "count": 37
           }
          ]
         }
        },
        {
         "name": "applicant_race_3",
         "dtype": "float64",
         "stats": {
          "unique_count": 2,
          "nan_count": 255,
          "min": "24.0",
          "max": "26.0",
          "histogram": [
           {
            "bin_start": 24,
            "bin_end": 24.2,
            "count": 1
           },
           {
            "bin_start": 24.2,
            "bin_end": 24.4,
            "count": 0
           },
           {
            "bin_start": 24.4,
            "bin_end": 24.6,
            "count": 0
           },
           {
            "bin_start": 24.6,
            "bin_end": 24.8,
            "count": 0
           },
           {
            "bin_start": 24.8,
            "bin_end": 25,
            "count": 0
           },
           {
            "bin_start": 25,
            "bin_end": 25.2,
            "count": 0
           },
           {
            "bin_start": 25.2,
            "bin_end": 25.4,
            "count": 0
           },
           {
            "bin_start": 25.4,
            "bin_end": 25.6,
            "count": 0
           },
           {
            "bin_start": 25.6,
            "bin_end": 25.8,
            "count": 0
           },
           {
            "bin_start": 25.8,
            "bin_end": 26,
            "count": 1
           }
          ]
         }
        },
        {
         "name": "applicant_race_4",
         "dtype": "float64",
         "stats": {
          "unique_count": 0,
          "nan_count": 257,
          "min": null,
          "max": null,
          "histogram": [
           {
            "bin_start": 0,
            "bin_end": 0.1,
            "count": 0
           },
           {
            "bin_start": 0.1,
            "bin_end": 0.2,
            "count": 0
           },
           {
            "bin_start": 0.2,
            "bin_end": 0.30000000000000004,
            "count": 0
           },
           {
            "bin_start": 0.30000000000000004,
            "bin_end": 0.4,
            "count": 0
           },
           {
            "bin_start": 0.4,
            "bin_end": 0.5,
            "count": 0
           },
           {
            "bin_start": 0.5,
            "bin_end": 0.6000000000000001,
            "count": 0
           },
           {
            "bin_start": 0.6000000000000001,
            "bin_end": 0.7000000000000001,
            "count": 0
           },
           {
            "bin_start": 0.7000000000000001,
            "bin_end": 0.8,
            "count": 0
           },
           {
            "bin_start": 0.8,
            "bin_end": 0.9,
            "count": 0
           },
           {
            "bin_start": 0.9,
            "bin_end": 1,
            "count": 0
           }
          ]
         }
        },
        {
         "name": "applicant_race_5",
         "dtype": "float64",
         "stats": {
          "unique_count": 0,
          "nan_count": 257,
          "min": null,
          "max": null,
          "histogram": [
           {
            "bin_start": 0,
            "bin_end": 0.1,
            "count": 0
           },
           {
            "bin_start": 0.1,
            "bin_end": 0.2,
            "count": 0
           },
           {
            "bin_start": 0.2,
            "bin_end": 0.30000000000000004,
            "count": 0
           },
           {
            "bin_start": 0.30000000000000004,
            "bin_end": 0.4,
            "count": 0
           },
           {
            "bin_start": 0.4,
            "bin_end": 0.5,
            "count": 0
           },
           {
            "bin_start": 0.5,
            "bin_end": 0.6000000000000001,
            "count": 0
           },
           {
            "bin_start": 0.6000000000000001,
            "bin_end": 0.7000000000000001,
            "count": 0
           },
           {
            "bin_start": 0.7000000000000001,
            "bin_end": 0.8,
            "count": 0
           },
           {
            "bin_start": 0.8,
            "bin_end": 0.9,
            "count": 0
           },
           {
            "bin_start": 0.9,
            "bin_end": 1,
            "count": 0
           }
          ]
         }
        },
        {
         "name": "co_applicant_race_1",
         "dtype": "int64",
         "stats": {
          "unique_count": 9,
          "nan_count": 0,
          "min": "2",
          "max": "27",
          "histogram": [
           {
            "bin_start": 2,
            "bin_end": 4.5,
            "count": 221
           },
           {
            "bin_start": 4.5,
            "bin_end": 7,
            "count": 6
           },
           {
            "bin_start": 7,
            "bin_end": 9.5,
            "count": 0
           },
           {
            "bin_start": 9.5,
            "bin_end": 12,
            "count": 0
           },
           {
            "bin_start": 12,
            "bin_end": 14.5,
            "count": 0
           },
           {
            "bin_start": 14.5,
            "bin_end": 17,
            "count": 0
           },
           {
            "bin_start": 17,
            "bin_end": 19.5,
            "count": 0
           },
           {
            "bin_start": 19.5,
            "bin_end": 22,
            "count": 10
           },
           {
            "bin_start": 22,
            "bin_end": 24.5,
            "count": 11
           },
           {
            "bin_start": 24.5,
            "bin_end": 27,
            "count": 9
           }
          ]
         }
        },
        {
         "name": "co_applicant_race_2",
         "dtype": "float64",
         "stats": {
          "unique_count": 8,
          "nan_count": 116,
          "min": "4.0",
          "max": "27.0",
          "histogram": [
           {
            "bin_start": 4,
            "bin_end": 6.3,
            "count": 1
           },
           {
            "bin_start": 6.3,
            "bin_end": 8.6,
            "count": 0
           },
           {
            "bin_start": 8.6,
            "bin_end": 10.899999999999999,
            "count": 0
           },
           {
            "bin_start": 10.899999999999999,
            "bin_end": 13.2,
            "count": 0
           },
           {
            "bin_start": 13.2,
            "bin_end": 15.5,
            "count": 0
           },
           {
            "bin_start": 15.5,
            "bin_end": 17.799999999999997,
            "count": 0
           },
           {
            "bin_start": 17.799999999999997,
            "bin_end": 20.099999999999998,
            "count": 0
           },
           {
            "bin_start": 20.099999999999998,
            "bin_end": 22.4,
            "count": 74
           },
           {
            "bin_start": 22.4,
            "bin_end": 24.7,
            "count": 29
           },
           {
            "bin_start": 24.7,
            "bin_end": 27,
            "count": 37
           }
          ]
         }
        },
        {
         "name": "co_applicant_race_3",
         "dtype": "float64",
         "stats": {
          "unique_count": 1,
          "nan_count": 256,
          "min": "22.0",
          "max": "22.0",
          "histogram": [
           {
            "bin_start": 21.5,
            "bin_end": 21.6,
            "count": 0
           },
           {
            "bin_start": 21.6,
            "bin_end": 21.7,
            "count": 0
           },
           {
            "bin_start": 21.7,
            "bin_end": 21.8,
            "count": 0
           },
           {
            "bin_start": 21.8,
            "bin_end": 21.9,
            "count": 0
           },
           {
            "bin_start": 21.9,
            "bin_end": 22,
            "count": 0
           },
           {
            "bin_start": 22,
            "bin_end": 22.1,
            "count": 1
           },
           {
            "bin_start": 22.1,
            "bin_end": 22.2,
            "count": 0
           },
           {
            "bin_start": 22.2,
            "bin_end": 22.3,
            "count": 0
           },
           {
            "bin_start": 22.3,
            "bin_end": 22.4,
            "count": 0
           },
           {
            "bin_start": 22.4,
            "bin_end": 22.5,
            "count": 0
           }
          ]
         }
        },
        {
         "name": "co_applicant_race_4",
         "dtype": "float64",
         "stats": {
          "unique_count": 1,
          "nan_count": 256,
          "min": "24.0",
          "max": "24.0",
          "histogram": [
           {
            "bin_start": 23.5,
            "bin_end": 23.6,
            "count": 0
           },
           {
            "bin_start": 23.6,
            "bin_end": 23.7,
            "count": 0
           },
           {
            "bin_start": 23.7,
            "bin_end": 23.8,
            "count": 0
           },
           {
            "bin_start": 23.8,
            "bin_end": 23.9,
            "count": 0
           },
           {
            "bin_start": 23.9,
            "bin_end": 24,
            "count": 0
           },
           {
            "bin_start": 24,
            "bin_end": 24.1,
            "count": 1
           },
           {
            "bin_start": 24.1,
            "bin_end": 24.2,
            "count": 0
           },
           {
            "bin_start": 24.2,
            "bin_end": 24.3,
            "count": 0
           },
           {
            "bin_start": 24.3,
            "bin_end": 24.4,
            "count": 0
           },
           {
            "bin_start": 24.4,
            "bin_end": 24.5,
            "count": 0
           }
          ]
         }
        },
        {
         "name": "co_applicant_race_5",
         "dtype": "float64",
         "stats": {
          "unique_count": 1,
          "nan_count": 256,
          "min": "41.0",
          "max": "41.0",
          "histogram": [
           {
            "bin_start": 40.5,
            "bin_end": 40.6,
            "count": 0
           },
           {
            "bin_start": 40.6,
            "bin_end": 40.7,
            "count": 0
           },
           {
            "bin_start": 40.7,
            "bin_end": 40.8,
            "count": 0
           },
           {
            "bin_start": 40.8,
            "bin_end": 40.9,
            "count": 0
           },
           {
            "bin_start": 40.9,
            "bin_end": 41,
            "count": 0
           },
           {
            "bin_start": 41,
            "bin_end": 41.1,
            "count": 1
           },
           {
            "bin_start": 41.1,
            "bin_end": 41.2,
            "count": 0
           },
           {
            "bin_start": 41.2,
            "bin_end": 41.3,
            "count": 0
           },
           {
            "bin_start": 41.3,
            "bin_end": 41.4,
            "count": 0
           },
           {
            "bin_start": 41.4,
            "bin_end": 41.5,
            "count": 0
           }
          ]
         }
        },
        {
         "name": "applicant_race_observed",
         "dtype": "int64",
         "stats": {
          "unique_count": 3,
          "nan_count": 0,
          "min": "1",
          "max": "3",
          "histogram": [
           {
            "bin_start": 1,
            "bin_end": 1.2,
            "count": 21
           },
           {
            "bin_start": 1.2,
            "bin_end": 1.4,
            "count": 0
           },
           {
            "bin_start": 1.4,
            "bin_end": 1.6,
            "count": 0
           },
           {
            "bin_start": 1.6,
            "bin_end": 1.8,
            "count": 0
           },
           {
            "bin_start": 1.8,
            "bin_end": 2,
            "count": 0
           },
           {
            "bin_start": 2,
            "bin_end": 2.2,
            "count": 219
           },
           {
            "bin_start": 2.2,
            "bin_end": 2.4000000000000004,
            "count": 0
           },
           {
            "bin_start": 2.4000000000000004,
            "bin_end": 2.6,
            "count": 0
           },
           {
            "bin_start": 2.6,
            "bin_end": 2.8,
            "count": 0
           },
           {
            "bin_start": 2.8,
            "bin_end": 3,
            "count": 17
           }
          ]
         }
        },
        {
         "name": "co_applicant_race_observed",
         "dtype": "int64",
         "stats": {
          "unique_count": 3,
          "nan_count": 0,
          "min": "1",
          "max": "3",
          "histogram": [
           {
            "bin_start": 1,
            "bin_end": 1.2,
            "count": 19
           },
           {
            "bin_start": 1.2,
            "bin_end": 1.4,
            "count": 0
           },
           {
            "bin_start": 1.4,
            "bin_end": 1.6,
            "count": 0
           },
           {
            "bin_start": 1.6,
            "bin_end": 1.8,
            "count": 0
           },
           {
            "bin_start": 1.8,
            "bin_end": 2,
            "count": 0
           },
           {
            "bin_start": 2,
            "bin_end": 2.2,
            "count": 220
           },
           {
            "bin_start": 2.2,
            "bin_end": 2.4000000000000004,
            "count": 0
           },
           {
            "bin_start": 2.4000000000000004,
            "bin_end": 2.6,
            "count": 0
           },
           {
            "bin_start": 2.6,
            "bin_end": 2.8,
            "count": 0
           },
           {
            "bin_start": 2.8,
            "bin_end": 3,
            "count": 18
           }
          ]
         }
        },
        {
         "name": "applicant_sex",
         "dtype": "int64",
         "stats": {
          "unique_count": 2,
          "nan_count": 0,
          "min": "1",
          "max": "2",
          "histogram": [
           {
            "bin_start": 1,
            "bin_end": 1.1,
            "count": 213
           },
           {
            "bin_start": 1.1,
            "bin_end": 1.2,
            "count": 0
           },
           {
            "bin_start": 1.2,
            "bin_end": 1.3,
            "count": 0
           },
           {
            "bin_start": 1.3,
            "bin_end": 1.4,
            "count": 0
           },
           {
            "bin_start": 1.4,
            "bin_end": 1.5,
            "count": 0
           },
           {
            "bin_start": 1.5,
            "bin_end": 1.6,
            "count": 0
           },
           {
            "bin_start": 1.6,
            "bin_end": 1.7000000000000002,
            "count": 0
           },
           {
            "bin_start": 1.7000000000000002,
            "bin_end": 1.8,
            "count": 0
           },
           {
            "bin_start": 1.8,
            "bin_end": 1.9,
            "count": 0
           },
           {
            "bin_start": 1.9,
            "bin_end": 2,
            "count": 44
           }
          ]
         }
        },
        {
         "name": "co_applicant_sex",
         "dtype": "int64",
         "stats": {
          "unique_count": 2,
          "nan_count": 0,
          "min": "1",
          "max": "2",
          "histogram": [
           {
            "bin_start": 1,
            "bin_end": 1.1,
            "count": 44
           },
           {
            "bin_start": 1.1,
            "bin_end": 1.2,
            "count": 0
           },
           {
            "bin_start": 1.2,
            "bin_end": 1.3,
            "count": 0
           },
           {
            "bin_start": 1.3,
            "bin_end": 1.4,
            "count": 0
           },
           {
            "bin_start": 1.4,
            "bin_end": 1.5,
            "count": 0
           },
           {
            "bin_start": 1.5,
            "bin_end": 1.6,
            "count": 0
           },
           {
            "bin_start": 1.6,
            "bin_end": 1.7000000000000002,
            "count": 0
           },
           {
            "bin_start": 1.7000000000000002,
            "bin_end": 1.8,
            "count": 0
           },
           {
            "bin_start": 1.8,
            "bin_end": 1.9,
            "count": 0
           },
           {
            "bin_start": 1.9,
            "bin_end": 2,
            "count": 213
           }
          ]
         }
        },
        {
         "name": "applicant_sex_observed",
         "dtype": "int64",
         "stats": {
          "unique_count": 3,
          "nan_count": 0,
          "min": "1",
          "max": "3",
          "histogram": [
           {
            "bin_start": 1,
            "bin_end": 1.2,
            "count": 23
           },
           {
            "bin_start": 1.2,
            "bin_end": 1.4,
            "count": 0
           },
           {
            "bin_start": 1.4,
            "bin_end": 1.6,
            "count": 0
           },
           {
            "bin_start": 1.6,
            "bin_end": 1.8,
            "count": 0
           },
           {
            "bin_start": 1.8,
            "bin_end": 2,
            "count": 0
           },
           {
            "bin_start": 2,
            "bin_end": 2.2,
            "count": 217
           },
           {
            "bin_start": 2.2,
            "bin_end": 2.4000000000000004,
            "count": 0
           },
           {
            "bin_start": 2.4000000000000004,
            "bin_end": 2.6,
            "count": 0
           },
           {
            "bin_start": 2.6,
            "bin_end": 2.8,
            "count": 0
           },
           {
            "bin_start": 2.8,
            "bin_end": 3,
            "count": 17
           }
          ]
         }
        },
        {
         "name": "co_applicant_sex_observed",
         "dtype": "int64",
         "stats": {
          "unique_count": 3,
          "nan_count": 0,
          "min": "1",
          "max": "3",
          "histogram": [
           {
            "bin_start": 1,
            "bin_end": 1.2,
            "count": 21
           },
           {
            "bin_start": 1.2,
            "bin_end": 1.4,
            "count": 0
           },
           {
            "bin_start": 1.4,
            "bin_end": 1.6,
            "count": 0
           },
           {
            "bin_start": 1.6,
            "bin_end": 1.8,
            "count": 0
           },
           {
            "bin_start": 1.8,
            "bin_end": 2,
            "count": 0
           },
           {
            "bin_start": 2,
            "bin_end": 2.2,
            "count": 218
           },
           {
            "bin_start": 2.2,
            "bin_end": 2.4000000000000004,
            "count": 0
           },
           {
            "bin_start": 2.4000000000000004,
            "bin_end": 2.6,
            "count": 0
           },
           {
            "bin_start": 2.6,
            "bin_end": 2.8,
            "count": 0
           },
           {
            "bin_start": 2.8,
            "bin_end": 3,
            "count": 18
           }
          ]
         }
        },
        {
         "name": "applicant_age",
         "dtype": "object",
         "stats": {
          "unique_count": 8,
          "nan_count": 0,
          "categories": [
           {
            "name": "35-44",
            "count": 68
           },
           {
            "name": "45-54",
            "count": 62
           },
           {
            "name": "6 others",
            "count": 127
           }
          ]
         }
        },
        {
         "name": "co_applicant_age",
         "dtype": "object",
         "stats": {
          "unique_count": 8,
          "nan_count": 0,
          "categories": [
           {
            "name": "35-44",
            "count": 80
           },
           {
            "name": "45-54",
            "count": 57
           },
           {
            "name": "6 others",
            "count": 120
           }
          ]
         }
        },
        {
         "name": "applicant_age_above_62",
         "dtype": "object",
         "stats": {
          "unique_count": 2,
          "nan_count": 3,
          "categories": [
           {
            "name": "No",
            "count": 222
           },
           {
            "name": "Yes",
            "count": 32
           },
           {
            "name": "Missing",
            "count": 3
           }
          ]
         }
        },
        {
         "name": "co_applicant_age_above_62",
         "dtype": "object",
         "stats": {
          "unique_count": 2,
          "nan_count": 3,
          "categories": [
           {
            "name": "No",
            "count": 225
           },
           {
            "name": "Yes",
            "count": 29
           },
           {
            "name": "Missing",
            "count": 3
           }
          ]
         }
        },
        {
         "name": "submission_of_application",
         "dtype": "int64",
         "stats": {
          "unique_count": 3,
          "nan_count": 0,
          "min": "1",
          "max": "3",
          "histogram": [
           {
            "bin_start": 1,
            "bin_end": 1.2,
            "count": 213
           },
           {
            "bin_start": 1.2,
            "bin_end": 1.4,
            "count": 0
           },
           {
            "bin_start": 1.4,
            "bin_end": 1.6,
            "count": 0
           },
           {
            "bin_start": 1.6,
            "bin_end": 1.8,
            "count": 0
           },
           {
            "bin_start": 1.8,
            "bin_end": 2,
            "count": 0
           },
           {
            "bin_start": 2,
            "bin_end": 2.2,
            "count": 31
           },
           {
            "bin_start": 2.2,
            "bin_end": 2.4000000000000004,
            "count": 0
           },
           {
            "bin_start": 2.4000000000000004,
            "bin_end": 2.6,
            "count": 0
           },
           {
            "bin_start": 2.6,
            "bin_end": 2.8,
            "count": 0
           },
           {
            "bin_start": 2.8,
            "bin_end": 3,
            "count": 13
           }
          ]
         }
        },
        {
         "name": "initially_payable_to_institution",
         "dtype": "int64",
         "stats": {
          "unique_count": 3,
          "nan_count": 0,
          "min": "1",
          "max": "3",
          "histogram": [
           {
            "bin_start": 1,
            "bin_end": 1.2,
            "count": 221
           },
           {
            "bin_start": 1.2,
            "bin_end": 1.4,
            "count": 0
           },
           {
            "bin_start": 1.4,
            "bin_end": 1.6,
            "count": 0
           },
           {
            "bin_start": 1.6,
            "bin_end": 1.8,
            "count": 0
           },
           {
            "bin_start": 1.8,
            "bin_end": 2,
            "count": 0
           },
           {
            "bin_start": 2,
            "bin_end": 2.2,
            "count": 9
           },
           {
            "bin_start": 2.2,
            "bin_end": 2.4000000000000004,
            "count": 0
           },
           {
            "bin_start": 2.4000000000000004,
            "bin_end": 2.6,
            "count": 0
           },
           {
            "bin_start": 2.6,
            "bin_end": 2.8,
            "count": 0
           },
           {
            "bin_start": 2.8,
            "bin_end": 3,
            "count": 27
           }
          ]
         }
        },
        {
         "name": "aus_1",
         "dtype": "int64",
         "stats": {
          "unique_count": 5,
          "nan_count": 0,
          "min": "1",
          "max": "6",
          "histogram": [
           {
            "bin_start": 1,
            "bin_end": 1.5,
            "count": 93
           },
           {
            "bin_start": 1.5,
            "bin_end": 2,
            "count": 0
           },
           {
            "bin_start": 2,
            "bin_end": 2.5,
            "count": 24
           },
           {
            "bin_start": 2.5,
            "bin_end": 3,
            "count": 0
           },
           {
            "bin_start": 3,
            "bin_end": 3.5,
            "count": 9
           },
           {
            "bin_start": 3.5,
            "bin_end": 4,
            "count": 0
           },
           {
            "bin_start": 4,
            "bin_end": 4.5,
            "count": 0
           },
           {
            "bin_start": 4.5,
            "bin_end": 5,
            "count": 0
           },
           {
            "bin_start": 5,
            "bin_end": 5.5,
            "count": 28
           },
           {
            "bin_start": 5.5,
            "bin_end": 6,
            "count": 103
           }
          ]
         }
        },
        {
         "name": "aus_2",
         "dtype": "float64",
         "stats": {
          "unique_count": 3,
          "nan_count": 237,
          "min": "1.0",
          "max": "5.0",
          "histogram": [
           {
            "bin_start": 1,
            "bin_end": 1.4,
            "count": 4
           },
           {
            "bin_start": 1.4,
            "bin_end": 1.8,
            "count": 0
           },
           {
            "bin_start": 1.8,
            "bin_end": 2.2,
            "count": 7
           },
           {
            "bin_start": 2.2,
            "bin_end": 2.6,
            "count": 0
           },
           {
            "bin_start": 2.6,
            "bin_end": 3,
            "count": 0
           },
           {
            "bin_start": 3,
            "bin_end": 3.4000000000000004,
            "count": 0
           },
           {
            "bin_start": 3.4000000000000004,
            "bin_end": 3.8000000000000003,
            "count": 0
           },
           {
            "bin_start": 3.8000000000000003,
            "bin_end": 4.2,
            "count": 0
           },
           {
            "bin_start": 4.2,
            "bin_end": 4.6,
            "count": 0
           },
           {
            "bin_start": 4.6,
            "bin_end": 5,
            "count": 9
           }
          ]
         }
        },
        {
         "name": "aus_3",
         "dtype": "float64",
         "stats": {
          "unique_count": 2,
          "nan_count": 253,
          "min": "2.0",
          "max": "5.0",
          "histogram": [
           {
            "bin_start": 2,
            "bin_end": 2.3,
            "count": 2
           },
           {
            "bin_start": 2.3,
            "bin_end": 2.6,
            "count": 0
           },
           {
            "bin_start": 2.6,
            "bin_end": 2.9,
            "count": 0
           },
           {
            "bin_start": 2.9,
            "bin_end": 3.2,
            "count": 0
           },
           {
            "bin_start": 3.2,
            "bin_end": 3.5,
            "count": 0
           },
           {
            "bin_start": 3.5,
            "bin_end": 3.8,
            "count": 0
           },
           {
            "bin_start": 3.8,
            "bin_end": 4.1,
            "count": 0
           },
           {
            "bin_start": 4.1,
            "bin_end": 4.4,
            "count": 0
           },
           {
            "bin_start": 4.4,
            "bin_end": 4.699999999999999,
            "count": 0
           },
           {
            "bin_start": 4.699999999999999,
            "bin_end": 5,
            "count": 2
           }
          ]
         }
        },
        {
         "name": "aus_4",
         "dtype": "float64",
         "stats": {
          "unique_count": 0,
          "nan_count": 257,
          "min": null,
          "max": null,
          "histogram": [
           {
            "bin_start": 0,
            "bin_end": 0.1,
            "count": 0
           },
           {
            "bin_start": 0.1,
            "bin_end": 0.2,
            "count": 0
           },
           {
            "bin_start": 0.2,
            "bin_end": 0.30000000000000004,
            "count": 0
           },
           {
            "bin_start": 0.30000000000000004,
            "bin_end": 0.4,
            "count": 0
           },
           {
            "bin_start": 0.4,
            "bin_end": 0.5,
            "count": 0
           },
           {
            "bin_start": 0.5,
            "bin_end": 0.6000000000000001,
            "count": 0
           },
           {
            "bin_start": 0.6000000000000001,
            "bin_end": 0.7000000000000001,
            "count": 0
           },
           {
            "bin_start": 0.7000000000000001,
            "bin_end": 0.8,
            "count": 0
           },
           {
            "bin_start": 0.8,
            "bin_end": 0.9,
            "count": 0
           },
           {
            "bin_start": 0.9,
            "bin_end": 1,
            "count": 0
           }
          ]
         }
        },
        {
         "name": "aus_5",
         "dtype": "float64",
         "stats": {
          "unique_count": 0,
          "nan_count": 257,
          "min": null,
          "max": null,
          "histogram": [
           {
            "bin_start": 0,
            "bin_end": 0.1,
            "count": 0
           },
           {
            "bin_start": 0.1,
            "bin_end": 0.2,
            "count": 0
           },
           {
            "bin_start": 0.2,
            "bin_end": 0.30000000000000004,
            "count": 0
           },
           {
            "bin_start": 0.30000000000000004,
            "bin_end": 0.4,
            "count": 0
           },
           {
            "bin_start": 0.4,
            "bin_end": 0.5,
            "count": 0
           },
           {
            "bin_start": 0.5,
            "bin_end": 0.6000000000000001,
            "count": 0
           },
           {
            "bin_start": 0.6000000000000001,
            "bin_end": 0.7000000000000001,
            "count": 0
           },
           {
            "bin_start": 0.7000000000000001,
            "bin_end": 0.8,
            "count": 0
           },
           {
            "bin_start": 0.8,
            "bin_end": 0.9,
            "count": 0
           },
           {
            "bin_start": 0.9,
            "bin_end": 1,
            "count": 0
           }
          ]
         }
        },
        {
         "name": "denial_reason_1",
         "dtype": "int64",
         "stats": {
          "unique_count": 8,
          "nan_count": 0,
          "min": "1",
          "max": "10",
          "histogram": [
           {
            "bin_start": 1,
            "bin_end": 1.9,
            "count": 17
           },
           {
            "bin_start": 1.9,
            "bin_end": 2.8,
            "count": 1
           },
           {
            "bin_start": 2.8,
            "bin_end": 3.7,
            "count": 15
           },
           {
            "bin_start": 3.7,
            "bin_end": 4.6,
            "count": 6
           },
           {
            "bin_start": 4.6,
            "bin_end": 5.5,
            "count": 0
           },
           {
            "bin_start": 5.5,
            "bin_end": 6.4,
            "count": 1
           },
           {
            "bin_start": 6.4,
            "bin_end": 7.3,
            "count": 2
           },
           {
            "bin_start": 7.3,
            "bin_end": 8.2,
            "count": 0
           },
           {
            "bin_start": 8.2,
            "bin_end": 9.1,
            "count": 8
           },
           {
            "bin_start": 9.1,
            "bin_end": 10,
            "count": 207
           }
          ]
         }
        },
        {
         "name": "denial_reason_2",
         "dtype": "float64",
         "stats": {
          "unique_count": 5,
          "nan_count": 242,
          "min": "1.0",
          "max": "9.0",
          "histogram": [
           {
            "bin_start": 1,
            "bin_end": 1.8,
            "count": 7
           },
           {
            "bin_start": 1.8,
            "bin_end": 2.6,
            "count": 0
           },
           {
            "bin_start": 2.6,
            "bin_end": 3.4000000000000004,
            "count": 3
           },
           {
            "bin_start": 3.4000000000000004,
            "bin_end": 4.2,
            "count": 3
           },
           {
            "bin_start": 4.2,
            "bin_end": 5,
            "count": 0
           },
           {
            "bin_start": 5,
            "bin_end": 5.800000000000001,
            "count": 1
           },
           {
            "bin_start": 5.800000000000001,
            "bin_end": 6.6000000000000005,
            "count": 0
           },
           {
            "bin_start": 6.6000000000000005,
            "bin_end": 7.4,
            "count": 0
           },
           {
            "bin_start": 7.4,
            "bin_end": 8.2,
            "count": 0
           },
           {
            "bin_start": 8.2,
            "bin_end": 9,
            "count": 1
           }
          ]
         }
        },
        {
         "name": "denial_reason_3",
         "dtype": "float64",
         "stats": {
          "unique_count": 1,
          "nan_count": 255,
          "min": "1.0",
          "max": "1.0",
          "histogram": [
           {
            "bin_start": 0.5,
            "bin_end": 0.6,
            "count": 0
           },
           {
            "bin_start": 0.6,
            "bin_end": 0.7,
            "count": 0
           },
           {
            "bin_start": 0.7,
            "bin_end": 0.8,
            "count": 0
           },
           {
            "bin_start": 0.8,
            "bin_end": 0.9,
            "count": 0
           },
           {
            "bin_start": 0.9,
            "bin_end": 1,
            "count": 0
           },
           {
            "bin_start": 1,
            "bin_end": 1.1,
            "count": 2
           },
           {
            "bin_start": 1.1,
            "bin_end": 1.2000000000000002,
            "count": 0
           },
           {
            "bin_start": 1.2000000000000002,
            "bin_end": 1.3,
            "count": 0
           },
           {
            "bin_start": 1.3,
            "bin_end": 1.4,
            "count": 0
           },
           {
            "bin_start": 1.4,
            "bin_end": 1.5,
            "count": 0
           }
          ]
         }
        },
        {
         "name": "denial_reason_4",
         "dtype": "float64",
         "stats": {
          "unique_count": 0,
          "nan_count": 257,
          "min": null,
          "max": null,
          "histogram": [
           {
            "bin_start": 0,
            "bin_end": 0.1,
            "count": 0
           },
           {
            "bin_start": 0.1,
            "bin_end": 0.2,
            "count": 0
           },
           {
            "bin_start": 0.2,
            "bin_end": 0.30000000000000004,
            "count": 0
           },
           {
            "bin_start": 0.30000000000000004,
            "bin_end": 0.4,
            "count": 0
           },
           {
            "bin_start": 0.4,
            "bin_end": 0.5,
            "count": 0
           },
           {
            "bin_start": 0.5,
            "bin_end": 0.6000000000000001,
            "count": 0
           },
           {
            "bin_start": 0.6000000000000001,
            "bin_end": 0.7000000000000001,
            "count": 0
           },
           {
            "bin_start": 0.7000000000000001,
            "bin_end": 0.8,
            "count": 0
           },
           {
            "bin_start": 0.8,
            "bin_end": 0.9,
            "count": 0
           },
           {
            "bin_start": 0.9,
            "bin_end": 1,
            "count": 0
           }
          ]
         }
        },
        {
         "name": "tract_population",
         "dtype": "int64",
         "stats": {
          "unique_count": 239,
          "nan_count": 0,
          "min": "0",
          "max": "30258",
          "histogram": [
           {
            "bin_start": 0,
            "bin_end": 3025.8,
            "count": 26
           },
           {
            "bin_start": 3025.8,
            "bin_end": 6051.6,
            "count": 117
           },
           {
            "bin_start": 6051.6,
            "bin_end": 9077.400000000001,
            "count": 79
           },
           {
            "bin_start": 9077.400000000001,
            "bin_end": 12103.2,
            "count": 21
           },
           {
            "bin_start": 12103.2,
            "bin_end": 15129,
            "count": 7
           },
           {
            "bin_start": 15129,
            "bin_end": 18154.800000000003,
            "count": 4
           },
           {
            "bin_start": 18154.800000000003,
            "bin_end": 21180.600000000002,
            "count": 1
           },
           {
            "bin_start": 21180.600000000002,
            "bin_end": 24206.4,
            "count": 0
           },
           {
            "bin_start": 24206.4,
            "bin_end": 27232.2,
            "count": 0
           },
           {
            "bin_start": 27232.2,
            "bin_end": 30258,
            "count": 2
           }
          ]
         }
        },
        {
         "name": "tract_minority_population_percent",
         "dtype": "float64",
         "stats": {
          "unique_count": 245,
          "nan_count": 0,
          "min": "0.0",
          "max": "100.0",
          "histogram": [
           {
            "bin_start": 0,
            "bin_end": 10,
            "count": 16
           },
           {
            "bin_start": 10,
            "bin_end": 20,
            "count": 23
           },
           {
            "bin_start": 20,
            "bin_end": 30,
            "count": 35
           },
           {
            "bin_start": 30,
            "bin_end": 40,
            "count": 33
           },
           {
            "bin_start": 40,
            "bin_end": 50,
            "count": 32
           },
           {
            "bin_start": 50,
            "bin_end": 60,
            "count": 29
           },
           {
            "bin_start": 60,
            "bin_end": 70,
            "count": 24
           },
           {
            "bin_start": 70,
            "bin_end": 80,
            "count": 19
           },
           {
            "bin_start": 80,
            "bin_end": 90,
            "count": 32
           },
           {
            "bin_start": 90,
            "bin_end": 100,
            "count": 14
           }
          ]
         }
        },
        {
         "name": "ffiec_msa_md_median_family_income",
         "dtype": "int64",
         "stats": {
          "unique_count": 69,
          "nan_count": 0,
          "min": "0",
          "max": "134800",
          "histogram": [
           {
            "bin_start": 0,
            "bin_end": 13480,
            "count": 9
           },
           {
            "bin_start": 13480,
            "bin_end": 26960,
            "count": 0
           },
           {
            "bin_start": 26960,
            "bin_end": 40440,
            "count": 0
           },
           {
            "bin_start": 40440,
            "bin_end": 53920,
            "count": 0
           },
           {
            "bin_start": 53920,
            "bin_end": 67400,
            "count": 29
           },
           {
            "bin_start": 67400,
            "bin_end": 80880,
            "count": 92
           },
           {
            "bin_start": 80880,
            "bin_end": 94360,
            "count": 44
           },
           {
            "bin_start": 94360,
            "bin_end": 107840,
            "count": 40
           },
           {
            "bin_start": 107840,
            "bin_end": 121320,
            "count": 25
           },
           {
            "bin_start": 121320,
            "bin_end": 134800,
            "count": 18
           }
          ]
         }
        },
        {
         "name": "tract_to_msa_income_percentage",
         "dtype": "int64",
         "stats": {
          "unique_count": 128,
          "nan_count": 0,
          "min": "0",
          "max": "286",
          "histogram": [
           {
            "bin_start": 0,
            "bin_end": 28.6,
            "count": 11
           },
           {
            "bin_start": 28.6,
            "bin_end": 57.2,
            "count": 9
           },
           {
            "bin_start": 57.2,
            "bin_end": 85.80000000000001,
            "count": 26
           },
           {
            "bin_start": 85.80000000000001,
            "bin_end": 114.4,
            "count": 72
           },
           {
            "bin_start": 114.4,
            "bin_end": 143,
            "count": 59
           },
           {
            "bin_start": 143,
            "bin_end": 171.60000000000002,
            "count": 47
           },
           {
            "bin_start": 171.60000000000002,
            "bin_end": 200.20000000000002,
            "count": 17
           },
           {
            "bin_start": 200.20000000000002,
            "bin_end": 228.8,
            "count": 9
           },
           {
            "bin_start": 228.8,
            "bin_end": 257.40000000000003,
            "count": 6
           },
           {
            "bin_start": 257.40000000000003,
            "bin_end": 286,
            "count": 1
           }
          ]
         }
        },
        {
         "name": "tract_owner_occupied_units",
         "dtype": "int64",
         "stats": {
          "unique_count": 231,
          "nan_count": 0,
          "min": "0",
          "max": "7748",
          "histogram": [
           {
            "bin_start": 0,
            "bin_end": 774.8,
            "count": 52
           },
           {
            "bin_start": 774.8,
            "bin_end": 1549.6,
            "count": 116
           },
           {
            "bin_start": 1549.6,
            "bin_end": 2324.3999999999996,
            "count": 57
           },
           {
            "bin_start": 2324.3999999999996,
            "bin_end": 3099.2,
            "count": 22
           },
           {
            "bin_start": 3099.2,
            "bin_end": 3874,
            "count": 5
           },
           {
            "bin_start": 3874,
            "bin_end": 4648.799999999999,
            "count": 3
           },
           {
            "bin_start": 4648.799999999999,
            "bin_end": 5423.599999999999,
            "count": 1
           },
           {
            "bin_start": 5423.599999999999,
            "bin_end": 6198.4,
            "count": 0
           },
           {
            "bin_start": 6198.4,
            "bin_end": 6973.2,
            "count": 0
           },
           {
            "bin_start": 6973.2,
            "bin_end": 7748,
            "count": 1
           }
          ]
         }
        },
        {
         "name": "tract_one_to_four_family_homes",
         "dtype": "int64",
         "stats": {
          "unique_count": 234,
          "nan_count": 0,
          "min": "0",
          "max": "10606",
          "histogram": [
           {
            "bin_start": 0,
            "bin_end": 1060.6,
            "count": 50
           },
           {
            "bin_start": 1060.6,
            "bin_end": 2121.2,
            "count": 130
           },
           {
            "bin_start": 2121.2,
            "bin_end": 3181.7999999999997,
            "count": 55
           },
           {
            "bin_start": 3181.7999999999997,
            "bin_end": 4242.4,
            "count": 15
           },
           {
            "bin_start": 4242.4,
            "bin_end": 5303,
            "count": 4
           },
           {
            "bin_start": 5303,
            "bin_end": 6363.599999999999,
            "count": 2
           },
           {
            "bin_start": 6363.599999999999,
            "bin_end": 7424.199999999999,
            "count": 0
           },
           {
            "bin_start": 7424.199999999999,
            "bin_end": 8484.8,
            "count": 0
           },
           {
            "bin_start": 8484.8,
            "bin_end": 9545.4,
            "count": 0
           },
           {
            "bin_start": 9545.4,
            "bin_end": 10606,
            "count": 1
           }
          ]
         }
        },
        {
         "name": "tract_median_age_of_housing_units",
         "dtype": "int64",
         "stats": {
          "unique_count": 61,
          "nan_count": 0,
          "min": "0",
          "max": "76",
          "histogram": [
           {
            "bin_start": 0,
            "bin_end": 7.6,
            "count": 23
           },
           {
            "bin_start": 7.6,
            "bin_end": 15.2,
            "count": 41
           },
           {
            "bin_start": 15.2,
            "bin_end": 22.799999999999997,
            "count": 31
           },
           {
            "bin_start": 22.799999999999997,
            "bin_end": 30.4,
            "count": 30
           },
           {
            "bin_start": 30.4,
            "bin_end": 38,
            "count": 32
           },
           {
            "bin_start": 38,
            "bin_end": 45.599999999999994,
            "count": 27
           },
           {
            "bin_start": 45.599999999999994,
            "bin_end": 53.199999999999996,
            "count": 25
           },
           {
            "bin_start": 53.199999999999996,
            "bin_end": 60.8,
            "count": 25
           },
           {
            "bin_start": 60.8,
            "bin_end": 68.39999999999999,
            "count": 10
           },
           {
            "bin_start": 68.39999999999999,
            "bin_end": 76,
            "count": 13
           }
          ]
         }
        },
        {
         "name": "approved",
         "dtype": "bool",
         "stats": {
          "unique_count": 2,
          "nan_count": 0,
          "categories": [
           {
            "name": "True",
            "count": 143
           },
           {
            "name": "False",
            "count": 114
           }
          ]
         }
        },
        {
         "name": "_deepnote_index_column",
         "dtype": "int64"
        }
       ],
       "rows": [
        {
         "activity_year": 2018,
         "lei": "5493002QI2ILHHZH8D20",
         "derived_msa_md": 31084,
         "state_code": "CA",
         "county_code": 6037,
         "census_tract": 6037603001,
         "conforming_loan_limit": "C",
         "derived_loan_product_type": "Conventional:First Lien",
         "derived_dwelling_category": "Single Family (1-4 Units):Site-Built",
         "derived_ethnicity": "Not Hispanic or Latino",
         "derived_race": "Asian",
         "derived_sex": "Joint",
         "action_taken": 3,
         "purchaser_type": 0,
         "preapproval": 2,
         "loan_type": 1,
         "loan_purpose": 1,
         "lien_status": 1,
         "reverse_mortgage": 2,
         "open_end_line_of_credit": 2,
         "business_or_commercial_purpose": 2,
         "loan_amount": 545000,
         "loan_to_value_ratio": "80",
         "interest_rate": "nan",
         "rate_spread": "nan",
         "hoepa_status": 3,
         "total_loan_costs": "nan",
         "total_points_and_fees": "nan",
         "origination_charges": "nan",
         "discount_points": "nan",
         "lender_credits": "nan",
         "loan_term": "360",
         "prepayment_penalty_term": "nan",
         "intro_rate_period": "nan",
         "negative_amortization": 2,
         "interest_only_payment": 2,
         "balloon_payment": 2,
         "other_nonamortizing_features": 2,
         "property_value": 675000,
         "construction_method": 1,
         "occupancy_type": 1,
         "manufactured_home_secured_property_type": 3,
         "manufactured_home_land_property_interest": 5,
         "total_units": "1",
         "multifamily_affordable_units": "nan",
         "income": 162,
         "debt_to_income_ratio": "50%-60%",
         "applicant_credit_score_type": 1,
         "co_applicant_credit_score_type": 1,
         "applicant_ethnicity_1": 2,
         "applicant_ethnicity_2": "nan",
         "applicant_ethnicity_3": "nan",
         "applicant_ethnicity_4": "nan",
         "applicant_ethnicity_5": "nan",
         "co_applicant_ethnicity_1": 2,
         "co_applicant_ethnicity_2": "nan",
         "co_applicant_ethnicity_3": "nan",
         "co_applicant_ethnicity_4": "nan",
         "co_applicant_ethnicity_5": "nan",
         "applicant_ethnicity_observed": 2,
         "co_applicant_ethnicity_observed": 2,
         "applicant_race_1": 2,
         "applicant_race_2": 22,
         "applicant_race_3": "nan",
         "applicant_race_4": "nan",
         "applicant_race_5": "nan",
         "co_applicant_race_1": 2,
         "co_applicant_race_2": 22,
         "co_applicant_race_3": "nan",
         "co_applicant_race_4": "nan",
         "co_applicant_race_5": "nan",
         "applicant_race_observed": 2,
         "co_applicant_race_observed": 2,
         "applicant_sex": 1,
         "co_applicant_sex": 2,
         "applicant_sex_observed": 2,
         "co_applicant_sex_observed": 2,
         "applicant_age": "65-74",
         "co_applicant_age": "55-64",
         "applicant_age_above_62": "Yes",
         "co_applicant_age_above_62": "Yes",
         "submission_of_application": 1,
         "initially_payable_to_institution": 1,
         "aus_1": 1,
         "aus_2": "nan",
         "aus_3": "nan",
         "aus_4": "nan",
         "aus_5": "nan",
         "denial_reason_1": 1,
         "denial_reason_2": "nan",
         "denial_reason_3": "nan",
         "denial_reason_4": "nan",
         "tract_population": 7029,
         "tract_minority_population_percent": 96.76,
         "ffiec_msa_md_median_family_income": 69300,
         "tract_to_msa_income_percentage": 65,
         "tract_owner_occupied_units": 885,
         "tract_one_to_four_family_homes": 1363,
         "tract_median_age_of_housing_units": 51,
         "approved": false,
         "_deepnote_index_column": 0
        },
        {
         "activity_year": 2018,
         "lei": "DRMSV1Q0EKMEXLAU1P80",
         "derived_msa_md": 15804,
         "state_code": "NJ",
         "county_code": 34007,
         "census_tract": 34007607502,
         "conforming_loan_limit": "C",
         "derived_loan_product_type": "Conventional:First Lien",
         "derived_dwelling_category": "Single Family (1-4 Units):Site-Built",
         "derived_ethnicity": "Not Hispanic or Latino",
         "derived_race": "Asian",
         "derived_sex": "Joint",
         "action_taken": 5,
         "purchaser_type": 0,
         "preapproval": 2,
         "loan_type": 1,
         "loan_purpose": 2,
         "lien_status": 1,
         "reverse_mortgage": 2,
         "open_end_line_of_credit": 2,
         "business_or_commercial_purpose": 2,
         "loan_amount": 355000,
         "loan_to_value_ratio": "nan",
         "interest_rate": "nan",
         "rate_spread": "nan",
         "hoepa_status": 3,
         "total_loan_costs": "nan",
         "total_points_and_fees": "nan",
         "origination_charges": "nan",
         "discount_points": "nan",
         "lender_credits": "nan",
         "loan_term": "360",
         "prepayment_penalty_term": "nan",
         "intro_rate_period": "nan",
         "negative_amortization": 2,
         "interest_only_payment": 1,
         "balloon_payment": 2,
         "other_nonamortizing_features": 2,
         "property_value": "nan",
         "construction_method": 1,
         "occupancy_type": 1,
         "manufactured_home_secured_property_type": 3,
         "manufactured_home_land_property_interest": 5,
         "total_units": "1",
         "multifamily_affordable_units": "nan",
         "income": 101,
         "debt_to_income_ratio": "nan",
         "applicant_credit_score_type": 9,
         "co_applicant_credit_score_type": 9,
         "applicant_ethnicity_1": 2,
         "applicant_ethnicity_2": "nan",
         "applicant_ethnicity_3": "nan",
         "applicant_ethnicity_4": "nan",
         "applicant_ethnicity_5": "nan",
         "co_applicant_ethnicity_1": 2,
         "co_applicant_ethnicity_2": "nan",
         "co_applicant_ethnicity_3": "nan",
         "co_applicant_ethnicity_4": "nan",
         "co_applicant_ethnicity_5": "nan",
         "applicant_ethnicity_observed": 2,
         "co_applicant_ethnicity_observed": 2,
         "applicant_race_1": 2,
         "applicant_race_2": "nan",
         "applicant_race_3": "nan",
         "applicant_race_4": "nan",
         "applicant_race_5": "nan",
         "co_applicant_race_1": 2,
         "co_applicant_race_2": "nan",
         "co_applicant_race_3": "nan",
         "co_applicant_race_4": "nan",
         "co_applicant_race_5": "nan",
         "applicant_race_observed": 2,
         "co_applicant_race_observed": 2,
         "applicant_sex": 1,
         "co_applicant_sex": 2,
         "applicant_sex_observed": 2,
         "co_applicant_sex_observed": 2,
         "applicant_age": "45-54",
         "co_applicant_age": "45-54",
         "applicant_age_above_62": "No",
         "co_applicant_age_above_62": "No",
         "submission_of_application": 1,
         "initially_payable_to_institution": 1,
         "aus_1": 6,
         "aus_2": "nan",
         "aus_3": "nan",
         "aus_4": "nan",
         "aus_5": "nan",
         "denial_reason_1": 10,
         "denial_reason_2": "nan",
         "denial_reason_3": "nan",
         "denial_reason_4": "nan",
         "tract_population": 5705,
         "tract_minority_population_percent": 23.16,
         "ffiec_msa_md_median_family_income": 92400,
         "tract_to_msa_income_percentage": 118,
         "tract_owner_occupied_units": 1647,
         "tract_one_to_four_family_homes": 1880,
         "tract_median_age_of_housing_units": 28,
         "approved": false,
         "_deepnote_index_column": 91
        },
        {
         "activity_year": 2018,
         "lei": "549300E2UX99HKDBR481",
         "derived_msa_md": 29820,
         "state_code": "NV",
         "county_code": 32003,
         "census_tract": 32003005833,
         "conforming_loan_limit": "C",
         "derived_loan_product_type": "Conventional:First Lien",
         "derived_dwelling_category": "Single Family (1-4 Units):Site-Built",
         "derived_ethnicity": "Hispanic or Latino",
         "derived_race": "Asian",
         "derived_sex": "Joint",
         "action_taken": 1,
         "purchaser_type": 1,
         "preapproval": 2,
         "loan_type": 1,
         "loan_purpose": 1,
         "lien_status": 1,
         "reverse_mortgage": 2,
         "open_end_line_of_credit": 2,
         "business_or_commercial_purpose": 2,
         "loan_amount": 455000,
         "loan_to_value_ratio": "95",
         "interest_rate": "5.125",
         "rate_spread": "1.324",
         "hoepa_status": 2,
         "total_loan_costs": "3933.5",
         "total_points_and_fees": "nan",
         "origination_charges": "1419",
         "discount_points": "nan",
         "lender_credits": "1127.93",
         "loan_term": "360",
         "prepayment_penalty_term": "nan",
         "intro_rate_period": "nan",
         "negative_amortization": 2,
         "interest_only_payment": 2,
         "balloon_payment": 2,
         "other_nonamortizing_features": 2,
         "property_value": 475000,
         "construction_method": 1,
         "occupancy_type": 1,
         "manufactured_home_secured_property_type": 3,
         "manufactured_home_land_property_interest": 5,
         "total_units": "1",
         "multifamily_affordable_units": "nan",
         "income": 76,
         "debt_to_income_ratio": "46",
         "applicant_credit_score_type": 3,
         "co_applicant_credit_score_type": 9,
         "applicant_ethnicity_1": 1,
         "applicant_ethnicity_2": "nan",
         "applicant_ethnicity_3": "nan",
         "applicant_ethnicity_4": "nan",
         "applicant_ethnicity_5": "nan",
         "co_applicant_ethnicity_1": 1,
         "co_applicant_ethnicity_2": "nan",
         "co_applicant_ethnicity_3": "nan",
         "co_applicant_ethnicity_4": "nan",
         "co_applicant_ethnicity_5": "nan",
         "applicant_ethnicity_observed": 2,
         "co_applicant_ethnicity_observed": 2,
         "applicant_race_1": 2,
         "applicant_race_2": "nan",
         "applicant_race_3": "nan",
         "applicant_race_4": "nan",
         "applicant_race_5": "nan",
         "co_applicant_race_1": 2,
         "co_applicant_race_2": "nan",
         "co_applicant_race_3": "nan",
         "co_applicant_race_4": "nan",
         "co_applicant_race_5": "nan",
         "applicant_race_observed": 2,
         "co_applicant_race_observed": 2,
         "applicant_sex": 2,
         "co_applicant_sex": 1,
         "applicant_sex_observed": 2,
         "co_applicant_sex_observed": 2,
         "applicant_age": "35-44",
         "co_applicant_age": "35-44",
         "applicant_age_above_62": "No",
         "co_applicant_age_above_62": "No",
         "submission_of_application": 1,
         "initially_payable_to_institution": 1,
         "aus_1": 1,
         "aus_2": "nan",
         "aus_3": "nan",
         "aus_4": "nan",
         "aus_5": "nan",
         "denial_reason_1": 10,
         "denial_reason_2": "nan",
         "denial_reason_3": "nan",
         "denial_reason_4": "nan",
         "tract_population": 7161,
         "tract_minority_population_percent": 57.03,
         "ffiec_msa_md_median_family_income": 64800,
         "tract_to_msa_income_percentage": 131,
         "tract_owner_occupied_units": 1647,
         "tract_one_to_four_family_homes": 2622,
         "tract_median_age_of_housing_units": 0,
         "approved": true,
         "_deepnote_index_column": 151
        },
        {
         "activity_year": 2018,
         "lei": "B4TYDEB6GKMZO031MB27",
         "derived_msa_md": 36084,
         "state_code": "CA",
         "county_code": 6001,
         "census_tract": 6001432800,
         "conforming_loan_limit": "C",
         "derived_loan_product_type": "Conventional:Subordinate Lien",
         "derived_dwelling_category": "Single Family (1-4 Units):Site-Built",
         "derived_ethnicity": "Not Hispanic or Latino",
         "derived_race": "Asian",
         "derived_sex": "Joint",
         "action_taken": 1,
         "purchaser_type": 0,
         "preapproval": 2,
         "loan_type": 1,
         "loan_purpose": 4,
         "lien_status": 2,
         "reverse_mortgage": 2,
         "open_end_line_of_credit": 1,
         "business_or_commercial_purpose": 2,
         "loan_amount": 155000,
         "loan_to_value_ratio": "59.96",
         "interest_rate": "4.53",
         "rate_spread": "-0.49",
         "hoepa_status": 2,
         "total_loan_costs": "nan",
         "total_points_and_fees": "nan",
         "origination_charges": "nan",
         "discount_points": "nan",
         "lender_credits": "nan",
         "loan_term": "360",
         "prepayment_penalty_term": "36",
         "intro_rate_period": "1",
         "negative_amortization": 2,
         "interest_only_payment": 2,
         "balloon_payment": 2,
         "other_nonamortizing_features": 2,
         "property_value": 905000,
         "construction_method": 1,
         "occupancy_type": 1,
         "manufactured_home_secured_property_type": 3,
         "manufactured_home_land_property_interest": 5,
         "total_units": "1",
         "multifamily_affordable_units": "nan",
         "income": 218,
         "debt_to_income_ratio": "39",
         "applicant_credit_score_type": 8,
         "co_applicant_credit_score_type": 9,
         "applicant_ethnicity_1": 2,
         "applicant_ethnicity_2": "nan",
         "applicant_ethnicity_3": "nan",
         "applicant_ethnicity_4": "nan",
         "applicant_ethnicity_5": "nan",
         "co_applicant_ethnicity_1": 2,
         "co_applicant_ethnicity_2": "nan",
         "co_applicant_ethnicity_3": "nan",
         "co_applicant_ethnicity_4": "nan",
         "co_applicant_ethnicity_5": "nan",
         "applicant_ethnicity_observed": 2,
         "co_applicant_ethnicity_observed": 2,
         "applicant_race_1": 2,
         "applicant_race_2": 23,
         "applicant_race_3": "nan",
         "applicant_race_4": "nan",
         "applicant_race_5": "nan",
         "co_applicant_race_1": 2,
         "co_applicant_race_2": 23,
         "co_applicant_race_3": "nan",
         "co_applicant_race_4": "nan",
         "co_applicant_race_5": "nan",
         "applicant_race_observed": 2,
         "co_applicant_race_observed": 2,
         "applicant_sex": 2,
         "co_applicant_sex": 1,
         "applicant_sex_observed": 2,
         "co_applicant_sex_observed": 2,
         "applicant_age": "45-54",
         "co_applicant_age": "45-54",
         "applicant_age_above_62": "No",
         "co_applicant_age_above_62": "No",
         "submission_of_application": 1,
         "initially_payable_to_institution": 1,
         "aus_1": 6,
         "aus_2": "nan",
         "aus_3": "nan",
         "aus_4": "nan",
         "aus_5": "nan",
         "denial_reason_1": 10,
         "denial_reason_2": "nan",
         "denial_reason_3": "nan",
         "denial_reason_4": "nan",
         "tract_population": 3296,
         "tract_minority_population_percent": 62.89,
         "ffiec_msa_md_median_family_income": 104400,
         "tract_to_msa_income_percentage": 128,
         "tract_owner_occupied_units": 1117,
         "tract_one_to_four_family_homes": 1462,
         "tract_median_age_of_housing_units": 53,
         "approved": true,
         "_deepnote_index_column": 342
        },
        {
         "activity_year": 2018,
         "lei": "549300AG64NHILB7ZP05",
         "derived_msa_md": 39580,
         "state_code": "NC",
         "county_code": 37183,
         "census_tract": 37183054110,
         "conforming_loan_limit": "C",
         "derived_loan_product_type": "Conventional:First Lien",
         "derived_dwelling_category": "Single Family (1-4 Units):Site-Built",
         "derived_ethnicity": "Not Hispanic or Latino",
         "derived_race": "Asian",
         "derived_sex": "Joint",
         "action_taken": 1,
         "purchaser_type": 1,
         "preapproval": 2,
         "loan_type": 1,
         "loan_purpose": 32,
         "lien_status": 1,
         "reverse_mortgage": 2,
         "open_end_line_of_credit": 2,
         "business_or_commercial_purpose": 2,
         "loan_amount": 135000,
         "loan_to_value_ratio": "80",
         "interest_rate": "3.875",
         "rate_spread": "0.248",
         "hoepa_status": 2,
         "total_loan_costs": "5237.48",
         "total_points_and_fees": "nan",
         "origination_charges": "3683",
         "discount_points": "2768",
         "lender_credits": "nan",
         "loan_term": "360",
         "prepayment_penalty_term": "nan",
         "intro_rate_period": "120",
         "negative_amortization": 2,
         "interest_only_payment": 2,
         "balloon_payment": 2,
         "other_nonamortizing_features": 2,
         "property_value": 175000,
         "construction_method": 1,
         "occupancy_type": 1,
         "manufactured_home_secured_property_type": 3,
         "manufactured_home_land_property_interest": 5,
         "total_units": "1",
         "multifamily_affordable_units": "nan",
         "income": 72,
         "debt_to_income_ratio": "20%-<30%",
         "applicant_credit_score_type": 1,
         "co_applicant_credit_score_type": 9,
         "applicant_ethnicity_1": 2,
         "applicant_ethnicity_2": "nan",
         "applicant_ethnicity_3": "nan",
         "applicant_ethnicity_4": "nan",
         "applicant_ethnicity_5": "nan",
         "co_applicant_ethnicity_1": 2,
         "co_applicant_ethnicity_2": "nan",
         "co_applicant_ethnicity_3": "nan",
         "co_applicant_ethnicity_4": "nan",
         "co_applicant_ethnicity_5": "nan",
         "applicant_ethnicity_observed": 2,
         "co_applicant_ethnicity_observed": 2,
         "applicant_race_1": 2,
         "applicant_race_2": "nan",
         "applicant_race_3": "nan",
         "applicant_race_4": "nan",
         "applicant_race_5": "nan",
         "co_applicant_race_1": 2,
         "co_applicant_race_2": "nan",
         "co_applicant_race_3": "nan",
         "co_applicant_race_4": "nan",
         "co_applicant_race_5": "nan",
         "applicant_race_observed": 2,
         "co_applicant_race_observed": 2,
         "applicant_sex": 1,
         "co_applicant_sex": 2,
         "applicant_sex_observed": 2,
         "co_applicant_sex_observed": 2,
         "applicant_age": "35-44",
         "co_applicant_age": "35-44",
         "applicant_age_above_62": "No",
         "co_applicant_age_above_62": "No",
         "submission_of_application": 1,
         "initially_payable_to_institution": 1,
         "aus_1": 1,
         "aus_2": "nan",
         "aus_3": "nan",
         "aus_4": "nan",
         "aus_5": "nan",
         "denial_reason_1": 10,
         "denial_reason_2": "nan",
         "denial_reason_3": "nan",
         "denial_reason_4": "nan",
         "tract_population": 9224,
         "tract_minority_population_percent": 43.22,
         "ffiec_msa_md_median_family_income": 84300,
         "tract_to_msa_income_percentage": 115,
         "tract_owner_occupied_units": 2849,
         "tract_one_to_four_family_homes": 3388,
         "tract_median_age_of_housing_units": 14,
         "approved": true,
         "_deepnote_index_column": 423
        },
        {
         "activity_year": 2018,
         "lei": "5493005R24FV5DFFXW42",
         "derived_msa_md": 46520,
         "state_code": "HI",
         "county_code": 15003,
         "census_tract": 15003008925,
         "conforming_loan_limit": "C",
         "derived_loan_product_type": "Conventional:Subordinate Lien",
         "derived_dwelling_category": "Single Family (1-4 Units):Site-Built",
         "derived_ethnicity": "Not Hispanic or Latino",
         "derived_race": "Asian",
         "derived_sex": "Joint",
         "action_taken": 3,
         "purchaser_type": 0,
         "preapproval": 2,
         "loan_type": 1,
         "loan_purpose": 4,
         "lien_status": 2,
         "reverse_mortgage": 2,
         "open_end_line_of_credit": 1,
         "business_or_commercial_purpose": 2,
         "loan_amount": 205000,
         "loan_to_value_ratio": "75.569",
         "interest_rate": "nan",
         "rate_spread": "nan",
         "hoepa_status": 3,
         "total_loan_costs": "nan",
         "total_points_and_fees": "nan",
         "origination_charges": "nan",
         "discount_points": "nan",
         "lender_credits": "nan",
         "loan_term": "359",
         "prepayment_penalty_term": "36",
         "intro_rate_period": "1",
         "negative_amortization": 2,
         "interest_only_payment": 1,
         "balloon_payment": 2,
         "other_nonamortizing_features": 2,
         "property_value": 345000,
         "construction_method": 1,
         "occupancy_type": 1,
         "manufactured_home_secured_property_type": 3,
         "manufactured_home_land_property_interest": 5,
         "total_units": "1",
         "multifamily_affordable_units": "nan",
         "income": 124,
         "debt_to_income_ratio": "45",
         "applicant_credit_score_type": 2,
         "co_applicant_credit_score_type": 9,
         "applicant_ethnicity_1": 2,
         "applicant_ethnicity_2": "nan",
         "applicant_ethnicity_3": "nan",
         "applicant_ethnicity_4": "nan",
         "applicant_ethnicity_5": "nan",
         "co_applicant_ethnicity_1": 2,
         "co_applicant_ethnicity_2": "nan",
         "co_applicant_ethnicity_3": "nan",
         "co_applicant_ethnicity_4": "nan",
         "co_applicant_ethnicity_5": "nan",
         "applicant_ethnicity_observed": 2,
         "co_applicant_ethnicity_observed": 2,
         "applicant_race_1": 2,
         "applicant_race_2": 24,
         "applicant_race_3": "nan",
         "applicant_race_4": "nan",
         "applicant_race_5": "nan",
         "co_applicant_race_1": 2,
         "co_applicant_race_2": 4,
         "co_applicant_race_3": 22,
         "co_applicant_race_4": 24,
         "co_applicant_race_5": 41,
         "applicant_race_observed": 2,
         "co_applicant_race_observed": 2,
         "applicant_sex": 1,
         "co_applicant_sex": 2,
         "applicant_sex_observed": 2,
         "co_applicant_sex_observed": 2,
         "applicant_age": "55-64",
         "co_applicant_age": "55-64",
         "applicant_age_above_62": "No",
         "co_applicant_age_above_62": "No",
         "submission_of_application": 1,
         "initially_payable_to_institution": 1,
         "aus_1": 6,
         "aus_2": "nan",
         "aus_3": "nan",
         "aus_4": "nan",
         "aus_5": "nan",
         "denial_reason_1": 4,
         "denial_reason_2": "nan",
         "denial_reason_3": "nan",
         "denial_reason_4": "nan",
         "tract_population": 6433,
         "tract_minority_population_percent": 88.65,
         "ffiec_msa_md_median_family_income": 96000,
         "tract_to_msa_income_percentage": 100,
         "tract_owner_occupied_units": 1182,
         "tract_one_to_four_family_homes": 1411,
         "tract_median_age_of_housing_units": 27,
         "approved": false,
         "_deepnote_index_column": 486
        },
        {
         "activity_year": 2018,
         "lei": "549300G2LV8W3C1G3762",
         "derived_msa_md": 18140,
         "state_code": "OH",
         "county_code": 39045,
         "census_tract": 39045030600,
         "conforming_loan_limit": "C",
         "derived_loan_product_type": "Conventional:First Lien",
         "derived_dwelling_category": "Single Family (1-4 Units):Site-Built",
         "derived_ethnicity": "Not Hispanic or Latino",
         "derived_race": "Asian",
         "derived_sex": "Joint",
         "action_taken": 4,
         "purchaser_type": 0,
         "preapproval": 2,
         "loan_type": 1,
         "loan_purpose": 31,
         "lien_status": 1,
         "reverse_mortgage": 2,
         "open_end_line_of_credit": 2,
         "business_or_commercial_purpose": 2,
         "loan_amount": 205000,
         "loan_to_value_ratio": "nan",
         "interest_rate": "nan",
         "rate_spread": "nan",
         "hoepa_status": 3,
         "total_loan_costs": "nan",
         "total_points_and_fees": "nan",
         "origination_charges": "nan",
         "discount_points": "nan",
         "lender_credits": "nan",
         "loan_term": "360",
         "prepayment_penalty_term": "nan",
         "intro_rate_period": "nan",
         "negative_amortization": 2,
         "interest_only_payment": 2,
         "balloon_payment": 2,
         "other_nonamortizing_features": 2,
         "property_value": "nan",
         "construction_method": 1,
         "occupancy_type": 1,
         "manufactured_home_secured_property_type": 3,
         "manufactured_home_land_property_interest": 5,
         "total_units": "1",
         "multifamily_affordable_units": "nan",
         "income": 102,
         "debt_to_income_ratio": "nan",
         "applicant_credit_score_type": 9,
         "co_applicant_credit_score_type": 9,
         "applicant_ethnicity_1": 2,
         "applicant_ethnicity_2": "nan",
         "applicant_ethnicity_3": "nan",
         "applicant_ethnicity_4": "nan",
         "applicant_ethnicity_5": "nan",
         "co_applicant_ethnicity_1": 2,
         "co_applicant_ethnicity_2": "nan",
         "co_applicant_ethnicity_3": "nan",
         "co_applicant_ethnicity_4": "nan",
         "co_applicant_ethnicity_5": "nan",
         "applicant_ethnicity_observed": 2,
         "co_applicant_ethnicity_observed": 2,
         "applicant_race_1": 2,
         "applicant_race_2": 21,
         "applicant_race_3": "nan",
         "applicant_race_4": "nan",
         "applicant_race_5": "nan",
         "co_applicant_race_1": 2,
         "co_applicant_race_2": 21,
         "co_applicant_race_3": "nan",
         "co_applicant_race_4": "nan",
         "co_applicant_race_5": "nan",
         "applicant_race_observed": 2,
         "co_applicant_race_observed": 2,
         "applicant_sex": 1,
         "co_applicant_sex": 2,
         "applicant_sex_observed": 2,
         "co_applicant_sex_observed": 2,
         "applicant_age": "45-54",
         "co_applicant_age": "45-54",
         "applicant_age_above_62": "No",
         "co_applicant_age_above_62": "No",
         "submission_of_application": 1,
         "initially_payable_to_institution": 1,
         "aus_1": 6,
         "aus_2": "nan",
         "aus_3": "nan",
         "aus_4": "nan",
         "aus_5": "nan",
         "denial_reason_1": 10,
         "denial_reason_2": "nan",
         "denial_reason_3": "nan",
         "denial_reason_4": "nan",
         "tract_population": 9832,
         "tract_minority_population_percent": 21.53,
         "ffiec_msa_md_median_family_income": 76000,
         "tract_to_msa_income_percentage": 143,
         "tract_owner_occupied_units": 2999,
         "tract_one_to_four_family_homes": 3385,
         "tract_median_age_of_housing_units": 14,
         "approved": false,
         "_deepnote_index_column": 629
        },
        {
         "activity_year": 2018,
         "lei": "5Z1UQ1CWY0DQ3KJWDQ07",
         "derived_msa_md": 35614,
         "state_code": "NJ",
         "county_code": 34023,
         "census_tract": 34023002000,
         "conforming_loan_limit": "C",
         "derived_loan_product_type": "Conventional:First Lien",
         "derived_dwelling_category": "Single Family (1-4 Units):Site-Built",
         "derived_ethnicity": "Not Hispanic or Latino",
         "derived_race": "Asian",
         "derived_sex": "Joint",
         "action_taken": 1,
         "purchaser_type": 3,
         "preapproval": 2,
         "loan_type": 1,
         "loan_purpose": 1,
         "lien_status": 1,
         "reverse_mortgage": 2,
         "open_end_line_of_credit": 2,
         "business_or_commercial_purpose": 2,
         "loan_amount": 455000,
         "loan_to_value_ratio": "57.58",
         "interest_rate": "3.875",
         "rate_spread": "-0.025",
         "hoepa_status": 2,
         "total_loan_costs": "4687.69",
         "total_points_and_fees": "nan",
         "origination_charges": "895",
         "discount_points": "nan",
         "lender_credits": "4399.4",
         "loan_term": "360",
         "prepayment_penalty_term": "nan",
         "intro_rate_period": "nan",
         "negative_amortization": 2,
         "interest_only_payment": 2,
         "balloon_payment": 2,
         "other_nonamortizing_features": 2,
         "property_value": 785000,
         "construction_method": 1,
         "occupancy_type": 1,
         "manufactured_home_secured_property_type": 3,
         "manufactured_home_land_property_interest": 5,
         "total_units": "1",
         "multifamily_affordable_units": "nan",
         "income": 209,
         "debt_to_income_ratio": "44",
         "applicant_credit_score_type": 3,
         "co_applicant_credit_score_type": 9,
         "applicant_ethnicity_1": 2,
         "applicant_ethnicity_2": "nan",
         "applicant_ethnicity_3": "nan",
         "applicant_ethnicity_4": "nan",
         "applicant_ethnicity_5": "nan",
         "co_applicant_ethnicity_1": 2,
         "co_applicant_ethnicity_2": "nan",
         "co_applicant_ethnicity_3": "nan",
         "co_applicant_ethnicity_4": "nan",
         "co_applicant_ethnicity_5": "nan",
         "applicant_ethnicity_observed": 2,
         "co_applicant_ethnicity_observed": 2,
         "applicant_race_1": 2,
         "applicant_race_2": "nan",
         "applicant_race_3": "nan",
         "applicant_race_4": "nan",
         "applicant_race_5": "nan",
         "co_applicant_race_1": 2,
         "co_applicant_race_2": "nan",
         "co_applicant_race_3": "nan",
         "co_applicant_race_4": "nan",
         "co_applicant_race_5": "nan",
         "applicant_race_observed": 2,
         "co_applicant_race_observed": 2,
         "applicant_sex": 1,
         "co_applicant_sex": 2,
         "applicant_sex_observed": 2,
         "co_applicant_sex_observed": 2,
         "applicant_age": "35-44",
         "co_applicant_age": "25-34",
         "applicant_age_above_62": "No",
         "co_applicant_age_above_62": "No",
         "submission_of_application": 1,
         "initially_payable_to_institution": 1,
         "aus_1": 1,
         "aus_2": "nan",
         "aus_3": "nan",
         "aus_4": "nan",
         "aus_5": "nan",
         "denial_reason_1": 10,
         "denial_reason_2": "nan",
         "denial_reason_3": "nan",
         "denial_reason_4": "nan",
         "tract_population": 3929,
         "tract_minority_population_percent": 46.4,
         "ffiec_msa_md_median_family_income": 78000,
         "tract_to_msa_income_percentage": 162,
         "tract_owner_occupied_units": 972,
         "tract_one_to_four_family_homes": 1241,
         "tract_median_age_of_housing_units": 51,
         "approved": true,
         "_deepnote_index_column": 672
        },
        {
         "activity_year": 2018,
         "lei": "549300ZN5MIVRMVHJS09",
         "derived_msa_md": 42340,
         "state_code": "GA",
         "county_code": 13051,
         "census_tract": 13051010801,
         "conforming_loan_limit": "C",
         "derived_loan_product_type": "Conventional:First Lien",
         "derived_dwelling_category": "Single Family (1-4 Units):Site-Built",
         "derived_ethnicity": "Not Hispanic or Latino",
         "derived_race": "Asian",
         "derived_sex": "Joint",
         "action_taken": 1,
         "purchaser_type": 6,
         "preapproval": 2,
         "loan_type": 1,
         "loan_purpose": 1,
         "lien_status": 1,
         "reverse_mortgage": 2,
         "open_end_line_of_credit": 2,
         "business_or_commercial_purpose": 2,
         "loan_amount": 425000,
         "loan_to_value_ratio": "95",
         "interest_rate": "4.375",
         "rate_spread": "0.19",
         "hoepa_status": 2,
         "total_loan_costs": "8783.47",
         "total_points_and_fees": "nan",
         "origination_charges": "5910.07",
         "discount_points": "4815.07",
         "lender_credits": "nan",
         "loan_term": "360",
         "prepayment_penalty_term": "nan",
         "intro_rate_period": "nan",
         "negative_amortization": 2,
         "interest_only_payment": 2,
         "balloon_payment": 2,
         "other_nonamortizing_features": 2,
         "property_value": 455000,
         "construction_method": 1,
         "occupancy_type": 1,
         "manufactured_home_secured_property_type": 3,
         "manufactured_home_land_property_interest": 5,
         "total_units": "1",
         "multifamily_affordable_units": "nan",
         "income": 157,
         "debt_to_income_ratio": "43",
         "applicant_credit_score_type": 3,
         "co_applicant_credit_score_type": 9,
         "applicant_ethnicity_1": 2,
         "applicant_ethnicity_2": "nan",
         "applicant_ethnicity_3": "nan",
         "applicant_ethnicity_4": "nan",
         "applicant_ethnicity_5": "nan",
         "co_applicant_ethnicity_1": 2,
         "co_applicant_ethnicity_2": "nan",
         "co_applicant_ethnicity_3": "nan",
         "co_applicant_ethnicity_4": "nan",
         "co_applicant_ethnicity_5": "nan",
         "applicant_ethnicity_observed": 2,
         "co_applicant_ethnicity_observed": 2,
         "applicant_race_1": 2,
         "applicant_race_2": "nan",
         "applicant_race_3": "nan",
         "applicant_race_4": "nan",
         "applicant_race_5": "nan",
         "co_applicant_race_1": 2,
         "co_applicant_race_2": "nan",
         "co_applicant_race_3": "nan",
         "co_applicant_race_4": "nan",
         "co_applicant_race_5": "nan",
         "applicant_race_observed": 2,
         "co_applicant_race_observed": 2,
         "applicant_sex": 1,
         "co_applicant_sex": 2,
         "applicant_sex_observed": 2,
         "co_applicant_sex_observed": 2,
         "applicant_age": "25-34",
         "co_applicant_age": "25-34",
         "applicant_age_above_62": "No",
         "co_applicant_age_above_62": "No",
         "submission_of_application": 1,
         "initially_payable_to_institution": 1,
         "aus_1": 2,
         "aus_2": "nan",
         "aus_3": "nan",
         "aus_4": "nan",
         "aus_5": "nan",
         "denial_reason_1": 10,
         "denial_reason_2": "nan",
         "denial_reason_3": "nan",
         "denial_reason_4": "nan",
         "tract_population": 2653,
         "tract_minority_population_percent": 13.83,
         "ffiec_msa_md_median_family_income": 65200,
         "tract_to_msa_income_percentage": 89,
         "tract_owner_occupied_units": 647,
         "tract_one_to_four_family_homes": 1082,
         "tract_median_age_of_housing_units": 31,
         "approved": true,
         "_deepnote_index_column": 699
        },
        {
         "activity_year": 2018,
         "lei": "254900CIEUZUO7CHPG88",
         "derived_msa_md": 48140,
         "state_code": "WI",
         "county_code": 55073,
         "census_tract": 55073001102,
         "conforming_loan_limit": "C",
         "derived_loan_product_type": "Conventional:First Lien",
         "derived_dwelling_category": "Single Family (1-4 Units):Site-Built",
         "derived_ethnicity": "Not Hispanic or Latino",
         "derived_race": "Asian",
         "derived_sex": "Joint",
         "action_taken": 1,
         "purchaser_type": 0,
         "preapproval": 2,
         "loan_type": 1,
         "loan_purpose": 31,
         "lien_status": 1,
         "reverse_mortgage": 2,
         "open_end_line_of_credit": 2,
         "business_or_commercial_purpose": 2,
         "loan_amount": 205000,
         "loan_to_value_ratio": "76",
         "interest_rate": "3.375",
         "rate_spread": "0.348",
         "hoepa_status": 2,
         "total_loan_costs": "1208.8",
         "total_points_and_fees": "nan",
         "origination_charges": "375",
         "discount_points": "nan",
         "lender_credits": "nan",
         "loan_term": "360",
         "prepayment_penalty_term": "nan",
         "intro_rate_period": "120",
         "negative_amortization": 2,
         "interest_only_payment": 2,
         "balloon_payment": 2,
         "other_nonamortizing_features": 2,
         "property_value": 275000,
         "construction_method": 1,
         "occupancy_type": 1,
         "manufactured_home_secured_property_type": 3,
         "manufactured_home_land_property_interest": 5,
         "total_units": "1",
         "multifamily_affordable_units": "nan",
         "income": 133,
         "debt_to_income_ratio": "<20%",
         "applicant_credit_score_type": 1,
         "co_applicant_credit_score_type": 9,
         "applicant_ethnicity_1": 2,
         "applicant_ethnicity_2": "nan",
         "applicant_ethnicity_3": "nan",
         "applicant_ethnicity_4": "nan",
         "applicant_ethnicity_5": "nan",
         "co_applicant_ethnicity_1": 2,
         "co_applicant_ethnicity_2": "nan",
         "co_applicant_ethnicity_3": "nan",
         "co_applicant_ethnicity_4": "nan",
         "co_applicant_ethnicity_5": "nan",
         "applicant_ethnicity_observed": 3,
         "co_applicant_ethnicity_observed": 3,
         "applicant_race_1": 2,
         "applicant_race_2": "nan",
         "applicant_race_3": "nan",
         "applicant_race_4": "nan",
         "applicant_race_5": "nan",
         "co_applicant_race_1": 2,
         "co_applicant_race_2": "nan",
         "co_applicant_race_3": "nan",
         "co_applicant_race_4": "nan",
         "co_applicant_race_5": "nan",
         "applicant_race_observed": 3,
         "co_applicant_race_observed": 3,
         "applicant_sex": 2,
         "co_applicant_sex": 1,
         "applicant_sex_observed": 3,
         "co_applicant_sex_observed": 3,
         "applicant_age": "25-34",
         "co_applicant_age": "25-34",
         "applicant_age_above_62": "No",
         "co_applicant_age_above_62": "No",
         "submission_of_application": 1,
         "initially_payable_to_institution": 1,
         "aus_1": 6,
         "aus_2": "nan",
         "aus_3": "nan",
         "aus_4": "nan",
         "aus_5": "nan",
         "denial_reason_1": 10,
         "denial_reason_2": "nan",
         "denial_reason_3": "nan",
         "denial_reason_4": "nan",
         "tract_population": 8381,
         "tract_minority_population_percent": 8.13,
         "ffiec_msa_md_median_family_income": 72700,
         "tract_to_msa_income_percentage": 118,
         "tract_owner_occupied_units": 2334,
         "tract_one_to_four_family_homes": 2873,
         "tract_median_age_of_housing_units": 19,
         "approved": true,
         "_deepnote_index_column": 737
        }
       ]
      },
      "text/plain": "       activity_year                   lei  derived_msa_md state_code  \\\n0               2018  5493002QI2ILHHZH8D20           31084         CA   \n91              2018  DRMSV1Q0EKMEXLAU1P80           15804         NJ   \n151             2018  549300E2UX99HKDBR481           29820         NV   \n342             2018  B4TYDEB6GKMZO031MB27           36084         CA   \n423             2018  549300AG64NHILB7ZP05           39580         NC   \n...              ...                   ...             ...        ...   \n14943           2018  549300GKFNPRWNS0GF29           45300         FL   \n15005           2018  KB1H1DSPRFMYMCUFXT09           46520         HI   \n15031           2018  6BYL5QZYBDK8S7L73M02           40900         CA   \n15105           2018  KB1H1DSPRFMYMCUFXT09           36084         CA   \n15106           2018  549300686RMBOL8Y1T93           15764         MA   \n\n       county_code  census_tract conforming_loan_limit  \\\n0           6037.0  6.037603e+09                     C   \n91         34007.0  3.400761e+10                     C   \n151        32003.0  3.200301e+10                     C   \n342         6001.0  6.001433e+09                     C   \n423        37183.0  3.718305e+10                     C   \n...            ...           ...                   ...   \n14943      12057.0  1.205701e+10                     C   \n15005      15003.0  1.500301e+10                     C   \n15031       6061.0  6.061021e+09                     C   \n15105       6001.0  6.001443e+09                    NC   \n15106      25017.0  2.501734e+10                     C   \n\n           derived_loan_product_type             derived_dwelling_category  \\\n0            Conventional:First Lien  Single Family (1-4 Units):Site-Built   \n91           Conventional:First Lien  Single Family (1-4 Units):Site-Built   \n151          Conventional:First Lien  Single Family (1-4 Units):Site-Built   \n342    Conventional:Subordinate Lien  Single Family (1-4 Units):Site-Built   \n423          Conventional:First Lien  Single Family (1-4 Units):Site-Built   \n...                              ...                                   ...   \n14943        Conventional:First Lien  Single Family (1-4 Units):Site-Built   \n15005  Conventional:Subordinate Lien  Single Family (1-4 Units):Site-Built   \n15031  Conventional:Subordinate Lien  Single Family (1-4 Units):Site-Built   \n15105        Conventional:First Lien  Single Family (1-4 Units):Site-Built   \n15106        Conventional:First Lien  Single Family (1-4 Units):Site-Built   \n\n             derived_ethnicity  ... denial_reason_3 denial_reason_4  \\\n0       Not Hispanic or Latino  ...             NaN             NaN   \n91      Not Hispanic or Latino  ...             NaN             NaN   \n151         Hispanic or Latino  ...             NaN             NaN   \n342     Not Hispanic or Latino  ...             NaN             NaN   \n423     Not Hispanic or Latino  ...             NaN             NaN   \n...                        ...  ...             ...             ...   \n14943   Not Hispanic or Latino  ...             NaN             NaN   \n15005   Not Hispanic or Latino  ...             NaN             NaN   \n15031  Ethnicity Not Available  ...             NaN             NaN   \n15105   Not Hispanic or Latino  ...             NaN             NaN   \n15106   Not Hispanic or Latino  ...             NaN             NaN   \n\n       tract_population  tract_minority_population_percent  \\\n0                  7029                              96.76   \n91                 5705                              23.16   \n151                7161                              57.03   \n342                3296                              62.89   \n423                9224                              43.22   \n...                 ...                                ...   \n14943              5665                              68.05   \n15005              7765                              88.22   \n15031              6376                              18.88   \n15105              4983                              83.32   \n15106              4826                              38.44   \n\n       ffiec_msa_md_median_family_income  tract_to_msa_income_percentage  \\\n0                                  69300                              65   \n91                                 92400                             118   \n151                                64800                             131   \n342                               104400                             128   \n423                                84300                             115   \n...                                  ...                             ...   \n14943                              63900                              67   \n15005                              96000                             139   \n15031                              80400                             188   \n15105                             104400                             170   \n15106                             110300                              89   \n\n       tract_owner_occupied_units  tract_one_to_four_family_homes  \\\n0                             885                            1363   \n91                           1647                            1880   \n151                          1647                            2622   \n342                          1117                            1462   \n423                          2849                            3388   \n...                           ...                             ...   \n14943                         873                            1449   \n15005                        1678                            2039   \n15031                        1712                            2184   \n15105                        1338                            1539   \n15106                         764                             989   \n\n       tract_median_age_of_housing_units  approved  \n0                                     51     False  \n91                                    28     False  \n151                                    0      True  \n342                                   53      True  \n423                                   14      True  \n...                                  ...       ...  \n14943                                 31     False  \n15005                                 22     False  \n15031                                 34     False  \n15105                                 38      True  \n15106                                 29      True  \n\n[257 rows x 100 columns]",
      "text/html": "<div>\n<style scoped>\n    .dataframe tbody tr th:only-of-type {\n        vertical-align: middle;\n    }\n\n    .dataframe tbody tr th {\n        vertical-align: top;\n    }\n\n    .dataframe thead th {\n        text-align: right;\n    }\n</style>\n<table border=\"1\" class=\"dataframe\">\n  <thead>\n    <tr style=\"text-align: right;\">\n      <th></th>\n      <th>activity_year</th>\n      <th>lei</th>\n      <th>derived_msa_md</th>\n      <th>state_code</th>\n      <th>county_code</th>\n      <th>census_tract</th>\n      <th>conforming_loan_limit</th>\n      <th>derived_loan_product_type</th>\n      <th>derived_dwelling_category</th>\n      <th>derived_ethnicity</th>\n      <th>...</th>\n      <th>denial_reason_3</th>\n      <th>denial_reason_4</th>\n      <th>tract_population</th>\n      <th>tract_minority_population_percent</th>\n      <th>ffiec_msa_md_median_family_income</th>\n      <th>tract_to_msa_income_percentage</th>\n      <th>tract_owner_occupied_units</th>\n      <th>tract_one_to_four_family_homes</th>\n      <th>tract_median_age_of_housing_units</th>\n      <th>approved</th>\n    </tr>\n  </thead>\n  <tbody>\n    <tr>\n      <th>0</th>\n      <td>2018</td>\n      <td>5493002QI2ILHHZH8D20</td>\n      <td>31084</td>\n      <td>CA</td>\n      <td>6037.0</td>\n      <td>6.037603e+09</td>\n      <td>C</td>\n      <td>Conventional:First Lien</td>\n      <td>Single Family (1-4 Units):Site-Built</td>\n      <td>Not Hispanic or Latino</td>\n      <td>...</td>\n      <td>NaN</td>\n      <td>NaN</td>\n      <td>7029</td>\n      <td>96.76</td>\n      <td>69300</td>\n      <td>65</td>\n      <td>885</td>\n      <td>1363</td>\n      <td>51</td>\n      <td>False</td>\n    </tr>\n    <tr>\n      <th>91</th>\n      <td>2018</td>\n      <td>DRMSV1Q0EKMEXLAU1P80</td>\n      <td>15804</td>\n      <td>NJ</td>\n      <td>34007.0</td>\n      <td>3.400761e+10</td>\n      <td>C</td>\n      <td>Conventional:First Lien</td>\n      <td>Single Family (1-4 Units):Site-Built</td>\n      <td>Not Hispanic or Latino</td>\n      <td>...</td>\n      <td>NaN</td>\n      <td>NaN</td>\n      <td>5705</td>\n      <td>23.16</td>\n      <td>92400</td>\n      <td>118</td>\n      <td>1647</td>\n      <td>1880</td>\n      <td>28</td>\n      <td>False</td>\n    </tr>\n    <tr>\n      <th>151</th>\n      <td>2018</td>\n      <td>549300E2UX99HKDBR481</td>\n      <td>29820</td>\n      <td>NV</td>\n      <td>32003.0</td>\n      <td>3.200301e+10</td>\n      <td>C</td>\n      <td>Conventional:First Lien</td>\n      <td>Single Family (1-4 Units):Site-Built</td>\n      <td>Hispanic or Latino</td>\n      <td>...</td>\n      <td>NaN</td>\n      <td>NaN</td>\n      <td>7161</td>\n      <td>57.03</td>\n      <td>64800</td>\n      <td>131</td>\n      <td>1647</td>\n      <td>2622</td>\n      <td>0</td>\n      <td>True</td>\n    </tr>\n    <tr>\n      <th>342</th>\n      <td>2018</td>\n      <td>B4TYDEB6GKMZO031MB27</td>\n      <td>36084</td>\n      <td>CA</td>\n      <td>6001.0</td>\n      <td>6.001433e+09</td>\n      <td>C</td>\n      <td>Conventional:Subordinate Lien</td>\n      <td>Single Family (1-4 Units):Site-Built</td>\n      <td>Not Hispanic or Latino</td>\n      <td>...</td>\n      <td>NaN</td>\n      <td>NaN</td>\n      <td>3296</td>\n      <td>62.89</td>\n      <td>104400</td>\n      <td>128</td>\n      <td>1117</td>\n      <td>1462</td>\n      <td>53</td>\n      <td>True</td>\n    </tr>\n    <tr>\n      <th>423</th>\n      <td>2018</td>\n      <td>549300AG64NHILB7ZP05</td>\n      <td>39580</td>\n      <td>NC</td>\n      <td>37183.0</td>\n      <td>3.718305e+10</td>\n      <td>C</td>\n      <td>Conventional:First Lien</td>\n      <td>Single Family (1-4 Units):Site-Built</td>\n      <td>Not Hispanic or Latino</td>\n      <td>...</td>\n      <td>NaN</td>\n      <td>NaN</td>\n      <td>9224</td>\n      <td>43.22</td>\n      <td>84300</td>\n      <td>115</td>\n      <td>2849</td>\n      <td>3388</td>\n      <td>14</td>\n      <td>True</td>\n    </tr>\n    <tr>\n      <th>...</th>\n      <td>...</td>\n      <td>...</td>\n      <td>...</td>\n      <td>...</td>\n      <td>...</td>\n      <td>...</td>\n      <td>...</td>\n      <td>...</td>\n      <td>...</td>\n      <td>...</td>\n      <td>...</td>\n      <td>...</td>\n      <td>...</td>\n      <td>...</td>\n      <td>...</td>\n      <td>...</td>\n      <td>...</td>\n      <td>...</td>\n      <td>...</td>\n      <td>...</td>\n      <td>...</td>\n    </tr>\n    <tr>\n      <th>14943</th>\n      <td>2018</td>\n      <td>549300GKFNPRWNS0GF29</td>\n      <td>45300</td>\n      <td>FL</td>\n      <td>12057.0</td>\n      <td>1.205701e+10</td>\n      <td>C</td>\n      <td>Conventional:First Lien</td>\n      <td>Single Family (1-4 Units):Site-Built</td>\n      <td>Not Hispanic or Latino</td>\n      <td>...</td>\n      <td>NaN</td>\n      <td>NaN</td>\n      <td>5665</td>\n      <td>68.05</td>\n      <td>63900</td>\n      <td>67</td>\n      <td>873</td>\n      <td>1449</td>\n      <td>31</td>\n      <td>False</td>\n    </tr>\n    <tr>\n      <th>15005</th>\n      <td>2018</td>\n      <td>KB1H1DSPRFMYMCUFXT09</td>\n      <td>46520</td>\n      <td>HI</td>\n      <td>15003.0</td>\n      <td>1.500301e+10</td>\n      <td>C</td>\n      <td>Conventional:Subordinate Lien</td>\n      <td>Single Family (1-4 Units):Site-Built</td>\n      <td>Not Hispanic or Latino</td>\n      <td>...</td>\n      <td>NaN</td>\n      <td>NaN</td>\n      <td>7765</td>\n      <td>88.22</td>\n      <td>96000</td>\n      <td>139</td>\n      <td>1678</td>\n      <td>2039</td>\n      <td>22</td>\n      <td>False</td>\n    </tr>\n    <tr>\n      <th>15031</th>\n      <td>2018</td>\n      <td>6BYL5QZYBDK8S7L73M02</td>\n      <td>40900</td>\n      <td>CA</td>\n      <td>6061.0</td>\n      <td>6.061021e+09</td>\n      <td>C</td>\n      <td>Conventional:Subordinate Lien</td>\n      <td>Single Family (1-4 Units):Site-Built</td>\n      <td>Ethnicity Not Available</td>\n      <td>...</td>\n      <td>NaN</td>\n      <td>NaN</td>\n      <td>6376</td>\n      <td>18.88</td>\n      <td>80400</td>\n      <td>188</td>\n      <td>1712</td>\n      <td>2184</td>\n      <td>34</td>\n      <td>False</td>\n    </tr>\n    <tr>\n      <th>15105</th>\n      <td>2018</td>\n      <td>KB1H1DSPRFMYMCUFXT09</td>\n      <td>36084</td>\n      <td>CA</td>\n      <td>6001.0</td>\n      <td>6.001443e+09</td>\n      <td>NC</td>\n      <td>Conventional:First Lien</td>\n      <td>Single Family (1-4 Units):Site-Built</td>\n      <td>Not Hispanic or Latino</td>\n      <td>...</td>\n      <td>NaN</td>\n      <td>NaN</td>\n      <td>4983</td>\n      <td>83.32</td>\n      <td>104400</td>\n      <td>170</td>\n      <td>1338</td>\n      <td>1539</td>\n      <td>38</td>\n      <td>True</td>\n    </tr>\n    <tr>\n      <th>15106</th>\n      <td>2018</td>\n      <td>549300686RMBOL8Y1T93</td>\n      <td>15764</td>\n      <td>MA</td>\n      <td>25017.0</td>\n      <td>2.501734e+10</td>\n      <td>C</td>\n      <td>Conventional:First Lien</td>\n      <td>Single Family (1-4 Units):Site-Built</td>\n      <td>Not Hispanic or Latino</td>\n      <td>...</td>\n      <td>NaN</td>\n      <td>NaN</td>\n      <td>4826</td>\n      <td>38.44</td>\n      <td>110300</td>\n      <td>89</td>\n      <td>764</td>\n      <td>989</td>\n      <td>29</td>\n      <td>True</td>\n    </tr>\n  </tbody>\n</table>\n<p>257 rows × 100 columns</p>\n</div>"
     },
     "metadata": {}
    }
   ],
   "execution_count": 50
  },
  {
   "cell_type": "code",
   "source": "new = df.groupby([\"state_code\"])[[\"approved\", \"property_value\"]].mean()\nnew",
   "metadata": {
    "cell_id": "766bbec887514bddbf0405d8c96c2639",
    "tags": [],
    "deepnote_to_be_reexecuted": false,
    "source_hash": "9ae8cd69",
    "execution_start": 1648658942480,
    "execution_millis": 63,
    "deepnote_cell_type": "code",
    "deepnote_cell_height": 615.859375
   },
   "outputs": [
    {
     "output_type": "execute_result",
     "execution_count": 36,
     "data": {
      "application/vnd.deepnote.dataframe.v3+json": {
       "column_count": 2,
       "row_count": 52,
       "columns": [
        {
         "name": "approved",
         "dtype": "float64",
         "stats": {
          "unique_count": 51,
          "nan_count": 0,
          "min": "0.40625",
          "max": "0.6911764705882353",
          "histogram": [
           {
            "bin_start": 0.40625,
            "bin_end": 0.43474264705882354,
            "count": 2
           },
           {
            "bin_start": 0.43474264705882354,
            "bin_end": 0.4632352941176471,
            "count": 1
           },
           {
            "bin_start": 0.4632352941176471,
            "bin_end": 0.49172794117647056,
            "count": 4
           },
           {
            "bin_start": 0.49172794117647056,
            "bin_end": 0.5202205882352942,
            "count": 11
           },
           {
            "bin_start": 0.5202205882352942,
            "bin_end": 0.5487132352941176,
            "count": 2
           },
           {
            "bin_start": 0.5487132352941176,
            "bin_end": 0.5772058823529411,
            "count": 13
           },
           {
            "bin_start": 0.5772058823529411,
            "bin_end": 0.6056985294117647,
            "count": 9
           },
           {
            "bin_start": 0.6056985294117647,
            "bin_end": 0.6341911764705882,
            "count": 5
           },
           {
            "bin_start": 0.6341911764705882,
            "bin_end": 0.6626838235294117,
            "count": 3
           },
           {
            "bin_start": 0.6626838235294117,
            "bin_end": 0.6911764705882353,
            "count": 2
           }
          ]
         }
        },
        {
         "name": "property_value",
         "dtype": "float64",
         "stats": {
          "unique_count": 52,
          "nan_count": 0,
          "min": "122619.04761904762",
          "max": "1129563.492063492",
          "histogram": [
           {
            "bin_start": 122619.04761904762,
            "bin_end": 223313.49206349207,
            "count": 6
           },
           {
            "bin_start": 223313.49206349207,
            "bin_end": 324007.9365079365,
            "count": 24
           },
           {
            "bin_start": 324007.9365079365,
            "bin_end": 424702.380952381,
            "count": 12
           },
           {
            "bin_start": 424702.380952381,
            "bin_end": 525396.8253968254,
            "count": 2
           },
           {
            "bin_start": 525396.8253968254,
            "bin_end": 626091.2698412698,
            "count": 3
           },
           {
            "bin_start": 626091.2698412698,
            "bin_end": 726785.7142857143,
            "count": 3
           },
           {
            "bin_start": 726785.7142857143,
            "bin_end": 827480.1587301587,
            "count": 1
           },
           {
            "bin_start": 827480.1587301587,
            "bin_end": 928174.6031746032,
            "count": 0
           },
           {
            "bin_start": 928174.6031746032,
            "bin_end": 1028869.0476190477,
            "count": 0
           },
           {
            "bin_start": 1028869.0476190477,
            "bin_end": 1129563.492063492,
            "count": 1
           }
          ]
         }
        },
        {
         "name": "_deepnote_index_column",
         "dtype": "object"
        }
       ],
       "rows": [
        {
         "approved": 0.5,
         "property_value": 288125,
         "_deepnote_index_column": "AK"
        },
        {
         "approved": 0.6090909090909091,
         "property_value": 241385.5421686747,
         "_deepnote_index_column": "AL"
        },
        {
         "approved": 0.559322033898305,
         "property_value": 189545.45454545456,
         "_deepnote_index_column": "AR"
        },
        {
         "approved": 0.49888641425389757,
         "property_value": 304318.1818181818,
         "_deepnote_index_column": "AZ"
        },
        {
         "approved": 0.5255344418052257,
         "property_value": 774469.4178334562,
         "_deepnote_index_column": "CA"
        },
        {
         "approved": 0.5671296296296297,
         "property_value": 475085.9598853868,
         "_deepnote_index_column": "CO"
        },
        {
         "approved": 0.4645669291338583,
         "property_value": 349631.5789473684,
         "_deepnote_index_column": "CT"
        },
        {
         "approved": 0.40625,
         "property_value": 705000,
         "_deepnote_index_column": "DC"
        },
        {
         "approved": 0.4339622641509434,
         "property_value": 305769.23076923075,
         "_deepnote_index_column": "DE"
        },
        {
         "approved": 0.48063380281690143,
         "property_value": 306179.71334068355,
         "_deepnote_index_column": "FL"
        }
       ]
      },
      "text/plain": "            approved  property_value\nstate_code                          \nAK          0.500000    2.881250e+05\nAL          0.609091    2.413855e+05\nAR          0.559322    1.895455e+05\nAZ          0.498886    3.043182e+05\nCA          0.525534    7.744694e+05\nCO          0.567130    4.750860e+05\nCT          0.464567    3.496316e+05\nDC          0.406250    7.050000e+05\nDE          0.433962    3.057692e+05\nFL          0.480634    3.061797e+05\nGA          0.501792    4.544379e+05\nHI          0.452830    6.409524e+05\nIA          0.682171    2.183333e+05\nID          0.607407    3.095000e+05\nIL          0.582677    3.267718e+05\nIN          0.598746    1.129563e+06\nKS          0.611765    2.378125e+05\nKY          0.551351    2.091096e+05\nLA          0.505882    2.792963e+05\nMA          0.605263    5.615704e+05\nMD          0.494915    4.030357e+05\nME          0.579710    2.650000e+05\nMI          0.603412    3.029620e+05\nMN          0.560000    2.788073e+05\nMO          0.542662    2.502423e+05\nMS          0.583333    2.276316e+05\nMT          0.660000    3.506818e+05\nNC          0.568702    3.276777e+05\nND          0.631579    2.416667e+05\nNE          0.691176    1.922222e+05\nNH          0.590909    3.210784e+05\nNJ          0.493703    4.200165e+05\nNM          0.562500    2.253448e+05\nNV          0.515957    3.457432e+05\nNY          0.570093    6.803020e+05\nOH          0.553506    2.569222e+05\nOK          0.576923    2.330833e+05\nOR          0.558685    4.160059e+05\nPA          0.569149    2.408658e+05\nPR          0.520000    1.226190e+05\nRI          0.629630    3.435106e+05\nSC          0.578125    2.838318e+05\nSD          0.470588    3.183333e+05\nTN          0.488372    2.750735e+05\nTX          0.503128    2.865057e+05\nUT          0.558252    3.643567e+05\nVA          0.507282    3.493988e+05\nVT          0.642857    3.531818e+05\nWA          0.581498    5.292458e+05\nWI          0.661417    2.283173e+05\nWV          0.516667    1.723469e+05\nWY          0.560000    6.255263e+05",
      "text/html": "<div>\n<style scoped>\n    .dataframe tbody tr th:only-of-type {\n        vertical-align: middle;\n    }\n\n    .dataframe tbody tr th {\n        vertical-align: top;\n    }\n\n    .dataframe thead th {\n        text-align: right;\n    }\n</style>\n<table border=\"1\" class=\"dataframe\">\n  <thead>\n    <tr style=\"text-align: right;\">\n      <th></th>\n      <th>approved</th>\n      <th>property_value</th>\n    </tr>\n    <tr>\n      <th>state_code</th>\n      <th></th>\n      <th></th>\n    </tr>\n  </thead>\n  <tbody>\n    <tr>\n      <th>AK</th>\n      <td>0.500000</td>\n      <td>2.881250e+05</td>\n    </tr>\n    <tr>\n      <th>AL</th>\n      <td>0.609091</td>\n      <td>2.413855e+05</td>\n    </tr>\n    <tr>\n      <th>AR</th>\n      <td>0.559322</td>\n      <td>1.895455e+05</td>\n    </tr>\n    <tr>\n      <th>AZ</th>\n      <td>0.498886</td>\n      <td>3.043182e+05</td>\n    </tr>\n    <tr>\n      <th>CA</th>\n      <td>0.525534</td>\n      <td>7.744694e+05</td>\n    </tr>\n    <tr>\n      <th>CO</th>\n      <td>0.567130</td>\n      <td>4.750860e+05</td>\n    </tr>\n    <tr>\n      <th>CT</th>\n      <td>0.464567</td>\n      <td>3.496316e+05</td>\n    </tr>\n    <tr>\n      <th>DC</th>\n      <td>0.406250</td>\n      <td>7.050000e+05</td>\n    </tr>\n    <tr>\n      <th>DE</th>\n      <td>0.433962</td>\n      <td>3.057692e+05</td>\n    </tr>\n    <tr>\n      <th>FL</th>\n      <td>0.480634</td>\n      <td>3.061797e+05</td>\n    </tr>\n    <tr>\n      <th>GA</th>\n      <td>0.501792</td>\n      <td>4.544379e+05</td>\n    </tr>\n    <tr>\n      <th>HI</th>\n      <td>0.452830</td>\n      <td>6.409524e+05</td>\n    </tr>\n    <tr>\n      <th>IA</th>\n      <td>0.682171</td>\n      <td>2.183333e+05</td>\n    </tr>\n    <tr>\n      <th>ID</th>\n      <td>0.607407</td>\n      <td>3.095000e+05</td>\n    </tr>\n    <tr>\n      <th>IL</th>\n      <td>0.582677</td>\n      <td>3.267718e+05</td>\n    </tr>\n    <tr>\n      <th>IN</th>\n      <td>0.598746</td>\n      <td>1.129563e+06</td>\n    </tr>\n    <tr>\n      <th>KS</th>\n      <td>0.611765</td>\n      <td>2.378125e+05</td>\n    </tr>\n    <tr>\n      <th>KY</th>\n      <td>0.551351</td>\n      <td>2.091096e+05</td>\n    </tr>\n    <tr>\n      <th>LA</th>\n      <td>0.505882</td>\n      <td>2.792963e+05</td>\n    </tr>\n    <tr>\n      <th>MA</th>\n      <td>0.605263</td>\n      <td>5.615704e+05</td>\n    </tr>\n    <tr>\n      <th>MD</th>\n      <td>0.494915</td>\n      <td>4.030357e+05</td>\n    </tr>\n    <tr>\n      <th>ME</th>\n      <td>0.579710</td>\n      <td>2.650000e+05</td>\n    </tr>\n    <tr>\n      <th>MI</th>\n      <td>0.603412</td>\n      <td>3.029620e+05</td>\n    </tr>\n    <tr>\n      <th>MN</th>\n      <td>0.560000</td>\n      <td>2.788073e+05</td>\n    </tr>\n    <tr>\n      <th>MO</th>\n      <td>0.542662</td>\n      <td>2.502423e+05</td>\n    </tr>\n    <tr>\n      <th>MS</th>\n      <td>0.583333</td>\n      <td>2.276316e+05</td>\n    </tr>\n    <tr>\n      <th>MT</th>\n      <td>0.660000</td>\n      <td>3.506818e+05</td>\n    </tr>\n    <tr>\n      <th>NC</th>\n      <td>0.568702</td>\n      <td>3.276777e+05</td>\n    </tr>\n    <tr>\n      <th>ND</th>\n      <td>0.631579</td>\n      <td>2.416667e+05</td>\n    </tr>\n    <tr>\n      <th>NE</th>\n      <td>0.691176</td>\n      <td>1.922222e+05</td>\n    </tr>\n    <tr>\n      <th>NH</th>\n      <td>0.590909</td>\n      <td>3.210784e+05</td>\n    </tr>\n    <tr>\n      <th>NJ</th>\n      <td>0.493703</td>\n      <td>4.200165e+05</td>\n    </tr>\n    <tr>\n      <th>NM</th>\n      <td>0.562500</td>\n      <td>2.253448e+05</td>\n    </tr>\n    <tr>\n      <th>NV</th>\n      <td>0.515957</td>\n      <td>3.457432e+05</td>\n    </tr>\n    <tr>\n      <th>NY</th>\n      <td>0.570093</td>\n      <td>6.803020e+05</td>\n    </tr>\n    <tr>\n      <th>OH</th>\n      <td>0.553506</td>\n      <td>2.569222e+05</td>\n    </tr>\n    <tr>\n      <th>OK</th>\n      <td>0.576923</td>\n      <td>2.330833e+05</td>\n    </tr>\n    <tr>\n      <th>OR</th>\n      <td>0.558685</td>\n      <td>4.160059e+05</td>\n    </tr>\n    <tr>\n      <th>PA</th>\n      <td>0.569149</td>\n      <td>2.408658e+05</td>\n    </tr>\n    <tr>\n      <th>PR</th>\n      <td>0.520000</td>\n      <td>1.226190e+05</td>\n    </tr>\n    <tr>\n      <th>RI</th>\n      <td>0.629630</td>\n      <td>3.435106e+05</td>\n    </tr>\n    <tr>\n      <th>SC</th>\n      <td>0.578125</td>\n      <td>2.838318e+05</td>\n    </tr>\n    <tr>\n      <th>SD</th>\n      <td>0.470588</td>\n      <td>3.183333e+05</td>\n    </tr>\n    <tr>\n      <th>TN</th>\n      <td>0.488372</td>\n      <td>2.750735e+05</td>\n    </tr>\n    <tr>\n      <th>TX</th>\n      <td>0.503128</td>\n      <td>2.865057e+05</td>\n    </tr>\n    <tr>\n      <th>UT</th>\n      <td>0.558252</td>\n      <td>3.643567e+05</td>\n    </tr>\n    <tr>\n      <th>VA</th>\n      <td>0.507282</td>\n      <td>3.493988e+05</td>\n    </tr>\n    <tr>\n      <th>VT</th>\n      <td>0.642857</td>\n      <td>3.531818e+05</td>\n    </tr>\n    <tr>\n      <th>WA</th>\n      <td>0.581498</td>\n      <td>5.292458e+05</td>\n    </tr>\n    <tr>\n      <th>WI</th>\n      <td>0.661417</td>\n      <td>2.283173e+05</td>\n    </tr>\n    <tr>\n      <th>WV</th>\n      <td>0.516667</td>\n      <td>1.723469e+05</td>\n    </tr>\n    <tr>\n      <th>WY</th>\n      <td>0.560000</td>\n      <td>6.255263e+05</td>\n    </tr>\n  </tbody>\n</table>\n</div>"
     },
     "metadata": {}
    }
   ],
   "execution_count": 36
  },
  {
   "cell_type": "code",
   "source": "plt.plot(x = new['approved'], y = new['property_value'])\nplt.figure(figsize=(40,40))\nplt.show   ",
   "metadata": {
    "cell_id": "f02d3c6922f14706bcbd8ee79d23c4cf",
    "tags": [],
    "deepnote_to_be_reexecuted": false,
    "source_hash": "99e20de3",
    "execution_start": 1648659060397,
    "execution_millis": 484,
    "deepnote_cell_type": "code",
    "deepnote_cell_height": 465.109375,
    "deepnote_output_heights": [
     null,
     253.984375
    ]
   },
   "outputs": [
    {
     "output_type": "error",
     "ename": "TypeError",
     "evalue": "plot got an unexpected keyword argument 'x'",
     "traceback": [
      "\u001b[0;31m---------------------------------------------------------------------------\u001b[0m",
      "\u001b[0;31mTypeError\u001b[0m                                 Traceback (most recent call last)",
      "\u001b[0;32m<ipython-input-39-cfeac84a70d3>\u001b[0m in \u001b[0;36m<module>\u001b[0;34m\u001b[0m\n\u001b[0;32m----> 1\u001b[0;31m \u001b[0mplt\u001b[0m\u001b[0;34m.\u001b[0m\u001b[0mplot\u001b[0m\u001b[0;34m(\u001b[0m\u001b[0mx\u001b[0m \u001b[0;34m=\u001b[0m \u001b[0mnew\u001b[0m\u001b[0;34m[\u001b[0m\u001b[0;34m'approved'\u001b[0m\u001b[0;34m]\u001b[0m\u001b[0;34m,\u001b[0m \u001b[0my\u001b[0m \u001b[0;34m=\u001b[0m \u001b[0mnew\u001b[0m\u001b[0;34m[\u001b[0m\u001b[0;34m'property_value'\u001b[0m\u001b[0;34m]\u001b[0m\u001b[0;34m)\u001b[0m\u001b[0;34m\u001b[0m\u001b[0;34m\u001b[0m\u001b[0m\n\u001b[0m\u001b[1;32m      2\u001b[0m \u001b[0mplt\u001b[0m\u001b[0;34m.\u001b[0m\u001b[0mfigure\u001b[0m\u001b[0;34m(\u001b[0m\u001b[0mfigsize\u001b[0m\u001b[0;34m=\u001b[0m\u001b[0;34m(\u001b[0m\u001b[0;36m40\u001b[0m\u001b[0;34m,\u001b[0m\u001b[0;36m40\u001b[0m\u001b[0;34m)\u001b[0m\u001b[0;34m)\u001b[0m\u001b[0;34m\u001b[0m\u001b[0;34m\u001b[0m\u001b[0m\n\u001b[1;32m      3\u001b[0m \u001b[0mplt\u001b[0m\u001b[0;34m.\u001b[0m\u001b[0mshow\u001b[0m\u001b[0;34m\u001b[0m\u001b[0;34m\u001b[0m\u001b[0m\n",
      "\u001b[0;32m/shared-libs/python3.7/py/lib/python3.7/site-packages/matplotlib/pyplot.py\u001b[0m in \u001b[0;36mplot\u001b[0;34m(scalex, scaley, data, *args, **kwargs)\u001b[0m\n\u001b[1;32m   2757\u001b[0m     return gca().plot(\n\u001b[1;32m   2758\u001b[0m         \u001b[0;34m*\u001b[0m\u001b[0margs\u001b[0m\u001b[0;34m,\u001b[0m \u001b[0mscalex\u001b[0m\u001b[0;34m=\u001b[0m\u001b[0mscalex\u001b[0m\u001b[0;34m,\u001b[0m \u001b[0mscaley\u001b[0m\u001b[0;34m=\u001b[0m\u001b[0mscaley\u001b[0m\u001b[0;34m,\u001b[0m\u001b[0;34m\u001b[0m\u001b[0;34m\u001b[0m\u001b[0m\n\u001b[0;32m-> 2759\u001b[0;31m         **({\"data\": data} if data is not None else {}), **kwargs)\n\u001b[0m\u001b[1;32m   2760\u001b[0m \u001b[0;34m\u001b[0m\u001b[0m\n\u001b[1;32m   2761\u001b[0m \u001b[0;34m\u001b[0m\u001b[0m\n",
      "\u001b[0;32m/shared-libs/python3.7/py/lib/python3.7/site-packages/matplotlib/axes/_axes.py\u001b[0m in \u001b[0;36mplot\u001b[0;34m(self, scalex, scaley, data, *args, **kwargs)\u001b[0m\n\u001b[1;32m   1630\u001b[0m         \"\"\"\n\u001b[1;32m   1631\u001b[0m         \u001b[0mkwargs\u001b[0m \u001b[0;34m=\u001b[0m \u001b[0mcbook\u001b[0m\u001b[0;34m.\u001b[0m\u001b[0mnormalize_kwargs\u001b[0m\u001b[0;34m(\u001b[0m\u001b[0mkwargs\u001b[0m\u001b[0;34m,\u001b[0m \u001b[0mmlines\u001b[0m\u001b[0;34m.\u001b[0m\u001b[0mLine2D\u001b[0m\u001b[0;34m)\u001b[0m\u001b[0;34m\u001b[0m\u001b[0;34m\u001b[0m\u001b[0m\n\u001b[0;32m-> 1632\u001b[0;31m         \u001b[0mlines\u001b[0m \u001b[0;34m=\u001b[0m \u001b[0;34m[\u001b[0m\u001b[0;34m*\u001b[0m\u001b[0mself\u001b[0m\u001b[0;34m.\u001b[0m\u001b[0m_get_lines\u001b[0m\u001b[0;34m(\u001b[0m\u001b[0;34m*\u001b[0m\u001b[0margs\u001b[0m\u001b[0;34m,\u001b[0m \u001b[0mdata\u001b[0m\u001b[0;34m=\u001b[0m\u001b[0mdata\u001b[0m\u001b[0;34m,\u001b[0m \u001b[0;34m**\u001b[0m\u001b[0mkwargs\u001b[0m\u001b[0;34m)\u001b[0m\u001b[0;34m]\u001b[0m\u001b[0;34m\u001b[0m\u001b[0;34m\u001b[0m\u001b[0m\n\u001b[0m\u001b[1;32m   1633\u001b[0m         \u001b[0;32mfor\u001b[0m \u001b[0mline\u001b[0m \u001b[0;32min\u001b[0m \u001b[0mlines\u001b[0m\u001b[0;34m:\u001b[0m\u001b[0;34m\u001b[0m\u001b[0;34m\u001b[0m\u001b[0m\n\u001b[1;32m   1634\u001b[0m             \u001b[0mself\u001b[0m\u001b[0;34m.\u001b[0m\u001b[0madd_line\u001b[0m\u001b[0;34m(\u001b[0m\u001b[0mline\u001b[0m\u001b[0;34m)\u001b[0m\u001b[0;34m\u001b[0m\u001b[0;34m\u001b[0m\u001b[0m\n",
      "\u001b[0;32m/shared-libs/python3.7/py/lib/python3.7/site-packages/matplotlib/axes/_base.py\u001b[0m in \u001b[0;36m__call__\u001b[0;34m(self, data, *args, **kwargs)\u001b[0m\n\u001b[1;32m    246\u001b[0m             \u001b[0;32mif\u001b[0m \u001b[0mpos_only\u001b[0m \u001b[0;32min\u001b[0m \u001b[0mkwargs\u001b[0m\u001b[0;34m:\u001b[0m\u001b[0;34m\u001b[0m\u001b[0;34m\u001b[0m\u001b[0m\n\u001b[1;32m    247\u001b[0m                 raise TypeError(\"{} got an unexpected keyword argument {!r}\"\n\u001b[0;32m--> 248\u001b[0;31m                                 .format(self.command, pos_only))\n\u001b[0m\u001b[1;32m    249\u001b[0m \u001b[0;34m\u001b[0m\u001b[0m\n\u001b[1;32m    250\u001b[0m         \u001b[0;32mif\u001b[0m \u001b[0;32mnot\u001b[0m \u001b[0margs\u001b[0m\u001b[0;34m:\u001b[0m\u001b[0;34m\u001b[0m\u001b[0;34m\u001b[0m\u001b[0m\n",
      "\u001b[0;31mTypeError\u001b[0m: plot got an unexpected keyword argument 'x'"
     ]
    },
    {
     "data": {
      "text/plain": "<Figure size 432x288 with 1 Axes>",
      "image/png": "[encoded data removed]"
     },
     "metadata": {
      "needs_background": "light",
      "image/png": {
       "width": 380,
       "height": 252
      }
     },
     "output_type": "display_data"
    }
   ],
   "execution_count": 39
  },
  {
   "cell_type": "code",
   "source": "plot = new.plot.scatter(x='approved',y='property_value', c='DarkBlue')",
   "metadata": {
    "cell_id": "36a777843aa64888a61fd4f1e42618bf",
    "tags": [],
    "deepnote_to_be_reexecuted": false,
    "source_hash": "4b15c0d5",
    "execution_start": 1648659259398,
    "execution_millis": 475,
    "deepnote_cell_type": "code",
    "deepnote_cell_height": 371.921875,
    "deepnote_output_heights": [
     274.984375
    ]
   },
   "outputs": [
    {
     "data": {
      "text/plain": "<Figure size 432x288 with 1 Axes>",
      "image/png": "[encoded data removed]"
     },
     "metadata": {
      "needs_background": "light",
      "image/png": {
       "width": 392,
       "height": 273
      }
     },
     "output_type": "display_data"
    }
   ],
   "execution_count": 41
  },
  {
   "cell_type": "code",
   "source": "plot2 = plt.scatter(data = new,x='approved',y='property_value')",
   "metadata": {
    "cell_id": "6b15d0895a6c4910911899e38c9c25fd",
    "tags": [],
    "deepnote_to_be_reexecuted": false,
    "source_hash": "a906c8d0",
    "execution_start": 1648659485741,
    "execution_millis": 474,
    "deepnote_cell_type": "code",
    "deepnote_cell_height": 357.921875,
    "deepnote_output_heights": [
     260.984375
    ]
   },
   "outputs": [
    {
     "data": {
      "text/plain": "<Figure size 432x288 with 1 Axes>",
      "image/png": "[encoded data removed]"
     },
     "metadata": {
      "needs_background": "light",
      "image/png": {
       "width": 377,
       "height": 259
      }
     },
     "output_type": "display_data"
    }
   ],
   "execution_count": 46
  },
  {
   "cell_type": "code",
   "source": "selected_sex = 'Joint'\nselected_race = 'Asian'",
   "metadata": {
    "cell_id": "c27fe26405fc45bbb55d67453ec5f247",
    "tags": [],
    "deepnote_to_be_reexecuted": false,
    "source_hash": "ac5b4218",
    "execution_start": 1648655643433,
    "execution_millis": 4,
    "deepnote_cell_type": "code",
    "deepnote_cell_height": 98.953125
   },
   "outputs": [],
   "execution_count": null
  },
  {
   "cell_type": "markdown",
   "source": "<a style='text-decoration:none;line-height:16px;display:flex;color:#5B5B62;padding:10px;justify-content:end;' href='https://deepnote.com?utm_source=created-in-deepnote-cell&projectId=3922e254-3820-45f3-87dc-836f45a4045d' target=\"_blank\">\n<img alt='Created in deepnote.com' style='display:inline;max-height:16px;margin:0px;margin-right:7.5px;' src='data:image/svg+xml;base64,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' > </img>\nCreated in <span style='font-weight:600;margin-left:4px;'>Deepnote</span></a>",
   "metadata": {
    "tags": [],
    "created_in_deepnote_cell": true,
    "deepnote_cell_type": "markdown"
   }
  }
 ],
 "nbformat": 4,
 "nbformat_minor": 2,
 "metadata": {
  "orig_nbformat": 2,
  "deepnote": {
   "is_reactive": false
  },
  "deepnote_notebook_id": "f4147d02-03f8-4b46-a96f-c806aa96d8bc",
  "deepnote_execution_queue": []
 }
}